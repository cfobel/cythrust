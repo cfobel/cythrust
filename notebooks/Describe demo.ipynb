{
 "metadata": {
  "name": "",
  "signature": "sha256:21e33eca24bcf2e8100db5f89c4bad3ee690ec0307205417ff42f36f5af20c40"
 },
 "nbformat": 3,
 "nbformat_minor": 0,
 "worksheets": [
  {
   "cells": [
    {
     "cell_type": "code",
     "collapsed": false,
     "input": [
      "from cythrust.describe import describe\n",
      "import numpy as np\n",
      "import pandas as pd\n",
      "\n",
      "np.random.seed(42)\n",
      "N = 1e6\n",
      "v = np.random.randint(1, 5, size=N).astype(np.uint8)\n",
      "%timeit describe(v)\n",
      "%timeit pd.Series(v).describe()\n",
      "print describe(v).str_si()"
     ],
     "language": "python",
     "metadata": {},
     "outputs": [
      {
       "output_type": "stream",
       "stream": "stdout",
       "text": [
        "100 loops, best of 3: 4.09 ms per loop\n",
        "10 loops, best of 3: 165 ms per loop"
       ]
      },
      {
       "output_type": "stream",
       "stream": "stdout",
       "text": [
        "\n",
        "|Stat             | Value           |\n",
        "|-----------------|----------------:|\n",
        "|      $\\sum{x}$  |            2.50M|\n",
        "|      $\\mu_{x}$  |            2.50 |\n",
        "|   $\\sigma_{x}$  |            1.12 |\n",
        "|            min  |            1.00 |\n",
        "|            max  |            4.00 |\n",
        "|          count  |            1.00M|\n",
        "| non-zero count  |            1.00M|\n",
        "\n"
       ]
      }
     ],
     "prompt_number": 3
    },
    {
     "cell_type": "code",
     "collapsed": false,
     "input": [
      "pd.Series(v).describe()"
     ],
     "language": "python",
     "metadata": {},
     "outputs": [
      {
       "metadata": {},
       "output_type": "pyout",
       "prompt_number": 4,
       "text": [
        "count    1000000.000000\n",
        "mean           2.499865\n",
        "std            1.118281\n",
        "min            1.000000\n",
        "25%            1.000000\n",
        "50%            3.000000\n",
        "75%            4.000000\n",
        "max            4.000000\n",
        "dtype: float64"
       ]
      }
     ],
     "prompt_number": 4
    }
   ],
   "metadata": {}
  }
 ]
}