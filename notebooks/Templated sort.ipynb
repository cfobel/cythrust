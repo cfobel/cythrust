{
 "metadata": {
  "name": "",
  "signature": "sha256:6c51110a2c9d0f730116631cfffd72d7d9a28fa285205f01a5d44ddece105bfd"
 },
 "nbformat": 3,
 "nbformat_minor": 0,
 "worksheets": [
  {
   "cells": [
    {
     "cell_type": "code",
     "collapsed": false,
     "input": [
      "code =  '''\n",
      "from cythrust.device_vector cimport (DeviceVectorViewUint8,\n",
      "                                     DeviceVectorViewUint32)\n",
      "from cythrust.thrust.sort cimport sort_by_key as c_sort_by_key\n",
      "from cythrust.thrust.iterator.zip_iterator cimport make_zip_iterator\n",
      "from cythrust.thrust.tuple cimport make_tuple3\n",
      "                                     \n",
      "                                     \n",
      "def sort_by_key(DeviceVectorViewUint8 keys,\n",
      "                DeviceVectorViewUint32 v1,\n",
      "                DeviceVectorViewUint8 v2,\n",
      "                DeviceVectorViewUint32 v3):\n",
      "    c_sort_by_key(keys._vector.begin(), keys._vector.end(),\n",
      "                  make_zip_iterator(\n",
      "                      make_tuple3(\n",
      "                          v1._vector.begin(),\n",
      "                          v2._vector.begin(),\n",
      "                          v3._vector.begin())))\n",
      "'''\n",
      "\n",
      "module_dir, module_name = context.inline_pyx_module(\n",
      "    code, pyx_kwargs={'cplus': True},\n",
      "    define_macros=[('THRUST_DEVICE_SYSTEM',\n",
      "                    'THRUST_DEVICE_SYSTEM_CPP')])\n",
      "exec('import %s as bar' % module_name)"
     ],
     "language": "python",
     "metadata": {},
     "outputs": [],
     "prompt_number": 7
    },
    {
     "cell_type": "code",
     "collapsed": false,
     "input": [
      "import sys\n",
      "import numpy as np\n",
      "import pandas as pd\n",
      "import functools32\n",
      "\n",
      "from cythrust import Context, DeviceDataFrame\n",
      "from cythrust.timeit_helpers import auto_timeit\n",
      "\n",
      "\n",
      "def create_test_dataframe(system, N, **kwargs):\n",
      "    df = pd.DataFrame({'a': np.random.randint(0, 10, size=N)\n",
      "                       .astype('int32'),\n",
      "                       'b': np.random.randint(0, 10, size=N)\n",
      "                       .astype('int32'),\n",
      "                       'c': np.empty(N, dtype='int32')},\n",
      "                      columns=list('abc'))\n",
      "\n",
      "    return DeviceDataFrame(\n",
      "        df, context=Context(device_system='THRUST_DEVICE_SYSTEM_%s'\n",
      "                            % system.upper(), **kwargs))"
     ],
     "language": "python",
     "metadata": {},
     "outputs": [],
     "prompt_number": 1
    },
    {
     "cell_type": "code",
     "collapsed": false,
     "input": [
      "def get_func(df):\n",
      "    ctx = df._context\n",
      "    module_path, module_name = df._context.inline_pyx_module('''\n",
      "from libc.stdint cimport %s\n",
      "from cythrust.thrust.functional cimport multiplies\n",
      "from cythrust.thrust.transform cimport transform2\n",
      "from %s.device_vector cimport DeviceVectorView as DeviceVectorView1\n",
      "from %s.device_vector cimport DeviceVectorView as DeviceVectorView2\n",
      "from %s.device_vector cimport DeviceVectorView as DeviceVectorView3\n",
      "\n",
      "def foo(DeviceVectorView1 a, DeviceVectorView2 b, DeviceVectorView3 c):\n",
      "    cdef multiplies[%s] mult_\n",
      "    transform2(a._vector.begin(), a._vector.end(), b._vector.begin(),\n",
      "               c._vector.begin(), mult_)\n",
      "    ''' % tuple([df['c'].ctype] +\n",
      "                [ctx.get_device_vector_module(df[k].dtype)\n",
      "                 for k in 'abc'] + [df['c'].ctype]))\n",
      "    exec('from %s import foo' % module_name)\n",
      "    return foo"
     ],
     "language": "python",
     "metadata": {},
     "outputs": [],
     "prompt_number": 2
    },
    {
     "cell_type": "code",
     "collapsed": false,
     "input": [
      "df = create_test_dataframe('tbb', 10)\n",
      "tbb_foo = get_func(df)\n",
      "df = create_test_dataframe('cpp', 10)\n",
      "cpp_foo = get_func(df)"
     ],
     "language": "python",
     "metadata": {},
     "outputs": [
      {
       "output_type": "stream",
       "stream": "stdout",
       "text": [
        "\"/tmp/cythrust__MVi6Yi.pxd\" is not a file.\n",
        "\"/tmp/cythrust__g7z8jJ.pxd\" is not a file."
       ]
      },
      {
       "output_type": "stream",
       "stream": "stdout",
       "text": [
        "\n"
       ]
      }
     ],
     "prompt_number": 3
    },
    {
     "cell_type": "code",
     "collapsed": false,
     "input": [
      "from collections import OrderedDict\n",
      "from IPython.display import display\n",
      "import __builtin__\n",
      "\n",
      "\n",
      "def test_transform2_runtimes(system, N, number=0):\n",
      "    df_ = create_test_dataframe(system, N)\n",
      "    foo = eval('%s_foo' % system)\n",
      "    statement = \"foo(*[df_[k] for k in 'abc'])\"\n",
      "    __builtin__.__dict__.update(locals())\n",
      "    return auto_timeit(statement, '', number=number)"
     ],
     "language": "python",
     "metadata": {},
     "outputs": [],
     "prompt_number": 28
    },
    {
     "cell_type": "code",
     "collapsed": false,
     "input": [
      "display(test_transform2_runtime('cpp', 1e6, number=100))\n",
      "display(test_transform2_runtime('tbb', 1e6, number=100))"
     ],
     "language": "python",
     "metadata": {},
     "outputs": [
      {
       "metadata": {},
       "output_type": "display_data",
       "text": [
        "0.0012724399566650391"
       ]
      },
      {
       "metadata": {},
       "output_type": "display_data",
       "text": [
        "0.0011911296844482422"
       ]
      }
     ],
     "prompt_number": 21
    },
    {
     "cell_type": "code",
     "collapsed": false,
     "input": [
      "# Ns = np.logspace(2, 7, num=10)\n",
      "Ns = np.linspace(10, 1e7, num=10)"
     ],
     "language": "python",
     "metadata": {},
     "outputs": [],
     "prompt_number": 23
    },
    {
     "cell_type": "code",
     "collapsed": false,
     "input": [
      "%matplotlib inline"
     ],
     "language": "python",
     "metadata": {},
     "outputs": [],
     "prompt_number": 25
    },
    {
     "cell_type": "code",
     "collapsed": false,
     "input": [
      "keys = ['cpp', 'tbb']\n",
      "\n",
      "result_frames = []\n",
      "\n",
      "for k in keys:\n",
      "    for N in Ns:\n",
      "        df = pd.DataFrame(test_transform2_runtime(k, N, number=10),\n",
      "                          columns=['runtime'])\n",
      "        df['system'] = k\n",
      "        df['N'] = N\n",
      "        result_frames.append(df)\n",
      "runtimes = pd.concat(result_frames)\n",
      "# runtimes = pd.DataFrame(dict([(k, [test_transform2_runtime(k, N,\n",
      "#                                                            number=100)\n",
      "#                                    for N in Ns])\n",
      "#                               for k in keys]), columns=keys)\n",
      "# runtimes.set_index(Ns, inplace=True)"
     ],
     "language": "python",
     "metadata": {},
     "outputs": [],
     "prompt_number": 30
    },
    {
     "cell_type": "code",
     "collapsed": false,
     "input": [
      "system_runtimes = runtimes.groupby(['system', 'N']).min()\n",
      "# pd.set_eng_float_format(accuracy=3, use_eng_prefix=True)\n",
      "# runtimes.groupby(['system', 'N']).boxplot(column=['runtime'],\n",
      "#                                           figsize=(15, 15))\n",
      "# runtimes"
     ],
     "language": "python",
     "metadata": {},
     "outputs": [],
     "prompt_number": 45
    },
    {
     "cell_type": "code",
     "collapsed": false,
     "input": [
      "(system_runtimes.loc['cpp'] / system_runtimes.loc['tbb']).plot()"
     ],
     "language": "python",
     "metadata": {},
     "outputs": [
      {
       "metadata": {},
       "output_type": "pyout",
       "prompt_number": 48,
       "text": [
        "<matplotlib.axes.AxesSubplot at 0x7f033d493850>"
       ]
      },
      {
       "metadata": {},
       "output_type": "display_data",
       "png": "[encoded data removed]",
       "text": [
        "<matplotlib.figure.Figure at 0x7f03401b1450>"
       ]
      }
     ],
     "prompt_number": 48
    },
    {
     "cell_type": "code",
     "collapsed": false,
     "input": [
      "from cythrust import DeviceDataFrame, Context\n",
      "from cythrust.timeit_helpers import auto_timeit\n",
      "import numpy as np\n",
      "import pandas as pd\n",
      "from datetime import datetime\n",
      "\n",
      "from IPython.display import display"
     ],
     "language": "python",
     "metadata": {},
     "outputs": [],
     "prompt_number": 1
    },
    {
     "cell_type": "code",
     "collapsed": false,
     "input": [
      "np.random.seed(0)\n",
      "N = 1e6\n",
      "# N = 10\n",
      "host_df = pd.DataFrame({'a': np.random.randint(10, size=N)\n",
      "                        .astype('float32'),\n",
      "                        'b': np.random.randint(10, size=N)\n",
      "                        .astype('int32'),\n",
      "                        'c': np.random.randint(3, size=N)\n",
      "                        .astype('float32')},\n",
      "                       columns=list('abc'))"
     ],
     "language": "python",
     "metadata": {},
     "outputs": [],
     "prompt_number": 2
    },
    {
     "cell_type": "code",
     "collapsed": false,
     "input": [
      "context = Context(device_system='THRUST_DEVICE_SYSTEM_TBB')"
     ],
     "language": "python",
     "metadata": {},
     "outputs": [],
     "prompt_number": 3
    },
    {
     "cell_type": "code",
     "collapsed": false,
     "input": [
      "pd.set_eng_float_format(accuracy=3, use_eng_prefix=True)\n",
      "df = DeviceDataFrame(host_df, context=context)\n",
      "display(df.df[:10].T)"
     ],
     "language": "python",
     "metadata": {},
     "outputs": [
      {
       "html": [
        "<div style=\"max-height:1000px;max-width:1500px;overflow:auto;\">\n",
        "<table border=\"1\" class=\"dataframe\">\n",
        "  <thead>\n",
        "    <tr style=\"text-align: right;\">\n",
        "      <th></th>\n",
        "      <th>0</th>\n",
        "      <th>1</th>\n",
        "      <th>2</th>\n",
        "      <th>3</th>\n",
        "      <th>4</th>\n",
        "      <th>5</th>\n",
        "      <th>6</th>\n",
        "      <th>7</th>\n",
        "      <th>8</th>\n",
        "      <th>9</th>\n",
        "    </tr>\n",
        "  </thead>\n",
        "  <tbody>\n",
        "    <tr>\n",
        "      <th>a</th>\n",
        "      <td> 5.000</td>\n",
        "      <td> 0.000</td>\n",
        "      <td> 3.000</td>\n",
        "      <td> 3.000</td>\n",
        "      <td> 7.000</td>\n",
        "      <td> 9.000</td>\n",
        "      <td> 3.000</td>\n",
        "      <td> 5.000</td>\n",
        "      <td> 2.000</td>\n",
        "      <td> 4.000</td>\n",
        "    </tr>\n",
        "    <tr>\n",
        "      <th>b</th>\n",
        "      <td> 5.000</td>\n",
        "      <td> 4.000</td>\n",
        "      <td> 1.000</td>\n",
        "      <td> 3.000</td>\n",
        "      <td> 7.000</td>\n",
        "      <td> 6.000</td>\n",
        "      <td> 7.000</td>\n",
        "      <td> 1.000</td>\n",
        "      <td> 5.000</td>\n",
        "      <td> 0.000</td>\n",
        "    </tr>\n",
        "    <tr>\n",
        "      <th>c</th>\n",
        "      <td> 2.000</td>\n",
        "      <td> 1.000</td>\n",
        "      <td> 2.000</td>\n",
        "      <td> 1.000</td>\n",
        "      <td> 0.000</td>\n",
        "      <td> 1.000</td>\n",
        "      <td> 2.000</td>\n",
        "      <td> 2.000</td>\n",
        "      <td> 0.000</td>\n",
        "      <td> 1.000</td>\n",
        "    </tr>\n",
        "  </tbody>\n",
        "</table>\n",
        "</div>"
       ],
       "metadata": {},
       "output_type": "display_data",
       "text": [
        "       0      1      2      3      4      5      6      7      8      9\n",
        "a  5.000  0.000  3.000  3.000  7.000  9.000  3.000  5.000  2.000  4.000\n",
        "b  5.000  4.000  1.000  3.000  7.000  6.000  7.000  1.000  5.000  0.000\n",
        "c  2.000  1.000  2.000  1.000  0.000  1.000  2.000  2.000  0.000  1.000"
       ]
      }
     ],
     "prompt_number": 4
    },
    {
     "cell_type": "code",
     "collapsed": false,
     "input": [
      "start = datetime.now()\n",
      "df.sort(['a', 'b'], 'c', stable=False)\n",
      "end = datetime.now()\n",
      "print pd.Series((end - start).total_seconds())\n",
      "display(df.df[:10].T)"
     ],
     "language": "python",
     "metadata": {},
     "outputs": [
      {
       "output_type": "stream",
       "stream": "stdout",
       "text": [
        "\"/tmp/cythrust__D37jCc.pxd\" is not a file.\n",
        "0    4.211\n",
        "dtype: float64"
       ]
      },
      {
       "output_type": "stream",
       "stream": "stdout",
       "text": [
        "\n"
       ]
      },
      {
       "html": [
        "<div style=\"max-height:1000px;max-width:1500px;overflow:auto;\">\n",
        "<table border=\"1\" class=\"dataframe\">\n",
        "  <thead>\n",
        "    <tr style=\"text-align: right;\">\n",
        "      <th></th>\n",
        "      <th>0</th>\n",
        "      <th>1</th>\n",
        "      <th>2</th>\n",
        "      <th>3</th>\n",
        "      <th>4</th>\n",
        "      <th>5</th>\n",
        "      <th>6</th>\n",
        "      <th>7</th>\n",
        "      <th>8</th>\n",
        "      <th>9</th>\n",
        "    </tr>\n",
        "  </thead>\n",
        "  <tbody>\n",
        "    <tr>\n",
        "      <th>a</th>\n",
        "      <td> 7.000</td>\n",
        "      <td> 2.000</td>\n",
        "      <td> 7.000</td>\n",
        "      <td> 8.000</td>\n",
        "      <td> 1.000</td>\n",
        "      <td> 5.000</td>\n",
        "      <td> 8.000</td>\n",
        "      <td> 9.000</td>\n",
        "      <td> 4.000</td>\n",
        "      <td> 3.000</td>\n",
        "    </tr>\n",
        "    <tr>\n",
        "      <th>b</th>\n",
        "      <td> 7.000</td>\n",
        "      <td> 5.000</td>\n",
        "      <td> 4.000</td>\n",
        "      <td> 0.000</td>\n",
        "      <td> 1.000</td>\n",
        "      <td> 3.000</td>\n",
        "      <td> 9.000</td>\n",
        "      <td> 7.000</td>\n",
        "      <td> 8.000</td>\n",
        "      <td> 1.000</td>\n",
        "    </tr>\n",
        "    <tr>\n",
        "      <th>c</th>\n",
        "      <td> 0.000</td>\n",
        "      <td> 0.000</td>\n",
        "      <td> 0.000</td>\n",
        "      <td> 0.000</td>\n",
        "      <td> 0.000</td>\n",
        "      <td> 0.000</td>\n",
        "      <td> 0.000</td>\n",
        "      <td> 0.000</td>\n",
        "      <td> 0.000</td>\n",
        "      <td> 0.000</td>\n",
        "    </tr>\n",
        "  </tbody>\n",
        "</table>\n",
        "</div>"
       ],
       "metadata": {},
       "output_type": "display_data",
       "text": [
        "       0      1      2      3      4      5      6      7      8      9\n",
        "a  7.000  2.000  7.000  8.000  1.000  5.000  8.000  9.000  4.000  3.000\n",
        "b  7.000  5.000  4.000  0.000  1.000  3.000  9.000  7.000  8.000  1.000\n",
        "c  0.000  0.000  0.000  0.000  0.000  0.000  0.000  0.000  0.000  0.000"
       ]
      }
     ],
     "prompt_number": 5
    },
    {
     "cell_type": "code",
     "collapsed": false,
     "input": [
      "result_frames = []\n",
      "\n",
      "tbb_context = Context(device_system='THRUST_DEVICE_SYSTEM_TBB')\n",
      "cpp_context = Context(device_system='THRUST_DEVICE_SYSTEM_CPP')\n",
      "\n",
      "try:\n",
      "    for N in np.logspace(2, 7, num=20):\n",
      "        print N\n",
      "        np.random.seed(0)\n",
      "        host_df = pd.DataFrame({'a': np.random.randint(10, size=N)\n",
      "                                .astype('float32'),\n",
      "                                'b': np.random.randint(10, size=N)\n",
      "                                .astype('int32'),\n",
      "                                'c': np.random.randint(3, size=N)\n",
      "                                .astype('float32')},\n",
      "                               columns=list('abc'))\n",
      "        for context in (tbb_context, cpp_context):\n",
      "            times = []\n",
      "            for i in xrange(100):\n",
      "                df = DeviceDataFrame(host_df, context=context)\n",
      "                start = datetime.now()\n",
      "                df.sort()\n",
      "                end = datetime.now()\n",
      "                times.append((end - start).total_seconds())\n",
      "            result_frame = pd.DataFrame(times, columns=['runtime'])\n",
      "            result_frame['system'] = (context.device_system\n",
      "                                      .split('_')[-1].lower())\n",
      "            result_frame['N'] = N\n",
      "            result_frames.append(result_frame)\n",
      "except KeyboardInterrupt:\n",
      "    pass\n",
      "\n",
      "runtimes = pd.concat(result_frames).groupby(['system', 'N']).min()\n",
      "runtimes.unstack().T.reset_index(level=0, drop=True).plot(figsize=\n",
      "                                                          (10, 6))"
     ],
     "language": "python",
     "metadata": {},
     "outputs": [
      {
       "output_type": "stream",
       "stream": "stdout",
       "text": [
        "100.0\n",
        "\"/tmp/cythrust__mUIO04.pxd\" is not a file.\n",
        "\"/tmp/cythrust__FqYTEs.pxd\" is not a file."
       ]
      },
      {
       "output_type": "stream",
       "stream": "stdout",
       "text": [
        "\n",
        "183.298071083"
       ]
      },
      {
       "output_type": "stream",
       "stream": "stdout",
       "text": [
        "\n",
        "335.981828628"
       ]
      },
      {
       "output_type": "stream",
       "stream": "stdout",
       "text": [
        "\n",
        "615.848211066"
       ]
      },
      {
       "output_type": "stream",
       "stream": "stdout",
       "text": [
        "\n",
        "1128.83789168"
       ]
      },
      {
       "output_type": "stream",
       "stream": "stdout",
       "text": [
        "\n",
        "2069.13808111"
       ]
      },
      {
       "output_type": "stream",
       "stream": "stdout",
       "text": [
        "\n",
        "3792.69019073"
       ]
      },
      {
       "output_type": "stream",
       "stream": "stdout",
       "text": [
        "\n",
        "6951.92796178"
       ]
      },
      {
       "output_type": "stream",
       "stream": "stdout",
       "text": [
        "\n",
        "12742.749857"
       ]
      },
      {
       "output_type": "stream",
       "stream": "stdout",
       "text": [
        "\n",
        "23357.2146909"
       ]
      },
      {
       "output_type": "stream",
       "stream": "stdout",
       "text": [
        "\n",
        "42813.3239872"
       ]
      },
      {
       "output_type": "stream",
       "stream": "stdout",
       "text": [
        "\n",
        "78475.9970351"
       ]
      },
      {
       "output_type": "stream",
       "stream": "stdout",
       "text": [
        "\n",
        "143844.988829"
       ]
      },
      {
       "output_type": "stream",
       "stream": "stdout",
       "text": [
        "\n",
        "263665.089873"
       ]
      },
      {
       "output_type": "stream",
       "stream": "stdout",
       "text": [
        "\n",
        "483293.023857"
       ]
      },
      {
       "output_type": "stream",
       "stream": "stdout",
       "text": [
        "\n",
        "885866.79041"
       ]
      },
      {
       "output_type": "stream",
       "stream": "stdout",
       "text": [
        "\n",
        "1623776.73919"
       ]
      },
      {
       "output_type": "stream",
       "stream": "stdout",
       "text": [
        "\n"
       ]
      },
      {
       "metadata": {},
       "output_type": "pyout",
       "prompt_number": 10,
       "text": [
        "<matplotlib.axes.AxesSubplot at 0x7f597c0df410>"
       ]
      },
      {
       "metadata": {},
       "output_type": "display_data",
       "png": "[encoded data removed]",
       "text": [
        "<matplotlib.figure.Figure at 0x7f597cc43210>"
       ]
      }
     ],
     "prompt_number": 10
    },
    {
     "cell_type": "code",
     "collapsed": false,
     "input": [
      "%matplotlib inline"
     ],
     "language": "python",
     "metadata": {},
     "outputs": [],
     "prompt_number": 3
    },
    {
     "cell_type": "code",
     "collapsed": false,
     "input": [
      "(runtimes.loc['cpp'] / runtimes.loc['tbb']).plot()"
     ],
     "language": "python",
     "metadata": {},
     "outputs": [
      {
       "metadata": {},
       "output_type": "pyout",
       "prompt_number": 14,
       "text": [
        "<matplotlib.axes.AxesSubplot at 0x7f596efbf510>"
       ]
      },
      {
       "metadata": {},
       "output_type": "display_data",
       "png": "[encoded data removed]",
       "text": [
        "<matplotlib.figure.Figure at 0x7f597d284790>"
       ]
      }
     ],
     "prompt_number": 14
    },
    {
     "cell_type": "code",
     "collapsed": false,
     "input": [
      "from cythrust import DeviceDataFrame, Context, Transform\n",
      "from cythrust.timeit_helpers import auto_timeit\n",
      "import numpy as np\n",
      "import pandas as pd\n",
      "from datetime import datetime\n",
      "\n",
      "from IPython.display import display"
     ],
     "language": "python",
     "metadata": {},
     "outputs": [],
     "prompt_number": 1
    },
    {
     "cell_type": "code",
     "collapsed": false,
     "input": [
      "np.random.seed(0)\n",
      "N = 10\n",
      "host_df = pd.DataFrame({'a': np.random.randint(1, 10, size=N)\n",
      "                        .astype('uint8'),\n",
      "                        'b': np.random.randint(1, 10, size=N)\n",
      "                        .astype('int32'),\n",
      "                        'c': np.random.randint(3, size=N)\n",
      "                        .astype('float32'),\n",
      "                        'd': np.random.randint(3, size=N)\n",
      "                        .astype('float32')},\n",
      "                       columns=list('abcd'))"
     ],
     "language": "python",
     "metadata": {},
     "outputs": [],
     "prompt_number": 2
    },
    {
     "cell_type": "code",
     "collapsed": false,
     "input": [
      "import tempfile\n",
      "from path_helpers import path\n",
      "import hashlib"
     ],
     "language": "python",
     "metadata": {},
     "outputs": [],
     "prompt_number": 3
    },
    {
     "cell_type": "code",
     "collapsed": false,
     "input": [
      "# host_df.loc[:, 'b'] = host_df['a'].astype('int32') ** 2\n",
      "df = DeviceDataFrame(host_df)\n",
      "display(df.df[:].T)\n",
      "print host_df.dtypes"
     ],
     "language": "python",
     "metadata": {},
     "outputs": [
      {
       "html": [
        "<div style=\"max-height:1000px;max-width:1500px;overflow:auto;\">\n",
        "<table border=\"1\" class=\"dataframe\">\n",
        "  <thead>\n",
        "    <tr style=\"text-align: right;\">\n",
        "      <th></th>\n",
        "      <th>0</th>\n",
        "      <th>1</th>\n",
        "      <th>2</th>\n",
        "      <th>3</th>\n",
        "      <th>4</th>\n",
        "      <th>5</th>\n",
        "      <th>6</th>\n",
        "      <th>7</th>\n",
        "      <th>8</th>\n",
        "      <th>9</th>\n",
        "    </tr>\n",
        "  </thead>\n",
        "  <tbody>\n",
        "    <tr>\n",
        "      <th>a</th>\n",
        "      <td> 6</td>\n",
        "      <td> 1</td>\n",
        "      <td> 4</td>\n",
        "      <td> 4</td>\n",
        "      <td> 8</td>\n",
        "      <td> 4</td>\n",
        "      <td> 6</td>\n",
        "      <td> 3</td>\n",
        "      <td> 5</td>\n",
        "      <td> 8</td>\n",
        "    </tr>\n",
        "    <tr>\n",
        "      <th>b</th>\n",
        "      <td> 7</td>\n",
        "      <td> 9</td>\n",
        "      <td> 9</td>\n",
        "      <td> 2</td>\n",
        "      <td> 7</td>\n",
        "      <td> 8</td>\n",
        "      <td> 8</td>\n",
        "      <td> 9</td>\n",
        "      <td> 2</td>\n",
        "      <td> 6</td>\n",
        "    </tr>\n",
        "    <tr>\n",
        "      <th>c</th>\n",
        "      <td> 1</td>\n",
        "      <td> 1</td>\n",
        "      <td> 0</td>\n",
        "      <td> 1</td>\n",
        "      <td> 0</td>\n",
        "      <td> 0</td>\n",
        "      <td> 1</td>\n",
        "      <td> 2</td>\n",
        "      <td> 0</td>\n",
        "      <td> 2</td>\n",
        "    </tr>\n",
        "    <tr>\n",
        "      <th>d</th>\n",
        "      <td> 0</td>\n",
        "      <td> 1</td>\n",
        "      <td> 1</td>\n",
        "      <td> 2</td>\n",
        "      <td> 0</td>\n",
        "      <td> 1</td>\n",
        "      <td> 1</td>\n",
        "      <td> 1</td>\n",
        "      <td> 0</td>\n",
        "      <td> 2</td>\n",
        "    </tr>\n",
        "  </tbody>\n",
        "</table>\n",
        "</div>"
       ],
       "metadata": {},
       "output_type": "display_data",
       "text": [
        "   0  1  2  3  4  5  6  7  8  9\n",
        "a  6  1  4  4  8  4  6  3  5  8\n",
        "b  7  9  9  2  7  8  8  9  2  6\n",
        "c  1  1  0  1  0  0  1  2  0  2\n",
        "d  0  1  1  2  0  1  1  1  0  2"
       ]
      },
      {
       "output_type": "stream",
       "stream": "stdout",
       "text": [
        "a      uint8\n",
        "b      int32\n",
        "c    float32\n",
        "d    float32\n",
        "dtype: object\n"
       ]
      }
     ],
     "prompt_number": 4
    },
    {
     "cell_type": "code",
     "collapsed": false,
     "input": [
      "import theano.tensor as T\n",
      "# from theano_helpers import DataFlowGraph, ThrustCode"
     ],
     "language": "python",
     "metadata": {},
     "outputs": [],
     "prompt_number": 5
    },
    {
     "cell_type": "code",
     "collapsed": false,
     "input": [
      "a, b, c, d = df.tensor(list('abcd'))\n",
      "# operation_graph = 2 * a + 3 * b + 4 * c\n",
      "operation_graph = a.take(b)\n",
      "foo_transform = df._context.build_transform(operation_graph,\n",
      "                                            'Bar%s' %\n",
      "                                            hash(operation_graph))\n",
      "# print foo_transform.output_dir.abspath()\n",
      "# foo.rmtree()"
     ],
     "language": "python",
     "metadata": {},
     "outputs": [],
     "prompt_number": 6
    },
    {
     "cell_type": "code",
     "collapsed": false,
     "input": [
      "foo = df.inline_func(df.columns,\n",
      "    setup='''\n",
      "from %s.%s cimport %s\n",
      "from cythrust.thrust.copy cimport copy_n\n",
      "''' % tuple([foo_transform.functor_name] * 3),\n",
      "    include_dirs=foo_transform.get_includes(),\n",
      "    code = '''\n",
      "    cdef %s *op\n",
      "    op = new %s(<%s.a_t>a._begin, <%s.b_t>b._begin)\n",
      "    cdef size_t N = b._end - b._begin\n",
      "    copy_n(op.begin(), N, c._begin)\n",
      "    return N\n",
      "''' % tuple([foo_transform.functor_name] * 4))"
     ],
     "language": "python",
     "metadata": {},
     "outputs": [
      {
       "output_type": "stream",
       "stream": "stdout",
       "text": [
        "\"/tmp/cythrust__LQAa6D.pxd\" is not a file.\n"
       ]
      }
     ],
     "prompt_number": 7
    },
    {
     "cell_type": "code",
     "collapsed": false,
     "input": [
      "import theano\n",
      "print theano.pp(operation_graph)\n",
      "print foo(df['a'], df['b'], df['c'], df['d'])\n",
      "display(df.df[:].T)\n",
      "# print foo.code"
     ],
     "language": "python",
     "metadata": {},
     "outputs": [
      {
       "output_type": "stream",
       "stream": "stdout",
       "text": [
        "AdvancedSubtensor1(Flatten{1}(a), b)\n",
        "10\n"
       ]
      },
      {
       "html": [
        "<div style=\"max-height:1000px;max-width:1500px;overflow:auto;\">\n",
        "<table border=\"1\" class=\"dataframe\">\n",
        "  <thead>\n",
        "    <tr style=\"text-align: right;\">\n",
        "      <th></th>\n",
        "      <th>0</th>\n",
        "      <th>1</th>\n",
        "      <th>2</th>\n",
        "      <th>3</th>\n",
        "      <th>4</th>\n",
        "      <th>5</th>\n",
        "      <th>6</th>\n",
        "      <th>7</th>\n",
        "      <th>8</th>\n",
        "      <th>9</th>\n",
        "    </tr>\n",
        "  </thead>\n",
        "  <tbody>\n",
        "    <tr>\n",
        "      <th>a</th>\n",
        "      <td> 6</td>\n",
        "      <td> 1</td>\n",
        "      <td> 4</td>\n",
        "      <td> 4</td>\n",
        "      <td> 8</td>\n",
        "      <td> 4</td>\n",
        "      <td> 6</td>\n",
        "      <td> 3</td>\n",
        "      <td> 5</td>\n",
        "      <td> 8</td>\n",
        "    </tr>\n",
        "    <tr>\n",
        "      <th>b</th>\n",
        "      <td> 7</td>\n",
        "      <td> 9</td>\n",
        "      <td> 9</td>\n",
        "      <td> 2</td>\n",
        "      <td> 7</td>\n",
        "      <td> 8</td>\n",
        "      <td> 8</td>\n",
        "      <td> 9</td>\n",
        "      <td> 2</td>\n",
        "      <td> 6</td>\n",
        "    </tr>\n",
        "    <tr>\n",
        "      <th>c</th>\n",
        "      <td> 3</td>\n",
        "      <td> 8</td>\n",
        "      <td> 8</td>\n",
        "      <td> 4</td>\n",
        "      <td> 3</td>\n",
        "      <td> 5</td>\n",
        "      <td> 5</td>\n",
        "      <td> 8</td>\n",
        "      <td> 4</td>\n",
        "      <td> 6</td>\n",
        "    </tr>\n",
        "    <tr>\n",
        "      <th>d</th>\n",
        "      <td> 0</td>\n",
        "      <td> 1</td>\n",
        "      <td> 1</td>\n",
        "      <td> 2</td>\n",
        "      <td> 0</td>\n",
        "      <td> 1</td>\n",
        "      <td> 1</td>\n",
        "      <td> 1</td>\n",
        "      <td> 0</td>\n",
        "      <td> 2</td>\n",
        "    </tr>\n",
        "  </tbody>\n",
        "</table>\n",
        "</div>"
       ],
       "metadata": {},
       "output_type": "display_data",
       "text": [
        "   0  1  2  3  4  5  6  7  8  9\n",
        "a  6  1  4  4  8  4  6  3  5  8\n",
        "b  7  9  9  2  7  8  8  9  2  6\n",
        "c  3  8  8  4  3  5  5  8  4  6\n",
        "d  0  1  1  2  0  1  1  1  0  2"
       ]
      }
     ],
     "prompt_number": 8
    },
    {
     "cell_type": "code",
     "collapsed": false,
     "input": [
      "import pandas as pd\n",
      "import theano.tensor as T\n",
      "\n",
      "x, y = slot_data.tensor(['x', 'y'])\n",
      "\n",
      "slot_key = T.arange(0, 0)\n",
      "ny = T.iscalar('ny')\n",
      "\n",
      "# `build_transform` automatically adds the generated module parent\n",
      "# directory to the Python path so we can import from it.\n",
      "x_from_slot_key = slot_data._context.build_transform(slot_key / ny,\n",
      "                                                     'XFromSlotKey')\n",
      "y_from_slot_key = slot_data._context.build_transform(slot_key % ny,\n",
      "                                                     'YFromSlotKey')\n",
      "\n",
      "calculate_slot_xy = slot_data.inline_func(slot_data.columns,\n",
      "    setup='''\n",
      "from libc.math cimport ceil, sqrt\n",
      "from XFromSlotKey.XFromSlotKey cimport XFromSlotKey\n",
      "from YFromSlotKey.YFromSlotKey cimport YFromSlotKey\n",
      "from cythrust.thrust.tuple cimport make_tuple2\n",
      "from cythrust.thrust.iterator.zip_iterator cimport make_zip_iterator\n",
      "from cythrust.thrust.copy cimport copy_n''',\n",
      "    include_dirs=x_from_slot_key.get_includes() +\n",
      "    y_from_slot_key.get_includes(),\n",
      "    code = '''\n",
      "    cdef size_t N = x._end - x._begin\n",
      "    \n",
      "    cdef size_t ny = <size_t>ceil(sqrt(N))\n",
      "    \n",
      "    cdef XFromSlotKey *x_from_slot_key\n",
      "  \n",
      "    x_ = new XFromSlotKey(<XFromSlotKey.ny_t>ny)\n",
      "    y_ = new YFromSlotKey(<YFromSlotKey.ny_t>ny)\n",
      "  \n",
      "    copy_n(make_zip_iterator(make_tuple2(x_.begin(), y_.begin())), N,\n",
      "           make_zip_iterator(make_tuple2(x._begin, y._begin)))\n",
      "         \n",
      "    return N''')"
     ],
     "language": "python",
     "metadata": {},
     "outputs": [],
     "prompt_number": 22
    },
    {
     "cell_type": "code",
     "collapsed": false,
     "input": [
      "calculate_slot_xy(*slot_data[slot_data.columns])\n",
      "slot_data.df[:].T"
     ],
     "language": "python",
     "metadata": {},
     "outputs": [
      {
       "html": [
        "<div style=\"max-height:1000px;max-width:1500px;overflow:auto;\">\n",
        "<table border=\"1\" class=\"dataframe\">\n",
        "  <thead>\n",
        "    <tr style=\"text-align: right;\">\n",
        "      <th></th>\n",
        "      <th>0</th>\n",
        "      <th>1</th>\n",
        "      <th>2</th>\n",
        "      <th>3</th>\n",
        "      <th>4</th>\n",
        "      <th>5</th>\n",
        "      <th>6</th>\n",
        "      <th>7</th>\n",
        "      <th>8</th>\n",
        "      <th>9</th>\n",
        "      <th>10</th>\n",
        "      <th>11</th>\n",
        "      <th>12</th>\n",
        "      <th>13</th>\n",
        "      <th>14</th>\n",
        "      <th>15</th>\n",
        "    </tr>\n",
        "  </thead>\n",
        "  <tbody>\n",
        "    <tr>\n",
        "      <th>x</th>\n",
        "      <td> 0</td>\n",
        "      <td> 0</td>\n",
        "      <td> 0</td>\n",
        "      <td> 0</td>\n",
        "      <td> 1</td>\n",
        "      <td> 1</td>\n",
        "      <td> 1</td>\n",
        "      <td> 1</td>\n",
        "      <td> 2</td>\n",
        "      <td> 2</td>\n",
        "      <td> 2</td>\n",
        "      <td> 2</td>\n",
        "      <td> 3</td>\n",
        "      <td> 3</td>\n",
        "      <td> 3</td>\n",
        "      <td> 3</td>\n",
        "    </tr>\n",
        "    <tr>\n",
        "      <th>y</th>\n",
        "      <td> 0</td>\n",
        "      <td> 1</td>\n",
        "      <td> 2</td>\n",
        "      <td> 3</td>\n",
        "      <td> 0</td>\n",
        "      <td> 1</td>\n",
        "      <td> 2</td>\n",
        "      <td> 3</td>\n",
        "      <td> 0</td>\n",
        "      <td> 1</td>\n",
        "      <td> 2</td>\n",
        "      <td> 3</td>\n",
        "      <td> 0</td>\n",
        "      <td> 1</td>\n",
        "      <td> 2</td>\n",
        "      <td> 3</td>\n",
        "    </tr>\n",
        "  </tbody>\n",
        "</table>\n",
        "</div>"
       ],
       "metadata": {},
       "output_type": "pyout",
       "prompt_number": 27,
       "text": [
        "   0   1   2   3   4   5   6   7   8   9   10  11  12  13  14  15\n",
        "x   0   0   0   0   1   1   1   1   2   2   2   2   3   3   3   3\n",
        "y   0   1   2   3   0   1   2   3   0   1   2   3   0   1   2   3"
       ]
      }
     ],
     "prompt_number": 27
    },
    {
     "cell_type": "code",
     "collapsed": false,
     "input": [
      "import pandas as pd\n",
      "import theano.tensor as T\n",
      "\n",
      "slot_key, x, y = block_data.tensor(['slot_key', 'x', 'y'])\n",
      "slot_x, slot_y = slot_data.tensor(['x', 'y'])\n",
      "\n",
      "# `build_transform` automatically adds the generated module parent\n",
      "# directory to the Python path so we can import from it.\n",
      "x_lookup = block_data._context.build_transform(slot_x.take(slot_key),\n",
      "                                               'XYLookup')\n",
      "\n",
      "lookup_block_xy = block_data.inline_func(block_data.columns,\n",
      "    setup='''\n",
      "from libc.math cimport ceil, sqrt\n",
      "from XYLookup.XYLookup cimport XYLookup\n",
      "from cythrust.thrust.tuple cimport make_tuple2, make_tuple4\n",
      "from cythrust.thrust.iterator.zip_iterator cimport make_zip_iterator\n",
      "from cythrust.thrust.copy cimport copy_n\\n''' +\n",
      "    # We need to import the view type for the vectors from the slot-data\n",
      "    # frame.\n",
      "    'from %s.device_vector cimport DeviceVectorView as XYView' %\n",
      "    slot_data.get_vector_module('x'),\n",
      "    context={'preargs': 'XYView slot_x, XYView slot_y, '},\n",
      "    include_dirs=xy_lookup.get_includes(),\n",
      "    code = '''\n",
      "    cdef size_t N = slot_key._end - slot_key._begin\n",
      "    \n",
      "    cdef XYLookup *x_lookup = new XYLookup(<XYLookup.x_t>slot_x._begin,\n",
      "                                           <XYLookup.slot_key_t>\n",
      "                                           slot_key._begin)\n",
      "    cdef XYLookup *y_lookup = new XYLookup(<XYLookup.x_t>slot_y._begin,\n",
      "                                           <XYLookup.slot_key_t>\n",
      "                                           slot_key._begin)\n",
      "    \n",
      "    copy_n(make_zip_iterator(make_tuple2(x_lookup.begin(),\n",
      "                                         y_lookup.begin())), N,\n",
      "           make_zip_iterator(make_tuple2(x._begin, y._begin)))\n",
      "         \n",
      "    return N''')"
     ],
     "language": "python",
     "metadata": {},
     "outputs": [
      {
       "output_type": "stream",
       "stream": "stdout",
       "text": [
        "\"/tmp/cythrust__PuMOTs.pxd\" is not a file.\n"
       ]
      }
     ],
     "prompt_number": 97
    },
    {
     "cell_type": "code",
     "collapsed": false,
     "input": [
      "def get_test_data(N, random=False):\n",
      "    ny = int(np.ceil(np.sqrt(N)))\n",
      "\n",
      "    host_slot_data = pd.DataFrame(np.empty(ny * ny, dtype='uint32'),\n",
      "                                  columns=['x'])\n",
      "    if random:\n",
      "        host_block_data = pd.DataFrame(\n",
      "            np.random.choice(np.arange(ny * ny, dtype='uint32'), N,\n",
      "                             replace=False), columns=['slot_key'])\n",
      "    else:\n",
      "        host_block_data = pd.DataFrame(np.arange(N, dtype='uint32'),\n",
      "                                       columns=['slot_key'])\n",
      "\n",
      "    slot_data = DeviceDataFrame(host_slot_data)\n",
      "    slot_data.add('y', dtype=host_slot_data['x'].dtype)\n",
      "\n",
      "    block_data = DeviceDataFrame(host_block_data)\n",
      "    block_data.add('x', dtype=host_slot_data['x'].dtype)\n",
      "    block_data.add('y', dtype=host_slot_data['x'].dtype)\n",
      "    return slot_data, block_data"
     ],
     "language": "python",
     "metadata": {},
     "outputs": [],
     "prompt_number": 90
    },
    {
     "cell_type": "code",
     "collapsed": false,
     "input": [
      "# display(slot_data.df[:].T)\n",
      "# display(block_data.df[:].T)\n",
      "\n",
      "linear_results = []\n",
      "random_results = []\n",
      "\n",
      "try:\n",
      "    for N in np.logspace(2, 6, num=5):\n",
      "        slot_data, block_data = get_test_data(N, random=False)\n",
      "        slot_result = %timeit -o calculate_slot_xy(*slot_data[slot_data.columns])\n",
      "        block_result = %timeit -o lookup_block_xy(slot_data['x'], slot_data['y'], *block_data[['slot_key', 'x', 'y']])\n",
      "        linear_results.append([N, slot_result.best, block_result.best])\n",
      "        \n",
      "        slot_data, block_data = get_test_data(N, random=True)\n",
      "        slot_result = %timeit -o calculate_slot_xy(*slot_data[slot_data.columns])\n",
      "        block_result = %timeit -o lookup_block_xy(slot_data['x'], slot_data['y'], *block_data[['slot_key', 'x', 'y']])\n",
      "        random_results.append([N, slot_result.best, block_result.best])\n",
      "except KeyboardInterrupt:\n",
      "    pass\n",
      "    \n",
      "linear_runtimes = pd.DataFrame(linear_results,\n",
      "                               columns=['N', 'slot_runtime',\n",
      "                                        'block_runtime'])\n",
      "random_runtimes = pd.DataFrame(random_results,\n",
      "                               columns=['N', 'slot_runtime',\n",
      "                                        'block_runtime'])\n",
      "# display(slot_data.df[:].T)\n",
      "# display(block_data.df[:].T)"
     ],
     "language": "python",
     "metadata": {},
     "outputs": [
      {
       "output_type": "stream",
       "stream": "stdout",
       "text": [
        "100000 loops, best of 3: 6.1 \u00b5s per loop\n",
        "100000 loops, best of 3: 6.52 \u00b5s per loop"
       ]
      },
      {
       "output_type": "stream",
       "stream": "stdout",
       "text": [
        "\n",
        "100000 loops, best of 3: 6.05 \u00b5s per loop"
       ]
      },
      {
       "output_type": "stream",
       "stream": "stdout",
       "text": [
        "\n",
        "100000 loops, best of 3: 6.47 \u00b5s per loop"
       ]
      },
      {
       "output_type": "stream",
       "stream": "stdout",
       "text": [
        "\n",
        "100000 loops, best of 3: 11.3 \u00b5s per loop"
       ]
      },
      {
       "output_type": "stream",
       "stream": "stdout",
       "text": [
        "\n",
        "100000 loops, best of 3: 7.93 \u00b5s per loop"
       ]
      },
      {
       "output_type": "stream",
       "stream": "stdout",
       "text": [
        "\n",
        "100000 loops, best of 3: 11.4 \u00b5s per loop"
       ]
      },
      {
       "output_type": "stream",
       "stream": "stdout",
       "text": [
        "\n",
        "100000 loops, best of 3: 7.84 \u00b5s per loop"
       ]
      },
      {
       "output_type": "stream",
       "stream": "stdout",
       "text": [
        "\n",
        "10000 loops, best of 3: 60.9 \u00b5s per loop"
       ]
      },
      {
       "output_type": "stream",
       "stream": "stdout",
       "text": [
        "\n",
        "10000 loops, best of 3: 22.4 \u00b5s per loop"
       ]
      },
      {
       "output_type": "stream",
       "stream": "stdout",
       "text": [
        "\n",
        "10000 loops, best of 3: 64 \u00b5s per loop"
       ]
      },
      {
       "output_type": "stream",
       "stream": "stdout",
       "text": [
        "\n",
        "10000 loops, best of 3: 27.4 \u00b5s per loop"
       ]
      },
      {
       "output_type": "stream",
       "stream": "stdout",
       "text": [
        "\n",
        "1000 loops, best of 3: 574 \u00b5s per loop"
       ]
      },
      {
       "output_type": "stream",
       "stream": "stdout",
       "text": [
        "\n",
        "10000 loops, best of 3: 166 \u00b5s per loop"
       ]
      },
      {
       "output_type": "stream",
       "stream": "stdout",
       "text": [
        "\n",
        "1000 loops, best of 3: 572 \u00b5s per loop"
       ]
      },
      {
       "output_type": "stream",
       "stream": "stdout",
       "text": [
        "\n",
        "1000 loops, best of 3: 322 \u00b5s per loop"
       ]
      },
      {
       "output_type": "stream",
       "stream": "stdout",
       "text": [
        "\n",
        "100 loops, best of 3: 5.54 ms per loop"
       ]
      },
      {
       "output_type": "stream",
       "stream": "stdout",
       "text": [
        "\n",
        "100 loops, best of 3: 2.56 ms per loop"
       ]
      },
      {
       "output_type": "stream",
       "stream": "stdout",
       "text": [
        "\n",
        "100 loops, best of 3: 5.53 ms per loop"
       ]
      },
      {
       "output_type": "stream",
       "stream": "stdout",
       "text": [
        "\n",
        "100 loops, best of 3: 16.3 ms per loop"
       ]
      },
      {
       "output_type": "stream",
       "stream": "stdout",
       "text": [
        "\n"
       ]
      }
     ],
     "prompt_number": 94
    },
    {
     "cell_type": "markdown",
     "metadata": {},
     "source": [
      "__TODO__ Create benchmark test for non-linear memory accesses."
     ]
    },
    {
     "cell_type": "code",
     "collapsed": false,
     "input": [
      "fig, axis = plt.subplots()\n",
      "colors = axis._get_lines.color_cycle\n",
      "linear_runtimes.plot(kind='scatter', x='N', y='slot_runtime', ax=axis,\n",
      "                     s=100, alpha=0.6, color=colors.next(),\n",
      "                     label='slot')\n",
      "linear_runtimes.plot(kind='scatter', x='N', y='block_runtime', ax=axis,\n",
      "                     s=100, alpha=0.6, color=colors.next(),\n",
      "                     label='linear slots')\n",
      "random_runtimes.plot(kind='scatter', x='N', y='block_runtime', ax=axis,\n",
      "                     s=100, alpha=0.6, color=colors.next(),\n",
      "                     label='random slots')\n",
      "plt.legend(loc='upper left')\n",
      "# runtimes.plot(x='N', y='runtime', linestyle='-', ax=axis, legend=False)\n",
      "# print df.df[:].T"
     ],
     "language": "python",
     "metadata": {},
     "outputs": [
      {
       "metadata": {},
       "output_type": "pyout",
       "prompt_number": 96,
       "text": [
        "<matplotlib.legend.Legend at 0x7f9b21a05fd0>"
       ]
      },
      {
       "metadata": {},
       "output_type": "display_data",
       "png": "[encoded data removed]",
       "text": [
        "<matplotlib.figure.Figure at 0x7f9b1f390190>"
       ]
      }
     ],
     "prompt_number": 96
    },
    {
     "cell_type": "code",
     "collapsed": false,
     "input": [
      "fig, axis = plt.subplots()\n",
      "colors = axis._get_lines.color_cycle\n",
      "runtimes.plot(kind='scatter', x='N', y='block_runtime', ax=axis,\n",
      "              s=100, alpha=0.6, color=colors.next())\n",
      "runtimes.plot(kind='scatter', x='N', y='slot_runtime', ax=axis,\n",
      "              s=100, alpha=0.6, color=colors.next())\n",
      "# runtimes.plot(x='N', y='runtime', linestyle='-', ax=axis, legend=False)\n",
      "# print df.df[:].T"
     ],
     "language": "python",
     "metadata": {},
     "outputs": [
      {
       "metadata": {},
       "output_type": "pyout",
       "prompt_number": 87,
       "text": [
        "<matplotlib.axes.AxesSubplot at 0x7f9b21585ed0>"
       ]
      },
      {
       "metadata": {},
       "output_type": "display_data",
       "png": "[encoded data removed]",
       "text": [
        "<matplotlib.figure.Figure at 0x7f9b2158df50>"
       ]
      }
     ],
     "prompt_number": 87
    },
    {
     "cell_type": "code",
     "collapsed": false,
     "input": [
      "results = []\n",
      "\n",
      "for N_ in np.logspace(2, 7, num=10):\n",
      "    host_df = pd.DataFrame(np.arange(N_, dtype='uint32'),\n",
      "                           columns=['slot_key'])\n",
      "\n",
      "    df = DeviceDataFrame(host_df)\n",
      "    df.add('x', dtype=host_df['slot_key'].dtype)\n",
      "    df.add('y', dtype=host_df['slot_key'].dtype)\n",
      "    df.add('x2', dtype=host_df['slot_key'].dtype)\n",
      "    df.add('y2', dtype=host_df['slot_key'].dtype)\n",
      "    \n",
      "    result = %timeit -o foo(df['slot_key'], df['x'], df['y'], df['x2'], df['y2'])\n",
      "    results.append([N_, result.best])\n",
      "runtimes = pd.DataFrame(results, columns=['N', 'runtime'])"
     ],
     "language": "python",
     "metadata": {},
     "outputs": [
      {
       "output_type": "stream",
       "stream": "stdout",
       "text": [
        "100000 loops, best of 3: 7.2 \u00b5s per loop\n",
        "100000 loops, best of 3: 12.4 \u00b5s per loop"
       ]
      },
      {
       "output_type": "stream",
       "stream": "stdout",
       "text": [
        "\n",
        "10000 loops, best of 3: 31.1 \u00b5s per loop"
       ]
      },
      {
       "output_type": "stream",
       "stream": "stdout",
       "text": [
        "\n",
        "10000 loops, best of 3: 100 \u00b5s per loop"
       ]
      },
      {
       "output_type": "stream",
       "stream": "stdout",
       "text": [
        "\n",
        "1000 loops, best of 3: 350 \u00b5s per loop"
       ]
      },
      {
       "output_type": "stream",
       "stream": "stdout",
       "text": [
        "\n",
        "1000 loops, best of 3: 1.23 ms per loop"
       ]
      },
      {
       "output_type": "stream",
       "stream": "stdout",
       "text": [
        "\n",
        "100 loops, best of 3: 4.44 ms per loop"
       ]
      },
      {
       "output_type": "stream",
       "stream": "stdout",
       "text": [
        "\n",
        "100 loops, best of 3: 16.5 ms per loop"
       ]
      },
      {
       "output_type": "stream",
       "stream": "stdout",
       "text": [
        "\n",
        "10 loops, best of 3: 60 ms per loop"
       ]
      },
      {
       "output_type": "stream",
       "stream": "stdout",
       "text": [
        "\n",
        "1 loops, best of 3: 212 ms per loop"
       ]
      },
      {
       "output_type": "stream",
       "stream": "stdout",
       "text": [
        "\n"
       ]
      }
     ],
     "prompt_number": 116
    },
    {
     "cell_type": "code",
     "collapsed": false,
     "input": [
      "%matplotlib inline"
     ],
     "language": "python",
     "metadata": {},
     "outputs": [],
     "prompt_number": 75
    },
    {
     "cell_type": "code",
     "collapsed": false,
     "input": [
      "import matplotlib.pyplot as plt"
     ],
     "language": "python",
     "metadata": {},
     "outputs": [],
     "prompt_number": 76
    },
    {
     "cell_type": "code",
     "collapsed": false,
     "input": [
      "fig, axis = plt.subplots()\n",
      "runtimes.plot(kind='scatter', x='N', y='runtime', ax=axis, s=100,\n",
      "              alpha=0.6)\n",
      "runtimes.plot(x='N', y='runtime', linestyle='-', ax=axis, legend=False)\n",
      "# print df.df[:].T"
     ],
     "language": "python",
     "metadata": {},
     "outputs": [
      {
       "metadata": {},
       "output_type": "pyout",
       "prompt_number": 140,
       "text": [
        "<matplotlib.axes.AxesSubplot at 0x7fe2abc64b50>"
       ]
      },
      {
       "metadata": {},
       "output_type": "display_data",
       "png": "[encoded data removed]",
       "text": [
        "<matplotlib.figure.Figure at 0x7fe2abc09390>"
       ]
      }
     ],
     "prompt_number": 140
    }
   ],
   "metadata": {}
  }
 ]
}