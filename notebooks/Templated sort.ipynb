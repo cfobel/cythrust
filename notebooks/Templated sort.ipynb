{
 "metadata": {
  "name": "",
  "signature": "sha256:4de62fb5546a3414bcd53cb1b9c595b7cc40ce7a834b701bac8c4aba2021b039"
 },
 "nbformat": 3,
 "nbformat_minor": 0,
 "worksheets": [
  {
   "cells": [
    {
     "cell_type": "code",
     "collapsed": false,
     "input": [
      "import numpy as np\n",
      "import numba\n",
      "from numba.utils import IS_PY3\n",
      "from numba.decorators import jit"
     ],
     "language": "python",
     "metadata": {},
     "outputs": [],
     "prompt_number": 1
    },
    {
     "cell_type": "code",
     "collapsed": false,
     "input": [
      "@jit(argtypes=(numba.double[:], ))\n",
      "def foo(x, y):\n",
      "    count = x.shape[0]\n",
      "    for i in xrange(count):\n",
      "        y[i] = 3 * x[i]"
     ],
     "language": "python",
     "metadata": {},
     "outputs": [],
     "prompt_number": 2
    },
    {
     "cell_type": "code",
     "collapsed": false,
     "input": [
      "N = 10000\n",
      "a = np.ones(N, dtype=np.double) * 3\n",
      "b = np.zeros_like(a)\n",
      "# %timeit foo(a, b)\n",
      "# %timeit 3 * a"
     ],
     "language": "python",
     "metadata": {},
     "outputs": [],
     "prompt_number": 2
    },
    {
     "cell_type": "code",
     "collapsed": false,
     "input": [
      "from cythrust import DeviceDataFrame\n",
      "from cythrust.device_vector.sort import sort_uint32_by_uint8_key\n",
      "from cythrust.device_vector.sum import sum_uint32_by_uint8_key\n",
      "import pandas as pd"
     ],
     "language": "python",
     "metadata": {},
     "outputs": [],
     "prompt_number": 3
    },
    {
     "cell_type": "code",
     "collapsed": false,
     "input": [
      "np.random.seed(0)\n",
      "a = np.random.randint(0, 10, size=N).astype(np.uint8)\n",
      "b = np.random.randint(0, 10, size=N).astype(np.uint32)\n",
      "c = np.empty_like(a)\n",
      "d = np.empty_like(b)\n",
      "\n",
      "df = DeviceDataFrame(pd.DataFrame({'a': a, 'b': b, 'c': c, 'd': d}, columns=list('abcd')))\n",
      "sort_uint32_by_uint8_key(df.v['a'], df.v['b'])\n",
      "sum_uint32_by_uint8_key(df.v['a'], df.v['b'], df.v['c'], df.v['d'])\n",
      "df[:].head()"
     ],
     "language": "python",
     "metadata": {},
     "outputs": [
      {
       "html": [
        "<div style=\"max-height:1000px;max-width:1500px;overflow:auto;\">\n",
        "<table border=\"1\" class=\"dataframe\">\n",
        "  <thead>\n",
        "    <tr style=\"text-align: right;\">\n",
        "      <th></th>\n",
        "      <th>a</th>\n",
        "      <th>b</th>\n",
        "      <th>c</th>\n",
        "      <th>d</th>\n",
        "    </tr>\n",
        "  </thead>\n",
        "  <tbody>\n",
        "    <tr>\n",
        "      <th>0</th>\n",
        "      <td> 0</td>\n",
        "      <td> 9</td>\n",
        "      <td> 0</td>\n",
        "      <td> 4321</td>\n",
        "    </tr>\n",
        "    <tr>\n",
        "      <th>1</th>\n",
        "      <td> 0</td>\n",
        "      <td> 3</td>\n",
        "      <td> 1</td>\n",
        "      <td> 4518</td>\n",
        "    </tr>\n",
        "    <tr>\n",
        "      <th>2</th>\n",
        "      <td> 0</td>\n",
        "      <td> 7</td>\n",
        "      <td> 2</td>\n",
        "      <td> 4520</td>\n",
        "    </tr>\n",
        "    <tr>\n",
        "      <th>3</th>\n",
        "      <td> 0</td>\n",
        "      <td> 2</td>\n",
        "      <td> 3</td>\n",
        "      <td> 4576</td>\n",
        "    </tr>\n",
        "    <tr>\n",
        "      <th>4</th>\n",
        "      <td> 0</td>\n",
        "      <td> 6</td>\n",
        "      <td> 4</td>\n",
        "      <td> 4123</td>\n",
        "    </tr>\n",
        "  </tbody>\n",
        "</table>\n",
        "</div>"
       ],
       "metadata": {},
       "output_type": "pyout",
       "prompt_number": 5,
       "text": [
        "   a  b  c     d\n",
        "0  0  9  0  4321\n",
        "1  0  3  1  4518\n",
        "2  0  7  2  4520\n",
        "3  0  2  3  4576\n",
        "4  0  6  4  4123"
       ]
      }
     ],
     "prompt_number": 5
    },
    {
     "cell_type": "code",
     "collapsed": false,
     "input": [
      "from Cybuild import Context\n",
      "\n",
      "context = Context()"
     ],
     "language": "python",
     "metadata": {},
     "outputs": [],
     "prompt_number": 4
    },
    {
     "cell_type": "code",
     "collapsed": false,
     "input": [
      "code =  '''\n",
      "from cythrust.device_vector cimport (DeviceVectorViewUint8,\n",
      "                                     DeviceVectorViewUint32)\n",
      "from cythrust.thrust.sort cimport sort_by_key as c_sort_by_key\n",
      "from cythrust.thrust.iterator.zip_iterator cimport make_zip_iterator\n",
      "from cythrust.thrust.tuple cimport make_tuple3\n",
      "                                     \n",
      "                                     \n",
      "def sort_by_key(DeviceVectorViewUint8 keys,\n",
      "                DeviceVectorViewUint32 v1,\n",
      "                DeviceVectorViewUint8 v2,\n",
      "                DeviceVectorViewUint32 v3):\n",
      "    c_sort_by_key(keys._vector.begin(), keys._vector.end(),\n",
      "                  make_zip_iterator(\n",
      "                      make_tuple3(\n",
      "                          v1._vector.begin(),\n",
      "                          v2._vector.begin(),\n",
      "                          v3._vector.begin())))\n",
      "'''\n",
      "\n",
      "module_dir, module_name = context.inline_pyx_module(\n",
      "    code, pyx_kwargs={'cplus': True},\n",
      "    define_macros=[('THRUST_DEVICE_SYSTEM',\n",
      "                    'THRUST_DEVICE_SYSTEM_CPP')])\n",
      "exec('import %s as bar' % module_name)"
     ],
     "language": "python",
     "metadata": {},
     "outputs": [],
     "prompt_number": 7
    },
    {
     "cell_type": "code",
     "collapsed": false,
     "input": [
      "import jinja2\n",
      "\n",
      "template =  '''\n",
      "from cythrust.device_vector cimport {{ key_view_types|join(', ') }}\n",
      "from cythrust.device_vector cimport {{ value_view_types|join(', ') }}\n",
      "from cythrust.thrust.sort cimport sort_by_key as c_sort_by_key\n",
      "from cythrust.thrust.iterator.zip_iterator cimport make_zip_iterator\n",
      "{%- if key_view_types|length > 1 %}\n",
      "from cythrust.thrust.tuple cimport make_tuple{{ key_view_types|length }}\n",
      "{%- endif %}\n",
      "{%- if value_view_types|length > 1 %}\n",
      "from cythrust.thrust.tuple cimport make_tuple{{ value_view_types|length }}\n",
      "{%- endif %}\n",
      "                                     \n",
      "                                     \n",
      "def sort_by_key(\n",
      "        {% for k in key_view_types -%}\n",
      "        {{ k }} keys{{ loop.index }},\n",
      "        {% endfor -%}\n",
      "        {% for v in value_view_types -%}\n",
      "        {{ v }} values{{ loop.index }}\n",
      "        {%- if not loop.last %},{% endif %}\n",
      "        {% endfor -%}):\n",
      "        \n",
      "    c_sort_by_key(\n",
      "        {% if key_view_types|length > 1 -%}\n",
      "        make_zip_iterator(make_tuple{{ key_view_types|length }}(\n",
      "        {%- endif %}\n",
      "          {% for k in key_view_types -%}\n",
      "          keys{{ loop.index }}._vector.begin()\n",
      "          {%- if not loop.last %}, {% endif -%}\n",
      "        {% endfor -%}\n",
      "        {% if key_view_types|length > 1 -%}\n",
      "        ))\n",
      "        {%- endif %},\n",
      "        {% if key_view_types|length > 1 -%}\n",
      "        make_zip_iterator(make_tuple{{ key_view_types|length }}(\n",
      "        {%- endif %}\n",
      "          {% for k in key_view_types -%}\n",
      "          keys{{ loop.index }}._vector.end()\n",
      "          {%- if not loop.last %}, {% endif -%}\n",
      "        {% endfor -%}\n",
      "        {% if key_view_types|length > 1 -%}\n",
      "        ))\n",
      "        {%- endif %},\n",
      "        \n",
      "        {% if value_view_types|length > 1 -%}\n",
      "        make_zip_iterator(make_tuple{{ value_view_types|length }}(\n",
      "        {%- endif -%}\n",
      "          {%- for v in value_view_types %}\n",
      "          values{{ loop.index }}._vector.begin()\n",
      "          {%- if not loop.last %}, {% endif -%}\n",
      "        {% endfor -%}\n",
      "        {% if value_view_types|length > 1 -%}\n",
      "        ))\n",
      "        {%- endif %})\n",
      "'''\n",
      "\n",
      "def get_sort_by_key_func(key_vectors, value_vectors):\n",
      "    key_dtypes = [v.dtype for v in key_vectors]\n",
      "    value_dtypes = [v.dtype for v in value_vectors]\n",
      "    value_view_types = ['DeviceVectorView%s' % d.__name__.title()\n",
      "                        for d in value_dtypes]\n",
      "    key_view_types = ['DeviceVectorView%s' % d.__name__.title()\n",
      "                      for d in key_dtypes]\n",
      "    value_view_types = ['DeviceVectorView%s' % v.dtype.__name__.title()\n",
      "                        for v in value_vectors]\n",
      "    code = jinja2.Template(template).render(key_view_types=key_view_types,\n",
      "                                            value_view_types=value_view_types)\n",
      "    module_dir, module_name = context.inline_pyx_module(\n",
      "        code, pyx_kwargs={'cplus': True},\n",
      "        define_macros=[('THRUST_DEVICE_SYSTEM',\n",
      "                        'THRUST_DEVICE_SYSTEM_CPP')])\n",
      "#                         'THRUST_DEVICE_SYSTEM_TBB')], extra_link_args=['-ltbb'])\n",
      "    exec('import %s as bar' % module_name)\n",
      "    return bar.sort_by_key"
     ],
     "language": "python",
     "metadata": {},
     "outputs": [],
     "prompt_number": 95
    },
    {
     "cell_type": "code",
     "collapsed": false,
     "input": [
      "from IPython.display import display\n",
      "\n",
      "def sort_by_func(df, keys, columns=None):\n",
      "    keys = set(keys)\n",
      "    if columns is None:\n",
      "        columns = [c for c in df.v if c not in keys]\n",
      "    key_vectors = [df.v[k] for k in keys]\n",
      "    value_vectors = [df.v[c] for c in columns]\n",
      "    sort_func = get_sort_by_key_func(key_vectors, value_vectors)\n",
      "#     sort_func(*(key_vectors + value_vectors))\n",
      "    return sort_func, key_vectors, value_vectors"
     ],
     "language": "python",
     "metadata": {},
     "outputs": [],
     "prompt_number": 91
    },
    {
     "cell_type": "code",
     "collapsed": false,
     "input": [
      "N = 100000\n",
      "np.random.seed(0)\n",
      "a = np.random.randint(0, 4, size=N).astype(np.int32)\n",
      "b = np.random.randint(0, 10, size=N).astype(np.int32)\n",
      "c = np.arange(N, dtype=a.dtype)\n",
      "d = np.arange(N - 1, -1, -1, dtype=b.dtype)\n",
      "\n",
      "df = DeviceDataFrame(pd.DataFrame({'a': a, 'b': b, 'c': c, 'd': d},\n",
      "                                  columns=list('abcd')))\n",
      "\n",
      "# display(df[:])\n",
      "keys = list('abc')\n",
      "df_host = df[:].copy()\n",
      "%timeit df_host.sort(keys, inplace=True)\n",
      "\n",
      "sort_func, key_vectors, values_vectors = sort_by_func(df, keys)\n",
      "args = key_vectors + values_vectors \n",
      "%timeit sort_func(*args)\n",
      "# display(df[:])"
     ],
     "language": "python",
     "metadata": {},
     "outputs": [
      {
       "output_type": "stream",
       "stream": "stdout",
       "text": [
        "10 loops, best of 3: 27.8 ms per loop\n",
        "100 loops, best of 3: 7.28 ms per loop"
       ]
      },
      {
       "output_type": "stream",
       "stream": "stdout",
       "text": [
        "\n"
       ]
      }
     ],
     "prompt_number": 94
    },
    {
     "cell_type": "code",
     "collapsed": false,
     "input": [
      "# Perform sum-by-key using Pandas `groupby`.\n",
      "df[:].groupby('a').agg({'b': 'sum'})"
     ],
     "language": "python",
     "metadata": {},
     "outputs": [
      {
       "html": [
        "<div style=\"max-height:1000px;max-width:1500px;overflow:auto;\">\n",
        "<table border=\"1\" class=\"dataframe\">\n",
        "  <thead>\n",
        "    <tr style=\"text-align: right;\">\n",
        "      <th></th>\n",
        "      <th>b</th>\n",
        "    </tr>\n",
        "    <tr>\n",
        "      <th>a</th>\n",
        "      <th></th>\n",
        "    </tr>\n",
        "  </thead>\n",
        "  <tbody>\n",
        "    <tr>\n",
        "      <th>0</th>\n",
        "      <td> 4321</td>\n",
        "    </tr>\n",
        "    <tr>\n",
        "      <th>1</th>\n",
        "      <td> 4518</td>\n",
        "    </tr>\n",
        "    <tr>\n",
        "      <th>2</th>\n",
        "      <td> 4520</td>\n",
        "    </tr>\n",
        "    <tr>\n",
        "      <th>3</th>\n",
        "      <td> 4576</td>\n",
        "    </tr>\n",
        "    <tr>\n",
        "      <th>4</th>\n",
        "      <td> 4123</td>\n",
        "    </tr>\n",
        "    <tr>\n",
        "      <th>5</th>\n",
        "      <td> 4628</td>\n",
        "    </tr>\n",
        "    <tr>\n",
        "      <th>6</th>\n",
        "      <td> 4192</td>\n",
        "    </tr>\n",
        "    <tr>\n",
        "      <th>7</th>\n",
        "      <td> 4327</td>\n",
        "    </tr>\n",
        "    <tr>\n",
        "      <th>8</th>\n",
        "      <td> 4693</td>\n",
        "    </tr>\n",
        "    <tr>\n",
        "      <th>9</th>\n",
        "      <td> 4561</td>\n",
        "    </tr>\n",
        "  </tbody>\n",
        "</table>\n",
        "</div>"
       ],
       "metadata": {},
       "output_type": "pyout",
       "prompt_number": 32,
       "text": [
        "      b\n",
        "a      \n",
        "0  4321\n",
        "1  4518\n",
        "2  4520\n",
        "3  4576\n",
        "4  4123\n",
        "5  4628\n",
        "6  4192\n",
        "7  4327\n",
        "8  4693\n",
        "9  4561"
       ]
      }
     ],
     "prompt_number": 32
    },
    {
     "cell_type": "code",
     "collapsed": false,
     "input": [
      "context = Context()"
     ],
     "language": "python",
     "metadata": {},
     "outputs": [],
     "prompt_number": 3
    },
    {
     "cell_type": "code",
     "collapsed": false,
     "input": [
      "from IPython.display import display\n",
      "\n",
      "N = 10\n",
      "np.random.seed(0)\n",
      "a = np.random.randint(0, 4, size=N).astype(np.int32)\n",
      "b = np.random.randint(0, 10, size=N).astype(np.int32)\n",
      "c = np.arange(N, dtype=a.dtype)\n",
      "d = np.arange(N - 1, -1, -1, dtype=b.dtype)\n",
      "\n",
      "# df = DeviceDataFrame(pd.DataFrame({'a': a, 'b': b, 'c': c, 'd': d},\n",
      "#                                   columns=list('abcd')))\n",
      "\n",
      "# dtypes = [v.dtype for v in df.v.values()]\n",
      "\n",
      "# sort_functor = Sort(context, dtypes)\n",
      "\n",
      "# print sort_functor.module_name\n",
      "# display(df[:].T)\n",
      "# sort_functor(*df.v.values())\n",
      "# display(df[:].T)"
     ],
     "language": "python",
     "metadata": {},
     "outputs": [],
     "prompt_number": 4
    },
    {
     "cell_type": "code",
     "collapsed": false,
     "input": [],
     "language": "python",
     "metadata": {},
     "outputs": [],
     "prompt_number": 5
    },
    {
     "cell_type": "markdown",
     "metadata": {},
     "source": [
      "TODO:\n",
      " - Add the logic from the following two cells as a method\n",
      "   on the `cythrust.Context` class.\n",
      "  * This way, the context is responsible for generating/compiling\n",
      "    extension types for array types as they are used.\n",
      " - __NB__ Use `functools32.lru_cache` to memoize the method to improve\n",
      "   runtime performance.\n",
      " - Potentially persist cache to disk in `__del__` method of `Context`\n",
      "   to save recompiling across sessions.\n",
      "\n",
      " - Write `from_array` to convert a `numpy` array to a `DeviceVector`.\n",
      "  * The code below can be used to auto-generate/look-up the\n",
      "    appropriate `DeviceVector` class.\n",
      "  * `from_array` should be a `Context` method, to tie the behaviour\n",
      "    to a particular Thrust system backend *(e.g., `CPP`, `TBB`)*"
     ]
    },
    {
     "cell_type": "code",
     "collapsed": false,
     "input": [
      "a.dtype == np.int32\n",
      "test = {a.dtype: 'foo'}\n",
      "type(a.dtype)"
     ],
     "language": "python",
     "metadata": {},
     "outputs": [
      {
       "metadata": {},
       "output_type": "pyout",
       "prompt_number": 6,
       "text": [
        "numpy.dtype"
       ]
      }
     ],
     "prompt_number": 6
    },
    {
     "cell_type": "code",
     "collapsed": false,
     "input": [
      "import sys\n",
      "import numpy as np\n",
      "import pandas as pd\n",
      "import functools32\n",
      "\n",
      "from cythrust import Context, DeviceDataFrame\n",
      "from cythrust.timeit_helpers import auto_timeit\n",
      "\n",
      "\n",
      "def create_test_dataframe(system, N, **kwargs):\n",
      "    df = pd.DataFrame({'a': np.random.randint(0, 10, size=N)\n",
      "                       .astype('int32'),\n",
      "                       'b': np.random.randint(0, 10, size=N)\n",
      "                       .astype('int32'),\n",
      "                       'c': np.empty(N, dtype='int32')},\n",
      "                      columns=list('abc'))\n",
      "\n",
      "    return DeviceDataFrame(\n",
      "        df, context=Context(device_system='THRUST_DEVICE_SYSTEM_%s'\n",
      "                            % system.upper(), **kwargs))"
     ],
     "language": "python",
     "metadata": {},
     "outputs": [],
     "prompt_number": 1
    },
    {
     "cell_type": "code",
     "collapsed": false,
     "input": [
      "def get_func(df):\n",
      "    ctx = df._context\n",
      "    module_path, module_name = df._context.inline_pyx_module('''\n",
      "from libc.stdint cimport %s\n",
      "from cythrust.thrust.functional cimport multiplies\n",
      "from cythrust.thrust.transform cimport transform2\n",
      "from %s.device_vector cimport DeviceVectorView as DeviceVectorView1\n",
      "from %s.device_vector cimport DeviceVectorView as DeviceVectorView2\n",
      "from %s.device_vector cimport DeviceVectorView as DeviceVectorView3\n",
      "\n",
      "def foo(DeviceVectorView1 a, DeviceVectorView2 b, DeviceVectorView3 c):\n",
      "    cdef multiplies[%s] mult_\n",
      "    transform2(a._vector.begin(), a._vector.end(), b._vector.begin(),\n",
      "               c._vector.begin(), mult_)\n",
      "    ''' % tuple([df['c'].ctype] +\n",
      "                [ctx.get_device_vector_module(df[k].dtype)\n",
      "                 for k in 'abc'] + [df['c'].ctype]))\n",
      "    exec('from %s import foo' % module_name)\n",
      "    return foo"
     ],
     "language": "python",
     "metadata": {},
     "outputs": [],
     "prompt_number": 2
    },
    {
     "cell_type": "code",
     "collapsed": false,
     "input": [
      "df = create_test_dataframe('tbb', 10)\n",
      "tbb_foo = get_func(df)\n",
      "df = create_test_dataframe('cpp', 10)\n",
      "cpp_foo = get_func(df)"
     ],
     "language": "python",
     "metadata": {},
     "outputs": [
      {
       "output_type": "stream",
       "stream": "stdout",
       "text": [
        "\"/tmp/cythrust__MVi6Yi.pxd\" is not a file.\n",
        "\"/tmp/cythrust__g7z8jJ.pxd\" is not a file."
       ]
      },
      {
       "output_type": "stream",
       "stream": "stdout",
       "text": [
        "\n"
       ]
      }
     ],
     "prompt_number": 3
    },
    {
     "cell_type": "code",
     "collapsed": false,
     "input": [
      "from collections import OrderedDict\n",
      "from IPython.display import display\n",
      "import __builtin__\n",
      "\n",
      "\n",
      "def test_transform2_runtimes(system, N, number=0):\n",
      "    df_ = create_test_dataframe(system, N)\n",
      "    foo = eval('%s_foo' % system)\n",
      "    statement = \"foo(*[df_[k] for k in 'abc'])\"\n",
      "    __builtin__.__dict__.update(locals())\n",
      "    return auto_timeit(statement, '', number=number)"
     ],
     "language": "python",
     "metadata": {},
     "outputs": [],
     "prompt_number": 28
    },
    {
     "cell_type": "code",
     "collapsed": false,
     "input": [
      "display(test_transform2_runtime('cpp', 1e6, number=100))\n",
      "display(test_transform2_runtime('tbb', 1e6, number=100))"
     ],
     "language": "python",
     "metadata": {},
     "outputs": [
      {
       "metadata": {},
       "output_type": "display_data",
       "text": [
        "0.0012724399566650391"
       ]
      },
      {
       "metadata": {},
       "output_type": "display_data",
       "text": [
        "0.0011911296844482422"
       ]
      }
     ],
     "prompt_number": 21
    },
    {
     "cell_type": "code",
     "collapsed": false,
     "input": [
      "# Ns = np.logspace(2, 7, num=10)\n",
      "Ns = np.linspace(10, 1e7, num=10)"
     ],
     "language": "python",
     "metadata": {},
     "outputs": [],
     "prompt_number": 23
    },
    {
     "cell_type": "code",
     "collapsed": false,
     "input": [
      "%matplotlib inline"
     ],
     "language": "python",
     "metadata": {},
     "outputs": [],
     "prompt_number": 25
    },
    {
     "cell_type": "code",
     "collapsed": false,
     "input": [
      "keys = ['cpp', 'tbb']\n",
      "\n",
      "result_frames = []\n",
      "\n",
      "for k in keys:\n",
      "    for N in Ns:\n",
      "        df = pd.DataFrame(test_transform2_runtime(k, N, number=10),\n",
      "                          columns=['runtime'])\n",
      "        df['system'] = k\n",
      "        df['N'] = N\n",
      "        result_frames.append(df)\n",
      "runtimes = pd.concat(result_frames)\n",
      "# runtimes = pd.DataFrame(dict([(k, [test_transform2_runtime(k, N,\n",
      "#                                                            number=100)\n",
      "#                                    for N in Ns])\n",
      "#                               for k in keys]), columns=keys)\n",
      "# runtimes.set_index(Ns, inplace=True)"
     ],
     "language": "python",
     "metadata": {},
     "outputs": [],
     "prompt_number": 30
    },
    {
     "cell_type": "code",
     "collapsed": false,
     "input": [
      "system_runtimes = runtimes.groupby(['system', 'N']).min()\n",
      "# pd.set_eng_float_format(accuracy=3, use_eng_prefix=True)\n",
      "# runtimes.groupby(['system', 'N']).boxplot(column=['runtime'],\n",
      "#                                           figsize=(15, 15))\n",
      "# runtimes"
     ],
     "language": "python",
     "metadata": {},
     "outputs": [],
     "prompt_number": 45
    },
    {
     "cell_type": "code",
     "collapsed": false,
     "input": [
      "(system_runtimes.loc['cpp'] / system_runtimes.loc['tbb']).plot()"
     ],
     "language": "python",
     "metadata": {},
     "outputs": [
      {
       "metadata": {},
       "output_type": "pyout",
       "prompt_number": 48,
       "text": [
        "<matplotlib.axes.AxesSubplot at 0x7f033d493850>"
       ]
      },
      {
       "metadata": {},
       "output_type": "display_data",
       "png": "[encoded data removed]",
       "text": [
        "<matplotlib.figure.Figure at 0x7f03401b1450>"
       ]
      }
     ],
     "prompt_number": 48
    },
    {
     "cell_type": "code",
     "collapsed": false,
     "input": [
      "from cythrust import DeviceDataFrame, Context\n",
      "from cythrust.timeit_helpers import auto_timeit\n",
      "import numpy as np\n",
      "import pandas as pd\n",
      "from datetime import datetime\n",
      "\n",
      "from IPython.display import display"
     ],
     "language": "python",
     "metadata": {},
     "outputs": [],
     "prompt_number": 1
    },
    {
     "cell_type": "code",
     "collapsed": false,
     "input": [
      "np.random.seed(0)\n",
      "N = 1e6\n",
      "# N = 10\n",
      "host_df = pd.DataFrame({'a': np.random.randint(10, size=N)\n",
      "                        .astype('float32'),\n",
      "                        'b': np.random.randint(10, size=N)\n",
      "                        .astype('int32'),\n",
      "                        'c': np.random.randint(3, size=N)\n",
      "                        .astype('float32')},\n",
      "                       columns=list('abc'))"
     ],
     "language": "python",
     "metadata": {},
     "outputs": [],
     "prompt_number": 134
    },
    {
     "cell_type": "code",
     "collapsed": false,
     "input": [
      "context = Context(device_system='THRUST_DEVICE_SYSTEM_TBB')"
     ],
     "language": "python",
     "metadata": {},
     "outputs": [],
     "prompt_number": 3
    },
    {
     "cell_type": "code",
     "collapsed": false,
     "input": [
      "pd.set_eng_float_format(accuracy=3, use_eng_prefix=True)\n",
      "df = DeviceDataFrame(host_df, context=context)\n",
      "display(df.df[:10].T)"
     ],
     "language": "python",
     "metadata": {},
     "outputs": [
      {
       "html": [
        "<div style=\"max-height:1000px;max-width:1500px;overflow:auto;\">\n",
        "<table border=\"1\" class=\"dataframe\">\n",
        "  <thead>\n",
        "    <tr style=\"text-align: right;\">\n",
        "      <th></th>\n",
        "      <th>0</th>\n",
        "      <th>1</th>\n",
        "      <th>2</th>\n",
        "      <th>3</th>\n",
        "      <th>4</th>\n",
        "      <th>5</th>\n",
        "      <th>6</th>\n",
        "      <th>7</th>\n",
        "      <th>8</th>\n",
        "      <th>9</th>\n",
        "    </tr>\n",
        "  </thead>\n",
        "  <tbody>\n",
        "    <tr>\n",
        "      <th>a</th>\n",
        "      <td> 5.000</td>\n",
        "      <td> 0.000</td>\n",
        "      <td> 3.000</td>\n",
        "      <td> 3.000</td>\n",
        "      <td> 7.000</td>\n",
        "      <td> 9.000</td>\n",
        "      <td> 3.000</td>\n",
        "      <td> 5.000</td>\n",
        "      <td> 2.000</td>\n",
        "      <td> 4.000</td>\n",
        "    </tr>\n",
        "    <tr>\n",
        "      <th>b</th>\n",
        "      <td> 5.000</td>\n",
        "      <td> 4.000</td>\n",
        "      <td> 1.000</td>\n",
        "      <td> 3.000</td>\n",
        "      <td> 7.000</td>\n",
        "      <td> 6.000</td>\n",
        "      <td> 7.000</td>\n",
        "      <td> 1.000</td>\n",
        "      <td> 5.000</td>\n",
        "      <td> 0.000</td>\n",
        "    </tr>\n",
        "    <tr>\n",
        "      <th>c</th>\n",
        "      <td> 2.000</td>\n",
        "      <td> 1.000</td>\n",
        "      <td> 2.000</td>\n",
        "      <td> 1.000</td>\n",
        "      <td> 0.000</td>\n",
        "      <td> 1.000</td>\n",
        "      <td> 2.000</td>\n",
        "      <td> 2.000</td>\n",
        "      <td> 0.000</td>\n",
        "      <td> 1.000</td>\n",
        "    </tr>\n",
        "  </tbody>\n",
        "</table>\n",
        "</div>"
       ],
       "metadata": {},
       "output_type": "display_data",
       "text": [
        "       0      1      2      3      4      5      6      7      8      9\n",
        "a  5.000  0.000  3.000  3.000  7.000  9.000  3.000  5.000  2.000  4.000\n",
        "b  5.000  4.000  1.000  3.000  7.000  6.000  7.000  1.000  5.000  0.000\n",
        "c  2.000  1.000  2.000  1.000  0.000  1.000  2.000  2.000  0.000  1.000"
       ]
      }
     ],
     "prompt_number": 158
    },
    {
     "cell_type": "code",
     "collapsed": false,
     "input": [
      "start = datetime.now()\n",
      "df.sort(['a', 'b'], 'c', stable=False)\n",
      "end = datetime.now()\n",
      "print pd.Series((end - start).total_seconds())\n",
      "display(df.df[:10].T)"
     ],
     "language": "python",
     "metadata": {},
     "outputs": [
      {
       "output_type": "stream",
       "stream": "stdout",
       "text": [
        "0    31.843m\n",
        "dtype: float64\n"
       ]
      },
      {
       "html": [
        "<div style=\"max-height:1000px;max-width:1500px;overflow:auto;\">\n",
        "<table border=\"1\" class=\"dataframe\">\n",
        "  <thead>\n",
        "    <tr style=\"text-align: right;\">\n",
        "      <th></th>\n",
        "      <th>0</th>\n",
        "      <th>1</th>\n",
        "      <th>2</th>\n",
        "      <th>3</th>\n",
        "      <th>4</th>\n",
        "      <th>5</th>\n",
        "      <th>6</th>\n",
        "      <th>7</th>\n",
        "      <th>8</th>\n",
        "      <th>9</th>\n",
        "    </tr>\n",
        "  </thead>\n",
        "  <tbody>\n",
        "    <tr>\n",
        "      <th>a</th>\n",
        "      <td> 7.000</td>\n",
        "      <td> 2.000</td>\n",
        "      <td> 7.000</td>\n",
        "      <td> 8.000</td>\n",
        "      <td> 1.000</td>\n",
        "      <td> 5.000</td>\n",
        "      <td> 8.000</td>\n",
        "      <td> 9.000</td>\n",
        "      <td> 4.000</td>\n",
        "      <td> 3.000</td>\n",
        "    </tr>\n",
        "    <tr>\n",
        "      <th>b</th>\n",
        "      <td> 7.000</td>\n",
        "      <td> 5.000</td>\n",
        "      <td> 4.000</td>\n",
        "      <td> 0.000</td>\n",
        "      <td> 1.000</td>\n",
        "      <td> 3.000</td>\n",
        "      <td> 9.000</td>\n",
        "      <td> 7.000</td>\n",
        "      <td> 8.000</td>\n",
        "      <td> 1.000</td>\n",
        "    </tr>\n",
        "    <tr>\n",
        "      <th>c</th>\n",
        "      <td> 0.000</td>\n",
        "      <td> 0.000</td>\n",
        "      <td> 0.000</td>\n",
        "      <td> 0.000</td>\n",
        "      <td> 0.000</td>\n",
        "      <td> 0.000</td>\n",
        "      <td> 0.000</td>\n",
        "      <td> 0.000</td>\n",
        "      <td> 0.000</td>\n",
        "      <td> 0.000</td>\n",
        "    </tr>\n",
        "  </tbody>\n",
        "</table>\n",
        "</div>"
       ],
       "metadata": {},
       "output_type": "display_data",
       "text": [
        "       0      1      2      3      4      5      6      7      8      9\n",
        "a  7.000  2.000  7.000  8.000  1.000  5.000  8.000  9.000  4.000  3.000\n",
        "b  7.000  5.000  4.000  0.000  1.000  3.000  9.000  7.000  8.000  1.000\n",
        "c  0.000  0.000  0.000  0.000  0.000  0.000  0.000  0.000  0.000  0.000"
       ]
      }
     ],
     "prompt_number": 159
    }
   ],
   "metadata": {}
  }
 ]
}