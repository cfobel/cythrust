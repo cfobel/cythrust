{
 "metadata": {
  "name": "",
  "signature": "sha256:e721463c9bf0677270ad2db854cb62449cff19f644341b564614cb4c37be630d"
 },
 "nbformat": 3,
 "nbformat_minor": 0,
 "worksheets": [
  {
   "cells": [
    {
     "cell_type": "code",
     "collapsed": false,
     "input": [
      "code =  '''\n",
      "from cythrust.device_vector cimport (DeviceVectorViewUint8,\n",
      "                                     DeviceVectorViewUint32)\n",
      "from cythrust.thrust.sort cimport sort_by_key as c_sort_by_key\n",
      "from cythrust.thrust.iterator.zip_iterator cimport make_zip_iterator\n",
      "from cythrust.thrust.tuple cimport make_tuple3\n",
      "                                     \n",
      "                                     \n",
      "def sort_by_key(DeviceVectorViewUint8 keys,\n",
      "                DeviceVectorViewUint32 v1,\n",
      "                DeviceVectorViewUint8 v2,\n",
      "                DeviceVectorViewUint32 v3):\n",
      "    c_sort_by_key(keys._vector.begin(), keys._vector.end(),\n",
      "                  make_zip_iterator(\n",
      "                      make_tuple3(\n",
      "                          v1._vector.begin(),\n",
      "                          v2._vector.begin(),\n",
      "                          v3._vector.begin())))\n",
      "'''\n",
      "\n",
      "module_dir, module_name = context.inline_pyx_module(\n",
      "    code, pyx_kwargs={'cplus': True},\n",
      "    define_macros=[('THRUST_DEVICE_SYSTEM',\n",
      "                    'THRUST_DEVICE_SYSTEM_CPP')])\n",
      "exec('import %s as bar' % module_name)"
     ],
     "language": "python",
     "metadata": {},
     "outputs": [],
     "prompt_number": 7
    },
    {
     "cell_type": "code",
     "collapsed": false,
     "input": [
      "import sys\n",
      "import numpy as np\n",
      "import pandas as pd\n",
      "import functools32\n",
      "\n",
      "from cythrust import Context, DeviceDataFrame\n",
      "from cythrust.timeit_helpers import auto_timeit\n",
      "\n",
      "\n",
      "def create_test_dataframe(system, N, **kwargs):\n",
      "    df = pd.DataFrame({'a': np.random.randint(0, 10, size=N)\n",
      "                       .astype('int32'),\n",
      "                       'b': np.random.randint(0, 10, size=N)\n",
      "                       .astype('int32'),\n",
      "                       'c': np.empty(N, dtype='int32')},\n",
      "                      columns=list('abc'))\n",
      "\n",
      "    return DeviceDataFrame(\n",
      "        df, context=Context(device_system='THRUST_DEVICE_SYSTEM_%s'\n",
      "                            % system.upper(), **kwargs))"
     ],
     "language": "python",
     "metadata": {},
     "outputs": [],
     "prompt_number": 1
    },
    {
     "cell_type": "code",
     "collapsed": false,
     "input": [
      "def get_func(df):\n",
      "    ctx = df._context\n",
      "    module_path, module_name = df._context.inline_pyx_module('''\n",
      "from libc.stdint cimport %s\n",
      "from cythrust.thrust.functional cimport multiplies\n",
      "from cythrust.thrust.transform cimport transform2\n",
      "from %s.device_vector cimport DeviceVectorView as DeviceVectorView1\n",
      "from %s.device_vector cimport DeviceVectorView as DeviceVectorView2\n",
      "from %s.device_vector cimport DeviceVectorView as DeviceVectorView3\n",
      "\n",
      "def foo(DeviceVectorView1 a, DeviceVectorView2 b, DeviceVectorView3 c):\n",
      "    cdef multiplies[%s] mult_\n",
      "    transform2(a._vector.begin(), a._vector.end(), b._vector.begin(),\n",
      "               c._vector.begin(), mult_)\n",
      "    ''' % tuple([df['c'].ctype] +\n",
      "                [ctx.get_device_vector_module(df[k].dtype)\n",
      "                 for k in 'abc'] + [df['c'].ctype]))\n",
      "    exec('from %s import foo' % module_name)\n",
      "    return foo"
     ],
     "language": "python",
     "metadata": {},
     "outputs": [],
     "prompt_number": 2
    },
    {
     "cell_type": "code",
     "collapsed": false,
     "input": [
      "df = create_test_dataframe('tbb', 10)\n",
      "tbb_foo = get_func(df)\n",
      "df = create_test_dataframe('cpp', 10)\n",
      "cpp_foo = get_func(df)"
     ],
     "language": "python",
     "metadata": {},
     "outputs": [
      {
       "output_type": "stream",
       "stream": "stdout",
       "text": [
        "\"/tmp/cythrust__MVi6Yi.pxd\" is not a file.\n",
        "\"/tmp/cythrust__g7z8jJ.pxd\" is not a file."
       ]
      },
      {
       "output_type": "stream",
       "stream": "stdout",
       "text": [
        "\n"
       ]
      }
     ],
     "prompt_number": 3
    },
    {
     "cell_type": "code",
     "collapsed": false,
     "input": [
      "from collections import OrderedDict\n",
      "from IPython.display import display\n",
      "import __builtin__\n",
      "\n",
      "\n",
      "def test_transform2_runtimes(system, N, number=0):\n",
      "    df_ = create_test_dataframe(system, N)\n",
      "    foo = eval('%s_foo' % system)\n",
      "    statement = \"foo(*[df_[k] for k in 'abc'])\"\n",
      "    __builtin__.__dict__.update(locals())\n",
      "    return auto_timeit(statement, '', number=number)"
     ],
     "language": "python",
     "metadata": {},
     "outputs": [],
     "prompt_number": 28
    },
    {
     "cell_type": "code",
     "collapsed": false,
     "input": [
      "display(test_transform2_runtime('cpp', 1e6, number=100))\n",
      "display(test_transform2_runtime('tbb', 1e6, number=100))"
     ],
     "language": "python",
     "metadata": {},
     "outputs": [
      {
       "metadata": {},
       "output_type": "display_data",
       "text": [
        "0.0012724399566650391"
       ]
      },
      {
       "metadata": {},
       "output_type": "display_data",
       "text": [
        "0.0011911296844482422"
       ]
      }
     ],
     "prompt_number": 21
    },
    {
     "cell_type": "code",
     "collapsed": false,
     "input": [
      "# Ns = np.logspace(2, 7, num=10)\n",
      "Ns = np.linspace(10, 1e7, num=10)"
     ],
     "language": "python",
     "metadata": {},
     "outputs": [],
     "prompt_number": 23
    },
    {
     "cell_type": "code",
     "collapsed": false,
     "input": [
      "%matplotlib inline"
     ],
     "language": "python",
     "metadata": {},
     "outputs": [],
     "prompt_number": 25
    },
    {
     "cell_type": "code",
     "collapsed": false,
     "input": [
      "keys = ['cpp', 'tbb']\n",
      "\n",
      "result_frames = []\n",
      "\n",
      "for k in keys:\n",
      "    for N in Ns:\n",
      "        df = pd.DataFrame(test_transform2_runtime(k, N, number=10),\n",
      "                          columns=['runtime'])\n",
      "        df['system'] = k\n",
      "        df['N'] = N\n",
      "        result_frames.append(df)\n",
      "runtimes = pd.concat(result_frames)\n",
      "# runtimes = pd.DataFrame(dict([(k, [test_transform2_runtime(k, N,\n",
      "#                                                            number=100)\n",
      "#                                    for N in Ns])\n",
      "#                               for k in keys]), columns=keys)\n",
      "# runtimes.set_index(Ns, inplace=True)"
     ],
     "language": "python",
     "metadata": {},
     "outputs": [],
     "prompt_number": 30
    },
    {
     "cell_type": "code",
     "collapsed": false,
     "input": [
      "system_runtimes = runtimes.groupby(['system', 'N']).min()\n",
      "# pd.set_eng_float_format(accuracy=3, use_eng_prefix=True)\n",
      "# runtimes.groupby(['system', 'N']).boxplot(column=['runtime'],\n",
      "#                                           figsize=(15, 15))\n",
      "# runtimes"
     ],
     "language": "python",
     "metadata": {},
     "outputs": [],
     "prompt_number": 45
    },
    {
     "cell_type": "code",
     "collapsed": false,
     "input": [
      "(system_runtimes.loc['cpp'] / system_runtimes.loc['tbb']).plot()"
     ],
     "language": "python",
     "metadata": {},
     "outputs": [
      {
       "metadata": {},
       "output_type": "pyout",
       "prompt_number": 48,
       "text": [
        "<matplotlib.axes.AxesSubplot at 0x7f033d493850>"
       ]
      },
      {
       "metadata": {},
       "output_type": "display_data",
       "png": "[encoded data removed]",
       "text": [
        "<matplotlib.figure.Figure at 0x7f03401b1450>"
       ]
      }
     ],
     "prompt_number": 48
    },
    {
     "cell_type": "code",
     "collapsed": false,
     "input": [
      "from cythrust import DeviceDataFrame, Context\n",
      "from cythrust.timeit_helpers import auto_timeit\n",
      "import numpy as np\n",
      "import pandas as pd\n",
      "from datetime import datetime\n",
      "\n",
      "from IPython.display import display"
     ],
     "language": "python",
     "metadata": {},
     "outputs": [],
     "prompt_number": 1
    },
    {
     "cell_type": "code",
     "collapsed": false,
     "input": [
      "np.random.seed(0)\n",
      "N = 1e6\n",
      "# N = 10\n",
      "host_df = pd.DataFrame({'a': np.random.randint(10, size=N)\n",
      "                        .astype('float32'),\n",
      "                        'b': np.random.randint(10, size=N)\n",
      "                        .astype('int32'),\n",
      "                        'c': np.random.randint(3, size=N)\n",
      "                        .astype('float32')},\n",
      "                       columns=list('abc'))"
     ],
     "language": "python",
     "metadata": {},
     "outputs": [],
     "prompt_number": 2
    },
    {
     "cell_type": "code",
     "collapsed": false,
     "input": [
      "context = Context(device_system='THRUST_DEVICE_SYSTEM_TBB')"
     ],
     "language": "python",
     "metadata": {},
     "outputs": [],
     "prompt_number": 3
    },
    {
     "cell_type": "code",
     "collapsed": false,
     "input": [
      "pd.set_eng_float_format(accuracy=3, use_eng_prefix=True)\n",
      "df = DeviceDataFrame(host_df, context=context)\n",
      "display(df.df[:10].T)"
     ],
     "language": "python",
     "metadata": {},
     "outputs": [
      {
       "html": [
        "<div style=\"max-height:1000px;max-width:1500px;overflow:auto;\">\n",
        "<table border=\"1\" class=\"dataframe\">\n",
        "  <thead>\n",
        "    <tr style=\"text-align: right;\">\n",
        "      <th></th>\n",
        "      <th>0</th>\n",
        "      <th>1</th>\n",
        "      <th>2</th>\n",
        "      <th>3</th>\n",
        "      <th>4</th>\n",
        "      <th>5</th>\n",
        "      <th>6</th>\n",
        "      <th>7</th>\n",
        "      <th>8</th>\n",
        "      <th>9</th>\n",
        "    </tr>\n",
        "  </thead>\n",
        "  <tbody>\n",
        "    <tr>\n",
        "      <th>a</th>\n",
        "      <td> 5.000</td>\n",
        "      <td> 0.000</td>\n",
        "      <td> 3.000</td>\n",
        "      <td> 3.000</td>\n",
        "      <td> 7.000</td>\n",
        "      <td> 9.000</td>\n",
        "      <td> 3.000</td>\n",
        "      <td> 5.000</td>\n",
        "      <td> 2.000</td>\n",
        "      <td> 4.000</td>\n",
        "    </tr>\n",
        "    <tr>\n",
        "      <th>b</th>\n",
        "      <td> 5.000</td>\n",
        "      <td> 4.000</td>\n",
        "      <td> 1.000</td>\n",
        "      <td> 3.000</td>\n",
        "      <td> 7.000</td>\n",
        "      <td> 6.000</td>\n",
        "      <td> 7.000</td>\n",
        "      <td> 1.000</td>\n",
        "      <td> 5.000</td>\n",
        "      <td> 0.000</td>\n",
        "    </tr>\n",
        "    <tr>\n",
        "      <th>c</th>\n",
        "      <td> 2.000</td>\n",
        "      <td> 1.000</td>\n",
        "      <td> 2.000</td>\n",
        "      <td> 1.000</td>\n",
        "      <td> 0.000</td>\n",
        "      <td> 1.000</td>\n",
        "      <td> 2.000</td>\n",
        "      <td> 2.000</td>\n",
        "      <td> 0.000</td>\n",
        "      <td> 1.000</td>\n",
        "    </tr>\n",
        "  </tbody>\n",
        "</table>\n",
        "</div>"
       ],
       "metadata": {},
       "output_type": "display_data",
       "text": [
        "       0      1      2      3      4      5      6      7      8      9\n",
        "a  5.000  0.000  3.000  3.000  7.000  9.000  3.000  5.000  2.000  4.000\n",
        "b  5.000  4.000  1.000  3.000  7.000  6.000  7.000  1.000  5.000  0.000\n",
        "c  2.000  1.000  2.000  1.000  0.000  1.000  2.000  2.000  0.000  1.000"
       ]
      }
     ],
     "prompt_number": 8
    },
    {
     "cell_type": "code",
     "collapsed": false,
     "input": [
      "start = datetime.now()\n",
      "df.sort(['a', 'b'], 'c', stable=False)\n",
      "end = datetime.now()\n",
      "print pd.Series((end - start).total_seconds())\n",
      "display(df.df[:10].T)"
     ],
     "language": "python",
     "metadata": {},
     "outputs": [
      {
       "output_type": "stream",
       "stream": "stdout",
       "text": [
        "0    24.863m\n",
        "dtype: float64\n"
       ]
      },
      {
       "html": [
        "<div style=\"max-height:1000px;max-width:1500px;overflow:auto;\">\n",
        "<table border=\"1\" class=\"dataframe\">\n",
        "  <thead>\n",
        "    <tr style=\"text-align: right;\">\n",
        "      <th></th>\n",
        "      <th>0</th>\n",
        "      <th>1</th>\n",
        "      <th>2</th>\n",
        "      <th>3</th>\n",
        "      <th>4</th>\n",
        "      <th>5</th>\n",
        "      <th>6</th>\n",
        "      <th>7</th>\n",
        "      <th>8</th>\n",
        "      <th>9</th>\n",
        "    </tr>\n",
        "  </thead>\n",
        "  <tbody>\n",
        "    <tr>\n",
        "      <th>a</th>\n",
        "      <td> 7.000</td>\n",
        "      <td> 2.000</td>\n",
        "      <td> 7.000</td>\n",
        "      <td> 8.000</td>\n",
        "      <td> 1.000</td>\n",
        "      <td> 5.000</td>\n",
        "      <td> 8.000</td>\n",
        "      <td> 9.000</td>\n",
        "      <td> 4.000</td>\n",
        "      <td> 3.000</td>\n",
        "    </tr>\n",
        "    <tr>\n",
        "      <th>b</th>\n",
        "      <td> 7.000</td>\n",
        "      <td> 5.000</td>\n",
        "      <td> 4.000</td>\n",
        "      <td> 0.000</td>\n",
        "      <td> 1.000</td>\n",
        "      <td> 3.000</td>\n",
        "      <td> 9.000</td>\n",
        "      <td> 7.000</td>\n",
        "      <td> 8.000</td>\n",
        "      <td> 1.000</td>\n",
        "    </tr>\n",
        "    <tr>\n",
        "      <th>c</th>\n",
        "      <td> 0.000</td>\n",
        "      <td> 0.000</td>\n",
        "      <td> 0.000</td>\n",
        "      <td> 0.000</td>\n",
        "      <td> 0.000</td>\n",
        "      <td> 0.000</td>\n",
        "      <td> 0.000</td>\n",
        "      <td> 0.000</td>\n",
        "      <td> 0.000</td>\n",
        "      <td> 0.000</td>\n",
        "    </tr>\n",
        "  </tbody>\n",
        "</table>\n",
        "</div>"
       ],
       "metadata": {},
       "output_type": "display_data",
       "text": [
        "       0      1      2      3      4      5      6      7      8      9\n",
        "a  7.000  2.000  7.000  8.000  1.000  5.000  8.000  9.000  4.000  3.000\n",
        "b  7.000  5.000  4.000  0.000  1.000  3.000  9.000  7.000  8.000  1.000\n",
        "c  0.000  0.000  0.000  0.000  0.000  0.000  0.000  0.000  0.000  0.000"
       ]
      }
     ],
     "prompt_number": 10
    },
    {
     "cell_type": "code",
     "collapsed": false,
     "input": [
      "result_frames = []\n",
      "\n",
      "tbb_context = Context(device_system='THRUST_DEVICE_SYSTEM_TBB')\n",
      "cpp_context = Context(device_system='THRUST_DEVICE_SYSTEM_CPP')\n",
      "\n",
      "try:\n",
      "    for N in np.logspace(2, 7, num=20):\n",
      "        print N\n",
      "        np.random.seed(0)\n",
      "        host_df = pd.DataFrame({'a': np.random.randint(10, size=N)\n",
      "                                .astype('float32'),\n",
      "                                'b': np.random.randint(10, size=N)\n",
      "                                .astype('int32'),\n",
      "                                'c': np.random.randint(3, size=N)\n",
      "                                .astype('float32')},\n",
      "                               columns=list('abc'))\n",
      "        for context in (tbb_context, cpp_context):\n",
      "            times = []\n",
      "            for i in xrange(100):\n",
      "                df = DeviceDataFrame(host_df, context=context)\n",
      "                start = datetime.now()\n",
      "                df.sort()\n",
      "                end = datetime.now()\n",
      "                times.append((end - start).total_seconds())\n",
      "            result_frame = pd.DataFrame(times, columns=['runtime'])\n",
      "            result_frame['system'] = (context.device_system\n",
      "                                      .split('_')[-1].lower())\n",
      "            result_frame['N'] = N\n",
      "            result_frames.append(result_frame)\n",
      "except KeyboardInterrupt:\n",
      "    pass\n",
      "\n",
      "runtimes = pd.concat(result_frames).groupby(['system', 'N']).min()\n",
      "runtimes.unstack().T.reset_index(level=0, drop=True).plot(figsize=\n",
      "                                                          (10, 6))"
     ],
     "language": "python",
     "metadata": {},
     "outputs": [
      {
       "output_type": "stream",
       "stream": "stdout",
       "text": [
        "100.0\n",
        "\"/tmp/cythrust__mUIO04.pxd\" is not a file.\n",
        "\"/tmp/cythrust__FqYTEs.pxd\" is not a file."
       ]
      },
      {
       "output_type": "stream",
       "stream": "stdout",
       "text": [
        "\n",
        "183.298071083"
       ]
      },
      {
       "output_type": "stream",
       "stream": "stdout",
       "text": [
        "\n",
        "335.981828628"
       ]
      },
      {
       "output_type": "stream",
       "stream": "stdout",
       "text": [
        "\n",
        "615.848211066"
       ]
      },
      {
       "output_type": "stream",
       "stream": "stdout",
       "text": [
        "\n",
        "1128.83789168"
       ]
      },
      {
       "output_type": "stream",
       "stream": "stdout",
       "text": [
        "\n",
        "2069.13808111"
       ]
      },
      {
       "output_type": "stream",
       "stream": "stdout",
       "text": [
        "\n",
        "3792.69019073"
       ]
      },
      {
       "output_type": "stream",
       "stream": "stdout",
       "text": [
        "\n",
        "6951.92796178"
       ]
      },
      {
       "output_type": "stream",
       "stream": "stdout",
       "text": [
        "\n",
        "12742.749857"
       ]
      },
      {
       "output_type": "stream",
       "stream": "stdout",
       "text": [
        "\n",
        "23357.2146909"
       ]
      },
      {
       "output_type": "stream",
       "stream": "stdout",
       "text": [
        "\n",
        "42813.3239872"
       ]
      },
      {
       "output_type": "stream",
       "stream": "stdout",
       "text": [
        "\n",
        "78475.9970351"
       ]
      },
      {
       "output_type": "stream",
       "stream": "stdout",
       "text": [
        "\n",
        "143844.988829"
       ]
      },
      {
       "output_type": "stream",
       "stream": "stdout",
       "text": [
        "\n",
        "263665.089873"
       ]
      },
      {
       "output_type": "stream",
       "stream": "stdout",
       "text": [
        "\n",
        "483293.023857"
       ]
      },
      {
       "output_type": "stream",
       "stream": "stdout",
       "text": [
        "\n",
        "885866.79041"
       ]
      },
      {
       "output_type": "stream",
       "stream": "stdout",
       "text": [
        "\n",
        "1623776.73919"
       ]
      },
      {
       "output_type": "stream",
       "stream": "stdout",
       "text": [
        "\n"
       ]
      },
      {
       "metadata": {},
       "output_type": "pyout",
       "prompt_number": 10,
       "text": [
        "<matplotlib.axes.AxesSubplot at 0x7f597c0df410>"
       ]
      },
      {
       "metadata": {},
       "output_type": "display_data",
       "png": "[encoded data removed]",
       "text": [
        "<matplotlib.figure.Figure at 0x7f597cc43210>"
       ]
      }
     ],
     "prompt_number": 10
    },
    {
     "cell_type": "code",
     "collapsed": false,
     "input": [
      "%matplotlib inline"
     ],
     "language": "python",
     "metadata": {},
     "outputs": [],
     "prompt_number": 3
    },
    {
     "cell_type": "code",
     "collapsed": false,
     "input": [
      "(runtimes.loc['cpp'] / runtimes.loc['tbb']).plot()"
     ],
     "language": "python",
     "metadata": {},
     "outputs": [
      {
       "metadata": {},
       "output_type": "pyout",
       "prompt_number": 14,
       "text": [
        "<matplotlib.axes.AxesSubplot at 0x7f596efbf510>"
       ]
      },
      {
       "metadata": {},
       "output_type": "display_data",
       "png": "[encoded data removed]",
       "text": [
        "<matplotlib.figure.Figure at 0x7f597d284790>"
       ]
      }
     ],
     "prompt_number": 14
    },
    {
     "cell_type": "code",
     "collapsed": false,
     "input": [
      "from cythrust import DeviceDataFrame, Context\n",
      "from cythrust.timeit_helpers import auto_timeit\n",
      "import numpy as np\n",
      "import pandas as pd\n",
      "from datetime import datetime\n",
      "\n",
      "from IPython.display import display"
     ],
     "language": "python",
     "metadata": {},
     "outputs": [],
     "prompt_number": 1
    },
    {
     "cell_type": "code",
     "collapsed": false,
     "input": [
      "np.random.seed(0)\n",
      "N = 10\n",
      "host_df = pd.DataFrame({'a': np.random.randint(1, 10, size=N)\n",
      "                        .astype('uint8'),\n",
      "                        'b': np.random.randint(1, 10, size=N)\n",
      "                        .astype('int32'),\n",
      "                        'c': np.random.randint(3, size=N)\n",
      "                        .astype('float32'),\n",
      "                        'd': np.random.randint(3, size=N)\n",
      "                        .astype('float32')},\n",
      "                       columns=list('abcd'))"
     ],
     "language": "python",
     "metadata": {},
     "outputs": [],
     "prompt_number": 95
    },
    {
     "cell_type": "code",
     "collapsed": false,
     "input": [
      "import tempfile\n",
      "from path_helpers import path"
     ],
     "language": "python",
     "metadata": {},
     "outputs": [],
     "prompt_number": 96
    },
    {
     "cell_type": "code",
     "collapsed": false,
     "input": [
      "host_df.loc[:, 'b'] = (host_df['a'] ** 2).astype('int32')\n",
      "df = DeviceDataFrame(host_df)\n",
      "display(df.df[:].T)"
     ],
     "language": "python",
     "metadata": {},
     "outputs": [
      {
       "html": [
        "<div style=\"max-height:1000px;max-width:1500px;overflow:auto;\">\n",
        "<table border=\"1\" class=\"dataframe\">\n",
        "  <thead>\n",
        "    <tr style=\"text-align: right;\">\n",
        "      <th></th>\n",
        "      <th>0</th>\n",
        "      <th>1</th>\n",
        "      <th>2</th>\n",
        "      <th>3</th>\n",
        "      <th>4</th>\n",
        "      <th>5</th>\n",
        "      <th>6</th>\n",
        "      <th>7</th>\n",
        "      <th>8</th>\n",
        "      <th>9</th>\n",
        "    </tr>\n",
        "  </thead>\n",
        "  <tbody>\n",
        "    <tr>\n",
        "      <th>a</th>\n",
        "      <td>  6</td>\n",
        "      <td> 1</td>\n",
        "      <td>  4</td>\n",
        "      <td>  4</td>\n",
        "      <td>  8</td>\n",
        "      <td>  4</td>\n",
        "      <td>  6</td>\n",
        "      <td> 3</td>\n",
        "      <td>  5</td>\n",
        "      <td>  8</td>\n",
        "    </tr>\n",
        "    <tr>\n",
        "      <th>b</th>\n",
        "      <td> 36</td>\n",
        "      <td> 1</td>\n",
        "      <td> 16</td>\n",
        "      <td> 16</td>\n",
        "      <td> 64</td>\n",
        "      <td> 16</td>\n",
        "      <td> 36</td>\n",
        "      <td> 9</td>\n",
        "      <td> 25</td>\n",
        "      <td> 64</td>\n",
        "    </tr>\n",
        "    <tr>\n",
        "      <th>c</th>\n",
        "      <td>  1</td>\n",
        "      <td> 1</td>\n",
        "      <td>  0</td>\n",
        "      <td>  1</td>\n",
        "      <td>  0</td>\n",
        "      <td>  0</td>\n",
        "      <td>  1</td>\n",
        "      <td> 2</td>\n",
        "      <td>  0</td>\n",
        "      <td>  2</td>\n",
        "    </tr>\n",
        "    <tr>\n",
        "      <th>d</th>\n",
        "      <td>  0</td>\n",
        "      <td> 1</td>\n",
        "      <td>  1</td>\n",
        "      <td>  2</td>\n",
        "      <td>  0</td>\n",
        "      <td>  1</td>\n",
        "      <td>  1</td>\n",
        "      <td> 1</td>\n",
        "      <td>  0</td>\n",
        "      <td>  2</td>\n",
        "    </tr>\n",
        "  </tbody>\n",
        "</table>\n",
        "</div>"
       ],
       "metadata": {},
       "output_type": "display_data",
       "text": [
        "    0  1   2   3   4   5   6  7   8   9\n",
        "a   6  1   4   4   8   4   6  3   5   8\n",
        "b  36  1  16  16  64  16  36  9  25  64\n",
        "c   1  1   0   1   0   0   1  2   0   2\n",
        "d   0  1   1   2   0   1   1  1   0   2"
       ]
      }
     ],
     "prompt_number": 98
    },
    {
     "cell_type": "code",
     "collapsed": false,
     "input": [
      "from theano_helpers import (DataFlowGraph, ThrustCode,\n",
      "                            CTYPE_BY_THEANO_TYPE)\n",
      "import theano.tensor as T"
     ],
     "language": "python",
     "metadata": {},
     "outputs": [],
     "prompt_number": 99
    },
    {
     "cell_type": "code",
     "collapsed": false,
     "input": [
      "scalar = T.iscalar('scalar')\n",
      "exp = T.scalar('exp', dtype='float32')\n",
      "a = T.vector('a', dtype='uint8')\n",
      "b = T.vector('b', dtype='int32')\n",
      "\n",
      "dfg = DataFlowGraph((10 + a) / 4. - T.sqrt(b))\n",
      "thrust_code = ThrustCode(dfg)"
     ],
     "language": "python",
     "metadata": {},
     "outputs": [],
     "prompt_number": 109
    },
    {
     "cell_type": "code",
     "collapsed": false,
     "input": [
      "import hashlib"
     ],
     "language": "python",
     "metadata": {},
     "outputs": [],
     "prompt_number": 110
    },
    {
     "cell_type": "code",
     "collapsed": false,
     "input": [
      "header_dir = path(tempfile.mkdtemp(prefix='cythrust_temp-'))\n",
      "\n",
      "try:\n",
      "    code = thrust_code.header_code('Foo')\n",
      "    hash_label = hashlib.sha1(code).hexdigest()[:12]\n",
      "    header_path = header_dir.joinpath('%s.hpp' % hash_label)\n",
      "    with header_path.open('wb') as output:\n",
      "        output.write(code)\n",
      "    foo = df.inline_func(df.columns, code='''\n",
      "#     cdef Foo *op\n",
      "#     op = new Foo(<Foo.scalar_t>scalar,\n",
      "#                  <Foo.exp_t>exp,\n",
      "#                  <Foo.a_t>a._begin,\n",
      "#                  <Foo.b_t>b._begin)\n",
      "#     cdef size_t N = a._end - a._begin\n",
      "#     copy_n(\n",
      "#         make_zip_iterator(\n",
      "#             make_tuple2(op.begin(), op.begin())),\n",
      "#         N,\n",
      "#         make_zip_iterator(\n",
      "#             make_tuple2(c._begin, d._begin)))\n",
      "    cdef Foo *op\n",
      "    op = new Foo(<Foo.a_t>a._begin, <Foo.b_t>b._begin)\n",
      "    cdef size_t N = a._end - a._begin\n",
      "    copy_n(op.begin(), N, c._begin)\n",
      "    return N\n",
      "''',\n",
      "    setup=thrust_code.cython_header_code('Foo',\n",
      "                                         '\"%s.hpp\"' % hash_label),\n",
      "    include_dirs=df._context.kwargs['include_dirs'] + [header_dir],\n",
      "    )\n",
      "#     context={'preargs': '%s scalar, %s exp, ' %\n",
      "#              tuple([CTYPE_BY_THEANO_TYPE[v.dtype]\n",
      "#                     for v in (scalar, exp)])})\n",
      "finally:\n",
      "    header_dir.rmtree()\n",
      "# print code"
     ],
     "language": "python",
     "metadata": {},
     "outputs": [
      {
       "output_type": "stream",
       "stream": "stdout",
       "text": [
        "\"/tmp/cythrust__27vtij.pxd\" is not a file.\n"
       ]
      }
     ],
     "prompt_number": 114
    },
    {
     "cell_type": "code",
     "collapsed": false,
     "input": [
      "T.scalar('test', dtype=df['d'].dtype.__name__)"
     ],
     "language": "python",
     "metadata": {},
     "outputs": [
      {
       "metadata": {},
       "output_type": "pyout",
       "prompt_number": 120,
       "text": [
        "test"
       ]
      }
     ],
     "prompt_number": 120
    },
    {
     "cell_type": "code",
     "collapsed": false,
     "input": [
      "import theano\n",
      "print theano.pp(dfg.operation_graph)\n",
      "print foo(df['a'], df['b'], df['c'], df['d'])\n",
      "display(df.df[:].T)"
     ],
     "language": "python",
     "metadata": {},
     "outputs": [
      {
       "output_type": "stream",
       "stream": "stdout",
       "text": [
        "(((TensorConstant{10} + a) / TensorConstant{4.0}) - sqrt(b))\n",
        "10\n"
       ]
      },
      {
       "html": [
        "<div style=\"max-height:1000px;max-width:1500px;overflow:auto;\">\n",
        "<table border=\"1\" class=\"dataframe\">\n",
        "  <thead>\n",
        "    <tr style=\"text-align: right;\">\n",
        "      <th></th>\n",
        "      <th>0</th>\n",
        "      <th>1</th>\n",
        "      <th>2</th>\n",
        "      <th>3</th>\n",
        "      <th>4</th>\n",
        "      <th>5</th>\n",
        "      <th>6</th>\n",
        "      <th>7</th>\n",
        "      <th>8</th>\n",
        "      <th>9</th>\n",
        "    </tr>\n",
        "  </thead>\n",
        "  <tbody>\n",
        "    <tr>\n",
        "      <th>a</th>\n",
        "      <td>  6</td>\n",
        "      <td> 1.00</td>\n",
        "      <td>  4.0</td>\n",
        "      <td>  4.0</td>\n",
        "      <td>  8.0</td>\n",
        "      <td>  4.0</td>\n",
        "      <td>  6</td>\n",
        "      <td> 3.00</td>\n",
        "      <td>  5.00</td>\n",
        "      <td>  8.0</td>\n",
        "    </tr>\n",
        "    <tr>\n",
        "      <th>b</th>\n",
        "      <td> 36</td>\n",
        "      <td> 1.00</td>\n",
        "      <td> 16.0</td>\n",
        "      <td> 16.0</td>\n",
        "      <td> 64.0</td>\n",
        "      <td> 16.0</td>\n",
        "      <td> 36</td>\n",
        "      <td> 9.00</td>\n",
        "      <td> 25.00</td>\n",
        "      <td> 64.0</td>\n",
        "    </tr>\n",
        "    <tr>\n",
        "      <th>c</th>\n",
        "      <td> -2</td>\n",
        "      <td> 1.75</td>\n",
        "      <td> -0.5</td>\n",
        "      <td> -0.5</td>\n",
        "      <td> -3.5</td>\n",
        "      <td> -0.5</td>\n",
        "      <td> -2</td>\n",
        "      <td> 0.25</td>\n",
        "      <td> -1.25</td>\n",
        "      <td> -3.5</td>\n",
        "    </tr>\n",
        "    <tr>\n",
        "      <th>d</th>\n",
        "      <td>  0</td>\n",
        "      <td> 1.00</td>\n",
        "      <td>  1.0</td>\n",
        "      <td>  2.0</td>\n",
        "      <td>  0.0</td>\n",
        "      <td>  1.0</td>\n",
        "      <td>  1</td>\n",
        "      <td> 1.00</td>\n",
        "      <td>  0.00</td>\n",
        "      <td>  2.0</td>\n",
        "    </tr>\n",
        "  </tbody>\n",
        "</table>\n",
        "</div>"
       ],
       "metadata": {},
       "output_type": "display_data",
       "text": [
        "    0     1     2     3     4     5   6     7      8     9\n",
        "a   6  1.00   4.0   4.0   8.0   4.0   6  3.00   5.00   8.0\n",
        "b  36  1.00  16.0  16.0  64.0  16.0  36  9.00  25.00  64.0\n",
        "c  -2  1.75  -0.5  -0.5  -3.5  -0.5  -2  0.25  -1.25  -3.5\n",
        "d   0  1.00   1.0   2.0   0.0   1.0   1  1.00   0.00   2.0"
       ]
      }
     ],
     "prompt_number": 115
    }
   ],
   "metadata": {}
  }
 ]
}