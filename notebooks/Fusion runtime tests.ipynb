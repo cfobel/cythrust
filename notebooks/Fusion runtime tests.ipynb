{
 "metadata": {
  "name": "",
  "signature": "sha256:8f99b0baad8bcd11e668e9027cae16ace085ab42e1d3b4b80b6ecf7c50ad6b10"
 },
 "nbformat": 3,
 "nbformat_minor": 0,
 "worksheets": [
  {
   "cells": [
    {
     "cell_type": "code",
     "collapsed": false,
     "input": [
      "%load_ext autoreload\n",
      "%autoreload 2\n",
      "%matplotlib inline\n",
      "import numpy as np\n",
      "import pandas as pd\n",
      "import matplotlib.pyplot as plt"
     ],
     "language": "python",
     "metadata": {},
     "outputs": [
      {
       "output_type": "stream",
       "stream": "stderr",
       "text": [
        "/home/christian/.virtualenvs/vpr-x64/local/lib/python2.7/site-packages/matplotlib/__init__.py:740: UserWarning: Found matplotlib configuration in ~/.matplotlib/. To conform with the XDG base directory standard, this configuration location has been deprecated on Linux, and the new location is now '/home/christian/.config'/matplotlib/. Please move your configuration there to ensure that matplotlib will continue to find it in the future.\n",
        "  _get_xdg_config_dir())\n"
       ]
      }
     ],
     "prompt_number": 1
    },
    {
     "cell_type": "code",
     "collapsed": false,
     "input": [
      "%load_ext cythonmagic"
     ],
     "language": "python",
     "metadata": {},
     "outputs": [],
     "prompt_number": 2
    },
    {
     "cell_type": "code",
     "collapsed": true,
     "input": [
      "from path_helpers import path\n",
      "import pkg_resources\n",
      "\n",
      "CYTHRUST_PATH = pkg_resources.resource_filename('cythrust', '')\n",
      "\n",
      "def get_cuda_path():\n",
      "    sorted(path('/usr/local').dirs('cuda*'))[-1]\n",
      "\n",
      "\n",
      "CUDA_PATH = get_cuda_path()"
     ],
     "language": "python",
     "metadata": {},
     "outputs": [],
     "prompt_number": 3
    },
    {
     "cell_type": "heading",
     "level": 1,
     "metadata": {},
     "source": [
      "Test"
     ]
    },
    {
     "cell_type": "markdown",
     "metadata": {},
     "source": [
      "With vectors `u`, `v`, `w`, `x`, `y`, `z`:\n",
      "\n",
      " 1. `z = u + v + w + x + y` by computing:\n",
      "  1.  `z = u`\n",
      "  1.  `z += v`\n",
      "  1.  `z += w`\n",
      "  1.  `z += x`\n",
      "  1.  `z += y`\n",
      " 1. `z = u + v + w + x + y` directly."
     ]
    },
    {
     "cell_type": "code",
     "collapsed": false,
     "input": [
      "%%cython -f --compile-args=-msse2 --compile-args=-O3 --compile-args=-DTHRUST_DEVICE_SYSTEM=THRUST_DEVICE_SYSTEM_CPP --cplus -I$CUDA_PATH/include -I$CYTHRUST_PATH\n",
      "\n",
      "from IPython.display import display\n",
      "from libc.stdint cimport int32_t\n",
      "from cythrust.device_vector cimport DeviceVectorInt32, DeviceVectorUint32\n",
      "from cythrust.thrust.copy cimport copy_n, copy\n",
      "from cythrust.thrust.fill cimport fill_n\n",
      "from cythrust.thrust.transform cimport transform, transform2\n",
      "from cythrust.thrust.functional cimport plus, negate, plus_tuple5\n",
      "from cythrust.thrust.iterator.zip_iterator cimport make_zip_iterator\n",
      "from cythrust.thrust.tuple cimport make_tuple5\n",
      "\n",
      "\n",
      "def test_1(DeviceVectorInt32 u, DeviceVectorInt32 v, DeviceVectorInt32 w,\n",
      "           DeviceVectorInt32 x, DeviceVectorInt32 y, DeviceVectorInt32 z):\n",
      "    cdef plus[int32_t] plus_int32\n",
      "    copy(u._vector.begin(), u._vector.end(), z._vector.begin())\n",
      "    transform2(z._vector.begin(), z._vector.end(), v._vector.begin(),\n",
      "               z._vector.begin(), plus_int32)\n",
      "    transform2(z._vector.begin(), z._vector.end(), w._vector.begin(),\n",
      "               z._vector.begin(), plus_int32)\n",
      "    transform2(z._vector.begin(), z._vector.end(), x._vector.begin(),\n",
      "               z._vector.begin(), plus_int32)\n",
      "    transform2(z._vector.begin(), z._vector.end(), y._vector.begin(),\n",
      "               z._vector.begin(), plus_int32)\n",
      "    \n",
      "    \n",
      "def test_2(DeviceVectorInt32 u, DeviceVectorInt32 v, DeviceVectorInt32 w,\n",
      "           DeviceVectorInt32 x, DeviceVectorInt32 y, DeviceVectorInt32 z):\n",
      "    cdef plus_tuple5[int32_t] plus5_int32\n",
      "    \n",
      "    transform(\n",
      "        make_zip_iterator(make_tuple5(u._vector.begin(), v._vector.begin(),\n",
      "                                      w._vector.begin(), x._vector.begin(),\n",
      "                                      y._vector.begin())),\n",
      "        make_zip_iterator(make_tuple5(u._vector.end(), v._vector.end(),\n",
      "                                      w._vector.end(), x._vector.end(),\n",
      "                                      y._vector.end())),\n",
      "        z._vector.begin(), plus5_int32)\n",
      "    \n",
      "    \n",
      "def test_1_cpp(int32_t[:] u, int32_t[:] v, int32_t[:] w, int32_t[:] x,\n",
      "               int32_t[:] y, int32_t[:] z):\n",
      "    cdef size_t N = u.size\n",
      "    cdef int i \n",
      "    \n",
      "    for i in xrange(N):\n",
      "        z[i] = u[i]\n",
      "        \n",
      "    for i in xrange(N):\n",
      "        z[i] += v[i]\n",
      "        \n",
      "    for i in xrange(N):\n",
      "        z[i] += w[i]\n",
      "        \n",
      "    for i in xrange(N):\n",
      "        z[i] += x[i]\n",
      "        \n",
      "    for i in xrange(N):\n",
      "        z[i] += y[i]\n",
      "    \n",
      "    \n",
      "def test_2_cpp(int32_t[:] u, int32_t[:] v, int32_t[:] w, int32_t[:] x,\n",
      "               int32_t[:] y, int32_t[:] z):\n",
      "    cdef size_t N = u.size\n",
      "    cdef int i \n",
      "    \n",
      "    for i in xrange(N):\n",
      "        z[i] = u[i] + v[i] + w[i] + x[i] + y[i]"
     ],
     "language": "python",
     "metadata": {},
     "outputs": [],
     "prompt_number": 4
    },
    {
     "cell_type": "code",
     "collapsed": false,
     "input": [
      "from collections import OrderedDict\n",
      "from cythrust.device_vector import DeviceVectorInt32\n",
      "\n",
      "\n",
      "np.random.seed(42)\n",
      "\n",
      "N_runtimes = OrderedDict()\n",
      "\n",
      "for N in np.linspace(1e5, 1e6, num=5):\n",
      "    u_ = np.random.randint(1, 5, size=N).astype(np.int32)\n",
      "    v_ = np.random.randint(1, 5, size=N).astype(np.int32)\n",
      "    w_ = np.random.randint(1, 5, size=N).astype(np.int32)\n",
      "    x_ = np.random.randint(1, 5, size=N).astype(np.int32)\n",
      "    y_ = np.random.randint(1, 5, size=N).astype(np.int32)\n",
      "    z_ = np.zeros_like(u_)\n",
      "    \n",
      "    u = DeviceVectorInt32.from_array(u_)\n",
      "    v = DeviceVectorInt32.from_array(v_)\n",
      "    w = DeviceVectorInt32.from_array(w_)\n",
      "    x = DeviceVectorInt32.from_array(x_)\n",
      "    y = DeviceVectorInt32.from_array(y_)\n",
      "    z = DeviceVectorInt32.from_array(z_)\n",
      "\n",
      "    runtimes = OrderedDict()\n",
      "    runtime = %timeit -o -q test_1_cpp(u_, v_, w_, x_, y_, z_)\n",
      "    runtimes['`z = u + v + w + x + y` [cpp unfused]'] = runtime\n",
      "    \n",
      "    runtime = %timeit -o -q test_2_cpp(u_, v_, w_, x_, y_, z_)\n",
      "    runtimes['`z = u + v + w + x + y` [cpp fused]'] = runtime\n",
      "\n",
      "    runtime = %timeit -o -q test_1(u, v, w, x, y, z)\n",
      "    runtimes['`z = u + v + w + x + y` [unfused]'] = runtime\n",
      "\n",
      "    runtime = %timeit -o -q test_2(u, v, w, x, y, z)\n",
      "    runtimes['`z = u + v + w + x + y` [fused]'] = runtime\n",
      "\n",
      "    N_runtimes[N] = runtimes"
     ],
     "language": "python",
     "metadata": {},
     "outputs": [],
     "prompt_number": 5
    },
    {
     "cell_type": "code",
     "collapsed": false,
     "input": [
      "import cythrust.utility\n",
      "\n",
      "runtimes = pd.DataFrame(\n",
      "    [(N, alg, time_result.best) for N, alg_times in N_runtimes.iteritems()\n",
      "     for alg, time_result in alg_times.iteritems()],\n",
      "    columns=['N', 'alg', 'runtime'])\n",
      "\n",
      "fig = plt.figure(figsize=(10, 5))\n",
      "axis = fig.add_subplot(111)\n",
      "\n",
      "cythrust.utility.plot_runtime_comparison(axis, runtimes)"
     ],
     "language": "python",
     "metadata": {},
     "outputs": [
      {
       "metadata": {},
       "output_type": "display_data",
       "png": "[encoded data removed]",
       "text": [
        "<matplotlib.figure.Figure at 0x7f0473865e10>"
       ]
      }
     ],
     "prompt_number": 7
    }
   ],
   "metadata": {}
  }
 ]
}