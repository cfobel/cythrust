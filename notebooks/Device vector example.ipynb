{
 "metadata": {
  "name": "",
  "signature": "sha256:eddab771be9e4cb856b0d3399ba41c85d6773d93568542e7a2a13d7ca2a81d3d"
 },
 "nbformat": 3,
 "nbformat_minor": 0,
 "worksheets": [
  {
   "cells": [
    {
     "cell_type": "code",
     "collapsed": false,
     "input": [
      "from cythrust.device_vector import DeviceVectorInt32, DeviceVectorUint32"
     ],
     "language": "python",
     "metadata": {},
     "outputs": [],
     "prompt_number": 1
    },
    {
     "cell_type": "code",
     "collapsed": false,
     "input": [
      "import numpy as np"
     ],
     "language": "python",
     "metadata": {},
     "outputs": [],
     "prompt_number": 2
    },
    {
     "cell_type": "code",
     "collapsed": false,
     "input": [
      "%load_ext cythonmagic"
     ],
     "language": "python",
     "metadata": {},
     "outputs": [],
     "prompt_number": 3
    },
    {
     "cell_type": "code",
     "collapsed": false,
     "input": [
      "from path_helpers import path\n",
      "\n",
      "\n",
      "def get_cuda_path():\n",
      "    sorted(path('/usr/local').dirs('cuda*'))[-1]\n",
      "\n",
      "\n",
      "CUDA_PATH = get_cuda_path()"
     ],
     "language": "python",
     "metadata": {},
     "outputs": [],
     "prompt_number": 4
    },
    {
     "cell_type": "code",
     "collapsed": false,
     "input": [
      "%%cython -f --compile-args=-DTHRUST_DEVICE_SYSTEM=THRUST_DEVICE_SYSTEM_CPP --cplus -I$CUDA_PATH/include\n",
      "\n",
      "from IPython.display import display\n",
      "from libc.stdint cimport int32_t\n",
      "from cythrust.device_vector cimport DeviceVectorInt32, DeviceVectorUint32\n",
      "from cythrust.thrust.copy cimport copy_n\n",
      "from cythrust.thrust.fill cimport fill_n\n",
      "from cythrust.thrust.transform cimport transform, transform2\n",
      "from cythrust.thrust.functional cimport plus, negate\n",
      "\n",
      "\n",
      "def foo(DeviceVectorInt32 u, DeviceVectorInt32 v, DeviceVectorInt32 w):\n",
      "    cdef plus[int32_t] plus_int32\n",
      "    transform2(u._vector.begin(), u._vector.end(), v._vector.begin(),\n",
      "               w._vector.begin(), plus_int32)\n",
      "    \n",
      "    \n",
      "def foo_ptr(int32_t[:] u, int32_t[:] v, int32_t[:] w):\n",
      "    cdef size_t N = u.size\n",
      "    cdef plus[int32_t] plus_int32\n",
      "    \n",
      "    transform2(&u[0], &u[0] + N, &v[0], &w[0], plus_int32)\n",
      "    \n",
      "    \n",
      "def foo_np(int32_t[:] u, int32_t[:] v, int32_t[:] w):\n",
      "    cdef size_t N = u.size\n",
      "    cdef int i\n",
      "    \n",
      "    for i in xrange(N):\n",
      "        w[i] = u[i] + v[i]\n",
      "    \n",
      "    \n",
      "def bar(DeviceVectorInt32 u, DeviceVectorInt32 v):\n",
      "    cdef negate[int32_t] negate_int32\n",
      "    \n",
      "    transform(u._vector.begin(), u._vector.end(), v._vector.begin(),\n",
      "              negate_int32)"
     ],
     "language": "python",
     "metadata": {},
     "outputs": [],
     "prompt_number": 5
    },
    {
     "cell_type": "code",
     "collapsed": false,
     "input": [
      "from collections import OrderedDict\n",
      "\n",
      "\n",
      "np.random.seed(42)\n",
      "\n",
      "N_runtimes = OrderedDict()\n",
      "\n",
      "for N in np.linspace(1e5, 1e6, num=5):\n",
      "    u = DeviceVectorInt32.from_array(np.random.randint(1, 5, size=N))\n",
      "    v = DeviceVectorInt32.from_array(np.random.randint(1, 5, size=N))\n",
      "    w = DeviceVectorInt32.from_array(np.zeros_like(u.asarray()))\n",
      "\n",
      "    runtimes = OrderedDict()\n",
      "    runtime = %timeit -o -q foo(u, v, w)\n",
      "    runtimes['thrust'] = runtime\n",
      "\n",
      "    u_ = u.asarray()\n",
      "    v_ = v.asarray()\n",
      "    w_ = w.asarray()\n",
      "    runtime = %timeit -o -q foo_ptr(u_, v_, w_)\n",
      "    runtimes['thrust_ptr'] = runtime\n",
      "    runtime = %timeit -o -q foo_np(u_, v_, w_)\n",
      "    runtimes['c++'] = runtime\n",
      "\n",
      "    N_runtimes[N] = runtimes"
     ],
     "language": "python",
     "metadata": {},
     "outputs": [],
     "prompt_number": 6
    },
    {
     "cell_type": "code",
     "collapsed": false,
     "input": [
      "%matplotlib inline"
     ],
     "language": "python",
     "metadata": {},
     "outputs": [
      {
       "output_type": "stream",
       "stream": "stderr",
       "text": [
        "/home/christian/.virtualenvs/vpr-x64/local/lib/python2.7/site-packages/matplotlib/__init__.py:740: UserWarning: Found matplotlib configuration in ~/.matplotlib/. To conform with the XDG base directory standard, this configuration location has been deprecated on Linux, and the new location is now '/home/christian/.config'/matplotlib/. Please move your configuration there to ensure that matplotlib will continue to find it in the future.\n",
        "  _get_xdg_config_dir())\n"
       ]
      }
     ],
     "prompt_number": 7
    },
    {
     "cell_type": "code",
     "collapsed": false,
     "input": [
      "from cythrust.utility import plot_runtime_comparison, pd\n",
      "\n",
      "runtimes = pd.DataFrame(\n",
      "    [(N, alg, time_result.best) for N, alg_times in N_runtimes.iteritems()\n",
      "     for alg, time_result in alg_times.iteritems()],\n",
      "    columns=['N', 'alg', 'runtime'])\n",
      "plot_runtime_comparison(runtimes)"
     ],
     "language": "python",
     "metadata": {},
     "outputs": [
      {
       "output_type": "stream",
       "stream": "stderr",
       "text": [
        "/home/christian/.virtualenvs/vpr-x64/local/lib/python2.7/site-packages/matplotlib/font_manager.py:1236: UserWarning: findfont: Font family ['monospace'] not found. Falling back to Bitstream Vera Sans\n",
        "  (prop.get_family(), self.defaultFamily[fontext]))\n"
       ]
      },
      {
       "metadata": {},
       "output_type": "display_data",
       "png": "[encoded data removed]",
       "text": [
        "<matplotlib.figure.Figure at 0x7f7b0dfd5310>"
       ]
      }
     ],
     "prompt_number": 8
    }
   ],
   "metadata": {}
  }
 ]
}