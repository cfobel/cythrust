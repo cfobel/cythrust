{
 "metadata": {
  "name": "",
  "signature": "sha256:c90efc4b8737ea6b5a52fb5a585fc2fc811684a9e43380e26a827db2a00b8af0"
 },
 "nbformat": 3,
 "nbformat_minor": 0,
 "worksheets": [
  {
   "cells": [
    {
     "cell_type": "code",
     "collapsed": false,
     "input": [
      "from cythrust.device_vector import DeviceVectorInt32, DeviceVectorUint32"
     ],
     "language": "python",
     "metadata": {},
     "outputs": [],
     "prompt_number": 1
    },
    {
     "cell_type": "code",
     "collapsed": false,
     "input": [
      "import numpy as np"
     ],
     "language": "python",
     "metadata": {},
     "outputs": [],
     "prompt_number": 2
    },
    {
     "cell_type": "code",
     "collapsed": false,
     "input": [
      "%load_ext cythonmagic"
     ],
     "language": "python",
     "metadata": {},
     "outputs": [],
     "prompt_number": 3
    },
    {
     "cell_type": "code",
     "collapsed": false,
     "input": [
      "from path_helpers import path\n",
      "\n",
      "\n",
      "def get_cuda_path():\n",
      "    sorted(path('/usr/local').dirs('cuda*'))[-1]\n",
      "\n",
      "\n",
      "CUDA_PATH = get_cuda_path()"
     ],
     "language": "python",
     "metadata": {},
     "outputs": [],
     "prompt_number": 4
    },
    {
     "cell_type": "code",
     "collapsed": false,
     "input": [
      "%%cython -f --compile-args=-DTHRUST_DEVICE_SYSTEM=THRUST_DEVICE_SYSTEM_CPP --cplus -I$CUDA_PATH/include\n",
      "\n",
      "from IPython.display import display\n",
      "from libc.stdint cimport int32_t\n",
      "from cythrust.device_vector cimport DeviceVectorInt32, DeviceVectorUint32\n",
      "from cythrust.thrust.copy cimport copy_n\n",
      "from cythrust.thrust.fill cimport fill_n\n",
      "\n",
      "\n",
      "def test_fill(DeviceVectorInt32 d, int32_t value):\n",
      "    fill_n(d._vector.begin(), <size_t>d.size, value)\n",
      "    \n",
      "    \n",
      "def test_copy(u, v):\n",
      "    assert(u.size == v.size)\n",
      "    if u.ctype == 'int32_t' and v.ctype == 'int32_t':\n",
      "        copy_n((<DeviceVectorInt32>u)._vector.begin(), <size_t>u.size,\n",
      "               (<DeviceVectorInt32>v)._vector.begin())\n",
      "    elif u.ctype == 'int32_t' and v.ctype == 'uint32_t':\n",
      "        copy_n((<DeviceVectorInt32>u)._vector.begin(), <size_t>u.size,\n",
      "               (<DeviceVectorUint32>v)._vector.begin())\n",
      "    elif u.ctype == 'uint32_t' and v.ctype == 'int32_t':\n",
      "        copy_n((<DeviceVectorUint32>u)._vector.begin(), <size_t>u.size,\n",
      "               (<DeviceVectorInt32>v)._vector.begin())\n",
      "    elif u.ctype == 'uint32_t' and v.ctype == 'uint32_t':\n",
      "        copy_n((<DeviceVectorUint32>u)._vector.begin(), <size_t>u.size,\n",
      "               (<DeviceVectorUint32>v)._vector.begin())"
     ],
     "language": "python",
     "metadata": {},
     "outputs": [],
     "prompt_number": 5
    },
    {
     "cell_type": "code",
     "collapsed": false,
     "input": [
      "np.random.seed(42)\n",
      "N = 10\n",
      "u = DeviceVectorInt32.from_array(np.random.randint(1, 5, size=N))\n",
      "v = DeviceVectorInt32.from_array(np.random.randint(1, 5, size=N))\n",
      "\n",
      "display(u[:])\n",
      "display(v[:])\n",
      "\n",
      "# Copy contents of `u` into `v` using Thrust `copy_n`.\n",
      "test_copy(u, v)\n",
      "\n",
      "print ''\n",
      "print '----------------------------------------'\n",
      "print ''\n",
      "\n",
      "display(u[:])\n",
      "display(v[:])\n",
      "\n",
      "# Also possible to copy from temporary device vector.\n",
      "test_copy(DeviceVectorUint32.from_array(np.random.randint(1, 5, size=N)), v)\n",
      "print ''\n",
      "print '----------------------------------------'\n",
      "print ''\n",
      "display(v[:])\n",
      "\n",
      "# Fill contents of `u` with 99, using Thrust `fill_n`.\n",
      "test_fill(u, 99)\n",
      "\n",
      "print ''\n",
      "print '----------------------------------------'\n",
      "print ''\n",
      "display(u[:])"
     ],
     "language": "python",
     "metadata": {},
     "outputs": [
      {
       "metadata": {},
       "output_type": "display_data",
       "text": [
        "array([3, 4, 1, 3, 3, 4, 1, 1, 3, 2], dtype=int32)"
       ]
      },
      {
       "metadata": {},
       "output_type": "display_data",
       "text": [
        "array([3, 3, 3, 3, 4, 1, 4, 4, 4, 3], dtype=int32)"
       ]
      },
      {
       "output_type": "stream",
       "stream": "stdout",
       "text": [
        "\n",
        "----------------------------------------\n",
        "\n"
       ]
      },
      {
       "metadata": {},
       "output_type": "display_data",
       "text": [
        "array([3, 4, 1, 3, 3, 4, 1, 1, 3, 2], dtype=int32)"
       ]
      },
      {
       "metadata": {},
       "output_type": "display_data",
       "text": [
        "array([3, 4, 1, 3, 3, 4, 1, 1, 3, 2], dtype=int32)"
       ]
      },
      {
       "output_type": "stream",
       "stream": "stdout",
       "text": [
        "\n",
        "----------------------------------------\n",
        "\n"
       ]
      },
      {
       "metadata": {},
       "output_type": "display_data",
       "text": [
        "array([2, 1, 2, 4, 4, 2, 2, 2, 4, 4], dtype=int32)"
       ]
      },
      {
       "output_type": "stream",
       "stream": "stdout",
       "text": [
        "\n",
        "----------------------------------------\n",
        "\n"
       ]
      },
      {
       "metadata": {},
       "output_type": "display_data",
       "text": [
        "array([99, 99, 99, 99, 99, 99, 99, 99, 99, 99], dtype=int32)"
       ]
      }
     ],
     "prompt_number": 6
    }
   ],
   "metadata": {}
  }
 ]
}