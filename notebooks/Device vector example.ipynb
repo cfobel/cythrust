{
 "metadata": {
  "name": "",
  "signature": "sha256:9f49b20472bb5fc15f00c7beb9033485b2cf5ab2a21161fb9ef6e16501053ce1"
 },
 "nbformat": 3,
 "nbformat_minor": 0,
 "worksheets": [
  {
   "cells": [
    {
     "cell_type": "code",
     "collapsed": false,
     "input": [
      "%matplotlib inline\n",
      "import matplotlib.pyplot as plt\n",
      "import pandas as pd\n",
      "import numpy as np"
     ],
     "language": "python",
     "metadata": {},
     "outputs": [],
     "prompt_number": 1
    },
    {
     "cell_type": "code",
     "collapsed": false,
     "input": [
      "from cythrust.device_vector import DeviceVectorInt32, DeviceVectorUint32"
     ],
     "language": "python",
     "metadata": {},
     "outputs": [],
     "prompt_number": 2
    },
    {
     "cell_type": "code",
     "collapsed": false,
     "input": [
      "%load_ext cythonmagic"
     ],
     "language": "python",
     "metadata": {},
     "outputs": [],
     "prompt_number": 3
    },
    {
     "cell_type": "code",
     "collapsed": false,
     "input": [
      "from path_helpers import path\n",
      "import pkg_resources\n",
      "\n",
      "CYTHRUST_PATH = pkg_resources.resource_filename('cythrust', '')\n",
      "\n",
      "def get_cuda_path():\n",
      "    sorted(path('/usr/local').dirs('cuda*'))[-1]\n",
      "\n",
      "\n",
      "CUDA_PATH = get_cuda_path()"
     ],
     "language": "python",
     "metadata": {},
     "outputs": [],
     "prompt_number": 4
    },
    {
     "cell_type": "code",
     "collapsed": false,
     "input": [
      "%%cython -f --compile-args=-DTHRUST_DEVICE_SYSTEM=THRUST_DEVICE_SYSTEM_CPP --cplus -I$CUDA_PATH/include -I$CYTHRUST_PATH\n",
      "\n",
      "from IPython.display import display\n",
      "from libc.stdint cimport int32_t\n",
      "from cythrust.device_vector cimport DeviceVectorInt32, DeviceVectorUint32\n",
      "from cythrust.thrust.copy cimport copy_n\n",
      "from cythrust.thrust.fill cimport fill_n\n",
      "from cythrust.thrust.transform cimport transform, transform2\n",
      "from cythrust.thrust.functional cimport plus, negate\n",
      "\n",
      "\n",
      "def foo(DeviceVectorInt32 u, DeviceVectorInt32 v, DeviceVectorInt32 w):\n",
      "    cdef plus[int32_t] plus_int32\n",
      "    transform2(u._vector.begin(), u._vector.end(), v._vector.begin(),\n",
      "               w._vector.begin(), plus_int32)\n",
      "    \n",
      "    \n",
      "def foo_ptr(int32_t[:] u, int32_t[:] v, int32_t[:] w):\n",
      "    cdef size_t N = u.size\n",
      "    cdef plus[int32_t] plus_int32\n",
      "    \n",
      "    transform2(&u[0], &u[0] + N, &v[0], &w[0], plus_int32)\n",
      "    \n",
      "    \n",
      "def foo_np(int32_t[:] u, int32_t[:] v, int32_t[:] w):\n",
      "    cdef size_t N = u.size\n",
      "    cdef int i\n",
      "    \n",
      "    for i in xrange(N):\n",
      "        w[i] = u[i] + v[i]\n",
      "    \n",
      "    \n",
      "def bar(DeviceVectorInt32 u, DeviceVectorInt32 v):\n",
      "    cdef negate[int32_t] negate_int32\n",
      "    \n",
      "    transform(u._vector.begin(), u._vector.end(), v._vector.begin(),\n",
      "              negate_int32)"
     ],
     "language": "python",
     "metadata": {},
     "outputs": []
    },
    {
     "cell_type": "code",
     "collapsed": false,
     "input": [
      "from collections import OrderedDict\n",
      "\n",
      "\n",
      "np.random.seed(42)\n",
      "\n",
      "N_runtimes = OrderedDict()\n",
      "\n",
      "for N in np.linspace(1e5, 1e6, num=5):\n",
      "    u = DeviceVectorInt32.from_array(np.random.randint(1, 5, size=N))\n",
      "    v = DeviceVectorInt32.from_array(np.random.randint(1, 5, size=N))\n",
      "    w = DeviceVectorInt32.from_array(np.zeros_like(u.asarray()))\n",
      "\n",
      "    runtimes = OrderedDict()\n",
      "    runtime = %timeit -o -q foo(u, v, w)\n",
      "    runtimes['thrust'] = runtime\n",
      "\n",
      "    u_ = u.asarray()\n",
      "    v_ = v.asarray()\n",
      "    w_ = w.asarray()\n",
      "    runtime = %timeit -o -q foo_ptr(u_, v_, w_)\n",
      "    runtimes['thrust_ptr'] = runtime\n",
      "    runtime = %timeit -o -q foo_np(u_, v_, w_)\n",
      "    runtimes['c++'] = runtime\n",
      "\n",
      "    N_runtimes[N] = runtimes"
     ],
     "language": "python",
     "metadata": {},
     "outputs": []
    },
    {
     "cell_type": "code",
     "collapsed": false,
     "input": [
      "from cythrust.utility import plot_runtime_comparison\n",
      "\n",
      "runtimes = pd.DataFrame(\n",
      "    [(N, alg, time_result.best) for N, alg_times in N_runtimes.iteritems()\n",
      "     for alg, time_result in alg_times.iteritems()],\n",
      "    columns=['N', 'alg', 'runtime'])\n",
      "\n",
      "fig = plt.figure(figsize=(10, 5))\n",
      "axis = fig.add_subplot(111)\n",
      "\n",
      "plot_runtime_comparison(axis, runtimes)"
     ],
     "language": "python",
     "metadata": {},
     "outputs": []
    },
    {
     "cell_type": "code",
     "collapsed": false,
     "input": [],
     "language": "python",
     "metadata": {},
     "outputs": []
    }
   ],
   "metadata": {}
  }
 ]
}