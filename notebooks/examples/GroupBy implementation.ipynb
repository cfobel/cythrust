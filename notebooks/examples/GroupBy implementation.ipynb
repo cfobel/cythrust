{
 "metadata": {
  "name": "",
  "signature": "sha256:c9a45f3d542ce0a4858794e2e976a64ed0faffe23826aaf86591df75c0fba79c"
 },
 "nbformat": 3,
 "nbformat_minor": 0,
 "worksheets": [
  {
   "cells": [
    {
     "cell_type": "code",
     "collapsed": false,
     "input": [
      "%matplotlib inline\n",
      "from IPython.display import display\n",
      "from datetime import datetime\n",
      "import pandas as pd\n",
      "import numpy as np\n",
      "from si_prefix import si_format\n",
      "\n",
      "from cythrust import (DeviceViewGroup, DeviceVectorCollection,\n",
      "                      DeviceDataFrame, Context,\n",
      "                      get_sort_func, get_reduce_func)\n",
      "\n",
      "\n",
      "\n",
      "context = Context()"
     ],
     "language": "python",
     "metadata": {},
     "outputs": [],
     "prompt_number": 1
    },
    {
     "cell_type": "markdown",
     "metadata": {},
     "source": [
      "--------------------------------------------------"
     ]
    },
    {
     "cell_type": "heading",
     "level": 1,
     "metadata": {},
     "source": [
      "Demonstrate groupby sum by key on small arrays"
     ]
    },
    {
     "cell_type": "code",
     "collapsed": false,
     "input": [
      "np.random.seed(0)\n",
      "\n",
      "df = pd.DataFrame([np.random.randint(10, size=20),\n",
      "                   np.random.randint(10, size=20)],\n",
      "                  index=['keys', 'values']).T\n",
      "ddf = DeviceDataFrame(df, context=context)\n",
      "g = ddf.groupby(['keys'])\n",
      "print 'Input'\n",
      "display(ddf.df.T)\n",
      "print 'Returned new data frame'\n",
      "display(g.agg('sum').df.T)\n",
      "\n",
      "# Use existing output frame.\n",
      "ddf_out = DeviceDataFrame(g.views.df * 0)\n",
      "print 'Use existing output frame.'\n",
      "g.agg('sum', out=ddf_out).df.T\n",
      "display(ddf_out.df.T)"
     ],
     "language": "python",
     "metadata": {},
     "outputs": [
      {
       "output_type": "stream",
       "stream": "stdout",
       "text": [
        "\"/tmp/cythrust__DQlnFE.pxd\" is not a file.\n",
        "Input"
       ]
      },
      {
       "output_type": "stream",
       "stream": "stdout",
       "text": [
        "\n"
       ]
      },
      {
       "html": [
        "<div style=\"max-height:1000px;max-width:1500px;overflow:auto;\">\n",
        "<table border=\"1\" class=\"dataframe\">\n",
        "  <thead>\n",
        "    <tr style=\"text-align: right;\">\n",
        "      <th></th>\n",
        "      <th>0</th>\n",
        "      <th>1</th>\n",
        "      <th>2</th>\n",
        "      <th>3</th>\n",
        "      <th>4</th>\n",
        "      <th>5</th>\n",
        "      <th>6</th>\n",
        "      <th>7</th>\n",
        "      <th>8</th>\n",
        "      <th>9</th>\n",
        "      <th>10</th>\n",
        "      <th>11</th>\n",
        "      <th>12</th>\n",
        "      <th>13</th>\n",
        "      <th>14</th>\n",
        "      <th>15</th>\n",
        "      <th>16</th>\n",
        "      <th>17</th>\n",
        "      <th>18</th>\n",
        "      <th>19</th>\n",
        "    </tr>\n",
        "  </thead>\n",
        "  <tbody>\n",
        "    <tr>\n",
        "      <th>keys</th>\n",
        "      <td>0</td>\n",
        "      <td>1</td>\n",
        "      <td>1</td>\n",
        "      <td>2</td>\n",
        "      <td>3</td>\n",
        "      <td>3</td>\n",
        "      <td>3</td>\n",
        "      <td>4</td>\n",
        "      <td>5</td>\n",
        "      <td>5</td>\n",
        "      <td>6</td>\n",
        "      <td>6</td>\n",
        "      <td>7</td>\n",
        "      <td>7</td>\n",
        "      <td>7</td>\n",
        "      <td>7</td>\n",
        "      <td>8</td>\n",
        "      <td>8</td>\n",
        "      <td>8</td>\n",
        "      <td>9</td>\n",
        "    </tr>\n",
        "    <tr>\n",
        "      <th>values</th>\n",
        "      <td>9</td>\n",
        "      <td>3</td>\n",
        "      <td>1</td>\n",
        "      <td>5</td>\n",
        "      <td>8</td>\n",
        "      <td>9</td>\n",
        "      <td>0</td>\n",
        "      <td>0</td>\n",
        "      <td>5</td>\n",
        "      <td>3</td>\n",
        "      <td>3</td>\n",
        "      <td>3</td>\n",
        "      <td>4</td>\n",
        "      <td>2</td>\n",
        "      <td>3</td>\n",
        "      <td>7</td>\n",
        "      <td>8</td>\n",
        "      <td>1</td>\n",
        "      <td>0</td>\n",
        "      <td>3</td>\n",
        "    </tr>\n",
        "  </tbody>\n",
        "</table>\n",
        "</div>"
       ],
       "metadata": {},
       "output_type": "display_data",
       "text": [
        "        0   1   2   3   4   5   6   7   8   9   10  11  12  13  14  15  16  \\\n",
        "keys     0   1   1   2   3   3   3   4   5   5   6   6   7   7   7   7   8   \n",
        "values   9   3   1   5   8   9   0   0   5   3   3   3   4   2   3   7   8   \n",
        "\n",
        "        17  18  19  \n",
        "keys     8   8   9  \n",
        "values   1   0   3  "
       ]
      },
      {
       "output_type": "stream",
       "stream": "stdout",
       "text": [
        "Returned new data frame\n",
        "\"/tmp/cythrust__TUqkc2.pxd\" is not a file."
       ]
      },
      {
       "output_type": "stream",
       "stream": "stdout",
       "text": [
        "\n"
       ]
      },
      {
       "html": [
        "<div style=\"max-height:1000px;max-width:1500px;overflow:auto;\">\n",
        "<table border=\"1\" class=\"dataframe\">\n",
        "  <thead>\n",
        "    <tr style=\"text-align: right;\">\n",
        "      <th></th>\n",
        "      <th>0</th>\n",
        "      <th>1</th>\n",
        "      <th>2</th>\n",
        "      <th>3</th>\n",
        "      <th>4</th>\n",
        "      <th>5</th>\n",
        "      <th>6</th>\n",
        "      <th>7</th>\n",
        "      <th>8</th>\n",
        "      <th>9</th>\n",
        "    </tr>\n",
        "  </thead>\n",
        "  <tbody>\n",
        "    <tr>\n",
        "      <th>keys</th>\n",
        "      <td>0</td>\n",
        "      <td>1</td>\n",
        "      <td>2</td>\n",
        "      <td>3</td>\n",
        "      <td>4</td>\n",
        "      <td>5</td>\n",
        "      <td>6</td>\n",
        "      <td>7</td>\n",
        "      <td>8</td>\n",
        "      <td>9</td>\n",
        "    </tr>\n",
        "    <tr>\n",
        "      <th>values_sum</th>\n",
        "      <td>9</td>\n",
        "      <td>4</td>\n",
        "      <td>5</td>\n",
        "      <td>17</td>\n",
        "      <td>0</td>\n",
        "      <td>8</td>\n",
        "      <td>6</td>\n",
        "      <td>16</td>\n",
        "      <td>9</td>\n",
        "      <td>3</td>\n",
        "    </tr>\n",
        "  </tbody>\n",
        "</table>\n",
        "</div>"
       ],
       "metadata": {},
       "output_type": "display_data",
       "text": [
        "            0  1  2   3  4  5  6   7  8  9\n",
        "keys        0  1  2   3  4  5  6   7  8  9\n",
        "values_sum  9  4  5  17  0  8  6  16  9  3"
       ]
      },
      {
       "output_type": "stream",
       "stream": "stdout",
       "text": [
        "Use existing output frame.\n"
       ]
      },
      {
       "html": [
        "<div style=\"max-height:1000px;max-width:1500px;overflow:auto;\">\n",
        "<table border=\"1\" class=\"dataframe\">\n",
        "  <thead>\n",
        "    <tr style=\"text-align: right;\">\n",
        "      <th></th>\n",
        "      <th>0</th>\n",
        "      <th>1</th>\n",
        "      <th>2</th>\n",
        "      <th>3</th>\n",
        "      <th>4</th>\n",
        "      <th>5</th>\n",
        "      <th>6</th>\n",
        "      <th>7</th>\n",
        "      <th>8</th>\n",
        "      <th>9</th>\n",
        "    </tr>\n",
        "  </thead>\n",
        "  <tbody>\n",
        "    <tr>\n",
        "      <th>keys</th>\n",
        "      <td>0</td>\n",
        "      <td>1</td>\n",
        "      <td>2</td>\n",
        "      <td>3</td>\n",
        "      <td>4</td>\n",
        "      <td>5</td>\n",
        "      <td>6</td>\n",
        "      <td>7</td>\n",
        "      <td>8</td>\n",
        "      <td>9</td>\n",
        "    </tr>\n",
        "    <tr>\n",
        "      <th>values</th>\n",
        "      <td>9</td>\n",
        "      <td>4</td>\n",
        "      <td>5</td>\n",
        "      <td>17</td>\n",
        "      <td>0</td>\n",
        "      <td>8</td>\n",
        "      <td>6</td>\n",
        "      <td>16</td>\n",
        "      <td>9</td>\n",
        "      <td>3</td>\n",
        "    </tr>\n",
        "  </tbody>\n",
        "</table>\n",
        "</div>"
       ],
       "metadata": {},
       "output_type": "display_data",
       "text": [
        "        0  1  2   3  4  5  6   7  8  9\n",
        "keys    0  1  2   3  4  5  6   7  8  9\n",
        "values  9  4  5  17  0  8  6  16  9  3"
       ]
      }
     ],
     "prompt_number": 2
    },
    {
     "cell_type": "markdown",
     "metadata": {},
     "source": [
      "--------------------------------------------------"
     ]
    },
    {
     "cell_type": "heading",
     "level": 1,
     "metadata": {},
     "source": [
      "Verify groupby sum by key against `pandas.groupby(...).sum()`"
     ]
    },
    {
     "cell_type": "code",
     "collapsed": false,
     "input": [
      "from IPython.display import display\n",
      "from pandas.util.testing import assert_frame_equal\n",
      "\n",
      "\n",
      "def test_random_sum_by_key(N, seed=None):\n",
      "    if seed is None:\n",
      "        seed = np.random.randint(1 << 32)\n",
      "    np.random.seed(seed)\n",
      "    # Generate random input data: two key vectors, two value vectors.\n",
      "    df_in = pd.DataFrame(np.random.randint(5, size=(N, 4)),\n",
      "                         columns=['keys1', 'keys2',\n",
      "                                  'values1', 'values2'],\n",
      "                         dtype='int64')\n",
      "    # Limit keys to within the range $[0, 2]$ to guarantee key pair\n",
      "    # duplicates within the input data (length 10).\n",
      "    df_in[['keys1', 'keys2']] %= 3\n",
      "    # Sort by keys.\n",
      "    df_in.sort(['keys1', 'keys2'], inplace=True)\n",
      "    # Initialize output data frame as 0.\n",
      "    df_out = df_in.copy()\n",
      "    df_out[:] = 0\n",
      "\n",
      "    # Construct `DeviceDataFrame` for input frame and output frame.\n",
      "    # Initialize data from corresponding host `pandas.DataFrame` instances.\n",
      "    # __NB__ The `DeviceDataFrame` creates one `thrust::device_vector` for\n",
      "    # each column in the frame.\n",
      "    ddf_in = DeviceDataFrame(df_in, context=context)\n",
      "    ddf_out = DeviceDataFrame(df_out, context=context)\n",
      "\n",
      "    # Compute sum by key using `cythrust` function.\n",
      "    # __NB__ The `cythrust` function must be dynamically compiled based\n",
      "    # on the types of keys, values, etc.  However, the `cythrust` function\n",
      "    # may be compiled to target the GPU backend for significant speedups\n",
      "    # where the input size reaches into the millions, with max performance\n",
      "    # likely saturating in the tens of millions.\n",
      "    g = ddf_in.groupby(['keys1', 'keys2'])\n",
      "    start = datetime.now()\n",
      "    g.agg('sum', out=ddf_out)\n",
      "    end = datetime.now()\n",
      "    groupby_runtime = (end - start).total_seconds()\n",
      "    \n",
      "\n",
      "    # Compute sum by key using `pandas`.\n",
      "    # __NB__ The `groupby` method of the `pandas.DataFrame` is generic\n",
      "    # and works for all combinations of numeric types for keys and values.\n",
      "    start = datetime.now()\n",
      "    ref_out = df_in.groupby(['keys1', 'keys2'], sort=False).sum()\n",
      "    end = datetime.now()\n",
      "    ref_out.reset_index(inplace=True)\n",
      "    ref_runtime = (end - start).total_seconds()\n",
      "\n",
      "    df_runtime = pd.DataFrame([[seed, ddf_in.vector_size, ref_runtime,\n",
      "                                groupby_runtime]],\n",
      "                              columns=['seed', 'vector_size',\n",
      "                                       'ref_runtime', 'groupby_runtime'])\n",
      "    # Verify `cythrust` results against `pandas`.\n",
      "    assert_frame_equal(ref_out, ddf_out.df)\n",
      "    return seed, ref_out, ddf_in, ddf_out, df_runtime"
     ],
     "language": "python",
     "metadata": {},
     "outputs": [],
     "prompt_number": 3
    },
    {
     "cell_type": "heading",
     "level": 2,
     "metadata": {},
     "source": [
      "1. Run tests"
     ]
    },
    {
     "cell_type": "code",
     "collapsed": false,
     "input": [
      "np.random.seed(0)\n",
      "\n",
      "frames = []\n",
      "# for N in  np.logspace(1, 6, num=10):\n",
      "for N in  np.linspace(10, 1e6, num=10):\n",
      "    for seed in xrange(10):\n",
      "        seed, ref_out, ddf_in, ddf_out, df_runtime = test_random_sum_by_key(N, seed=seed)\n",
      "        frames.append(df_runtime)\n",
      "df = pd.concat(frames)"
     ],
     "language": "python",
     "metadata": {},
     "outputs": [
      {
       "output_type": "stream",
       "stream": "stdout",
       "text": [
        "\"/tmp/cythrust__bVbxGg.pxd\" is not a file.\n",
        "\"/tmp/cythrust__rZ4Bhq.pxd\" is not a file."
       ]
      },
      {
       "output_type": "stream",
       "stream": "stdout",
       "text": [
        "\n"
       ]
      }
     ],
     "prompt_number": 4
    },
    {
     "cell_type": "heading",
     "level": 2,
     "metadata": {},
     "source": [
      "2. Plot runtime versus key/value vector size"
     ]
    },
    {
     "cell_type": "code",
     "collapsed": false,
     "input": [
      "pd.set_eng_float_format(accuracy=1, use_eng_prefix=True)\n",
      "df_min_runtime = df.groupby('vector_size')[['ref_runtime', 'groupby_runtime']].min()\n",
      "axis = df_min_runtime[['ref_runtime', 'groupby_runtime']].plot(style='-o')\n",
      "axis.set_yticklabels(['%ss' % si_format(t, 0) for t in axis.get_yticks()])\n",
      "df_min_runtime['groupby_speedup'] = (df_min_runtime['ref_runtime'] /\n",
      "                                     df_min_runtime['groupby_runtime'])\n",
      "speedup_axis = axis.twinx()\n",
      "df_min_runtime['groupby_speedup'].plot(ax=speedup_axis, style='--d')\n",
      "speedup_axis.set_ylabel('groupby speedup')\n",
      "speedup_axis.legend(loc='center right')\n",
      "df_min_runtime.T"
     ],
     "language": "python",
     "metadata": {},
     "outputs": [
      {
       "html": [
        "<div style=\"max-height:1000px;max-width:1500px;overflow:auto;\">\n",
        "<table border=\"1\" class=\"dataframe\">\n",
        "  <thead>\n",
        "    <tr style=\"text-align: right;\">\n",
        "      <th>vector_size</th>\n",
        "      <th>10</th>\n",
        "      <th>111120</th>\n",
        "      <th>222230</th>\n",
        "      <th>333340</th>\n",
        "      <th>444450</th>\n",
        "      <th>555560</th>\n",
        "      <th>666670</th>\n",
        "      <th>777780</th>\n",
        "      <th>888890</th>\n",
        "      <th>1000000</th>\n",
        "    </tr>\n",
        "  </thead>\n",
        "  <tbody>\n",
        "    <tr>\n",
        "      <th>ref_runtime</th>\n",
        "      <td>1.5m</td>\n",
        "      <td>7.0m</td>\n",
        "      <td>11.9m</td>\n",
        "      <td>16.4m</td>\n",
        "      <td>20.8m</td>\n",
        "      <td>26.8m</td>\n",
        "      <td>29.0m</td>\n",
        "      <td>34.4m</td>\n",
        "      <td>38.2m</td>\n",
        "      <td>41.5m</td>\n",
        "    </tr>\n",
        "    <tr>\n",
        "      <th>groupby_runtime</th>\n",
        "      <td>135.0u</td>\n",
        "      <td>529.0u</td>\n",
        "      <td>941.0u</td>\n",
        "      <td>1.2m</td>\n",
        "      <td>1.4m</td>\n",
        "      <td>1.8m</td>\n",
        "      <td>2.0m</td>\n",
        "      <td>2.1m</td>\n",
        "      <td>2.5m</td>\n",
        "      <td>2.6m</td>\n",
        "    </tr>\n",
        "    <tr>\n",
        "      <th>groupby_speedup</th>\n",
        "      <td>11.1</td>\n",
        "      <td>13.2</td>\n",
        "      <td>12.7</td>\n",
        "      <td>14.0</td>\n",
        "      <td>14.9</td>\n",
        "      <td>15.1</td>\n",
        "      <td>14.5</td>\n",
        "      <td>16.1</td>\n",
        "      <td>15.0</td>\n",
        "      <td>16.0</td>\n",
        "    </tr>\n",
        "  </tbody>\n",
        "</table>\n",
        "</div>"
       ],
       "metadata": {},
       "output_type": "pyout",
       "prompt_number": 5,
       "text": [
        "vector_size      10       111120   222230   333340   444450   555560   \\\n",
        "ref_runtime         1.5m     7.0m    11.9m    16.4m    20.8m    26.8m   \n",
        "groupby_runtime   135.0u   529.0u   941.0u     1.2m     1.4m     1.8m   \n",
        "groupby_speedup     11.1     13.2     12.7     14.0     14.9     15.1   \n",
        "\n",
        "vector_size      666670   777780   888890   1000000  \n",
        "ref_runtime        29.0m    34.4m    38.2m    41.5m  \n",
        "groupby_runtime     2.0m     2.1m     2.5m     2.6m  \n",
        "groupby_speedup     14.5     16.1     15.0     16.0  "
       ]
      },
      {
       "metadata": {},
       "output_type": "display_data",
       "png": "[encoded data removed]",
       "text": [
        "<matplotlib.figure.Figure at 0x7f7262009f10>"
       ]
      }
     ],
     "prompt_number": 5
    },
    {
     "cell_type": "markdown",
     "metadata": {},
     "source": [
      "--------------------------------------------------"
     ]
    }
   ],
   "metadata": {}
  }
 ]
}