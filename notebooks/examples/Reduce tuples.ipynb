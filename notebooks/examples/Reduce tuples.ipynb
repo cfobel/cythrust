{
 "metadata": {
  "name": "",
  "signature": "sha256:5b4f21076189ff893e2b4e37d248fc38f0f6ee43e148a234fd1144ac53b66f8b"
 },
 "nbformat": 3,
 "nbformat_minor": 0,
 "worksheets": [
  {
   "cells": [
    {
     "cell_type": "code",
     "collapsed": false,
     "input": [
      "import scipy.weave as weave\n",
      "import cythrust"
     ],
     "language": "python",
     "metadata": {},
     "outputs": [],
     "prompt_number": 1
    },
    {
     "cell_type": "markdown",
     "metadata": {},
     "source": [
      "--------------------------------------------------"
     ]
    },
    {
     "cell_type": "heading",
     "level": 2,
     "metadata": {},
     "source": [
      "Reduce *two* vectors simultaneously"
     ]
    },
    {
     "cell_type": "code",
     "collapsed": false,
     "input": [
      "setup = r'''\n",
      "#include <stdint.h>\n",
      "#include <thrust/device_vector.h>\n",
      "#include <thrust/copy.h>\n",
      "#include <thrust/reduce.h>\n",
      "#include <thrust/functional.h>\n",
      "#include <thrust/tuple.h>\n",
      "#include <src/reduce.hpp>\n",
      "#include <src/functional_tuples.hpp>\n",
      "'''\n",
      "code = r'''\n",
      "uint32_t a[] = {0, 1, 2, 3, 4, 5, 6, 7, 8, 9};\n",
      "uint32_t b[] = {0, 1, 2, 3, 4, 5, 6, 7, 8, 9};\n",
      "size_t a_N = sizeof(a) / sizeof(uint32_t);\n",
      "size_t b_N = sizeof(b) / sizeof(uint32_t);\n",
      "\n",
      "thrust::device_vector<uint32_t> v_a(a, a + a_N);\n",
      "thrust::device_vector<uint32_t> v_b(b, b + b_N);\n",
      "\n",
      "typedef thrust::tuple<uint32_t, uint32_t> result_type;\n",
      "typedef cythrust::reduce2<thrust::plus<uint32_t>, thrust::plus<uint32_t> > reduce_op_t;\n",
      "\n",
      "reduce_op_t reduce_op;\n",
      "\n",
      "result_type result = thrust::reduce(\n",
      "    thrust::make_zip_iterator(thrust::make_tuple(v_a.begin(), v_b.begin())),\n",
      "    thrust::make_zip_iterator(thrust::make_tuple(v_a.end(), v_b.end())),\n",
      "    result_type(0, 0),\n",
      "    reduce_op);\n",
      "\n",
      "return_val = Py_BuildValue(\"NN\", \n",
      "    Py_BuildValue(\"i\", thrust::get<0>(result)),\n",
      "    Py_BuildValue(\"i\", thrust::get<1>(result)));\n",
      "'''\n",
      "define_macros = [('THRUST_DEVICE_SYSTEM', 'THRUST_DEVICE_SYSTEM_CPP')]\n",
      "weave.inline(code, support_code=setup,\n",
      "             include_dirs=['/home/christian/local/include'] +\n",
      "             cythrust.get_includes(),\n",
      "             define_macros=define_macros)"
     ],
     "language": "python",
     "metadata": {},
     "outputs": [
      {
       "metadata": {},
       "output_type": "pyout",
       "prompt_number": 2,
       "text": [
        "(45, 45)"
       ]
      }
     ],
     "prompt_number": 2
    },
    {
     "cell_type": "markdown",
     "metadata": {},
     "source": [
      "--------------------------------------------------"
     ]
    },
    {
     "cell_type": "heading",
     "level": 2,
     "metadata": {},
     "source": [
      "Reduce *three* vectors simultaneously"
     ]
    },
    {
     "cell_type": "code",
     "collapsed": false,
     "input": [
      "import cythrust\n",
      "\n",
      "\n",
      "setup = r'''\n",
      "#include <stdint.h>\n",
      "#include <thrust/device_vector.h>\n",
      "#include <thrust/copy.h>\n",
      "#include <thrust/reduce.h>\n",
      "#include <thrust/functional.h>\n",
      "#include <thrust/tuple.h>\n",
      "#include <src/reduce.hpp>\n",
      "#include <src/functional_tuples.hpp>\n",
      "'''\n",
      "code = r'''\n",
      "uint32_t a[] = {0, 1, 2, 3, 4, 5, 6, 7, 8, 9};\n",
      "uint32_t b[] = {0, 1, 2, 3, 4, 5, 6, 7, 8, 9};\n",
      "size_t a_N = sizeof(a) / sizeof(uint32_t);\n",
      "size_t b_N = sizeof(b) / sizeof(uint32_t);\n",
      "\n",
      "thrust::device_vector<uint32_t> v_a(a, a + a_N);\n",
      "thrust::device_vector<uint32_t> v_b(b, b + b_N);\n",
      "\n",
      "typedef thrust::tuple<uint32_t, uint32_t, uint32_t> result_type;\n",
      "typedef cythrust::reduce3<thrust::plus<uint32_t>,\n",
      "                          thrust::plus<uint32_t>, thrust::plus<uint32_t> > reduce_op_t;\n",
      "\n",
      "reduce_op_t reduce_op;\n",
      "\n",
      "result_type result = thrust::reduce(\n",
      "    thrust::make_zip_iterator(thrust::make_tuple(v_a.begin(), v_a.begin(), v_b.begin())),\n",
      "    thrust::make_zip_iterator(thrust::make_tuple(v_a.end(), v_a.end(), v_b.end())),\n",
      "    result_type(0, 0, 0),\n",
      "    reduce_op);\n",
      "\n",
      "return_val = Py_BuildValue(\"NNN\", \n",
      "    Py_BuildValue(\"i\", thrust::get<0>(result)),\n",
      "    Py_BuildValue(\"i\", thrust::get<1>(result)),\n",
      "    Py_BuildValue(\"i\", thrust::get<2>(result)));\n",
      "'''\n",
      "define_macros = [('THRUST_DEVICE_SYSTEM', 'THRUST_DEVICE_SYSTEM_CPP')]\n",
      "weave.inline(code, support_code=setup,\n",
      "             include_dirs=['/home/christian/local/include'] +\n",
      "             cythrust.get_includes(),\n",
      "             define_macros=define_macros)"
     ],
     "language": "python",
     "metadata": {},
     "outputs": [
      {
       "metadata": {},
       "output_type": "pyout",
       "prompt_number": 3,
       "text": [
        "(45, 45, 45)"
       ]
      }
     ],
     "prompt_number": 3
    },
    {
     "cell_type": "markdown",
     "metadata": {},
     "source": [
      "--------------------------------------------------"
     ]
    },
    {
     "cell_type": "heading",
     "level": 2,
     "metadata": {},
     "source": [
      "Reduce *two* transform iterators simultaneously"
     ]
    },
    {
     "cell_type": "code",
     "collapsed": false,
     "input": [
      "import cythrust\n",
      "\n",
      "\n",
      "setup = r'''\n",
      "#include <stdint.h>\n",
      "#include <thrust/device_vector.h>\n",
      "#include <thrust/copy.h>\n",
      "#include <thrust/reduce.h>\n",
      "#include <thrust/functional.h>\n",
      "#include <thrust/tuple.h>\n",
      "#include <thrust/iterator/transform_iterator.h>\n",
      "#include <src/reduce.hpp>\n",
      "#include <src/functional.hpp>\n",
      "#include <src/functional_tuples.hpp>\n",
      "'''\n",
      "code = r'''\n",
      "uint32_t a[] = {0, 1, 2, 3, 4, 5, 6, 7, 8, 9};\n",
      "uint32_t b[] = {0, 1, 2, 3, 4, 5, 6, 7, 8, 9};\n",
      "size_t a_N = sizeof(a) / sizeof(uint32_t);\n",
      "size_t b_N = sizeof(b) / sizeof(uint32_t);\n",
      "\n",
      "thrust::device_vector<uint32_t> v_a(a, a + a_N);\n",
      "thrust::device_vector<uint32_t> v_b(b, b + b_N);\n",
      "\n",
      "typedef thrust::tuple<uint32_t, uint32_t> result_type;\n",
      "typedef cythrust::reduce2<thrust::plus<uint32_t>, thrust::plus<uint32_t> > reduce_op_t;\n",
      "\n",
      "reduce_op_t reduce_op;\n",
      "\n",
      "result_type result = thrust::reduce(\n",
      "    thrust::make_zip_iterator(thrust::make_tuple(thrust::make_transform_iterator(\n",
      "                                                     v_a.begin(), cythrust::square_root<uint32_t>()),\n",
      "                                                 thrust::make_transform_iterator(\n",
      "                                                     v_a.begin(), cythrust::square<uint32_t>()))),\n",
      "    thrust::make_zip_iterator(thrust::make_tuple(thrust::make_transform_iterator(\n",
      "                                                     v_a.end(), cythrust::square_root<uint32_t>()),\n",
      "                                                 thrust::make_transform_iterator(\n",
      "                                                     v_a.end(), cythrust::square<uint32_t>()))),\n",
      "    result_type(0, 0),\n",
      "    reduce_op);\n",
      "\n",
      "return_val = Py_BuildValue(\"NN\", \n",
      "    Py_BuildValue(\"i\", thrust::get<0>(result)),\n",
      "    Py_BuildValue(\"i\", thrust::get<1>(result)));\n",
      "'''\n",
      "define_macros = [('THRUST_DEVICE_SYSTEM', 'THRUST_DEVICE_SYSTEM_CPP')]\n",
      "weave.inline(code, support_code=setup,\n",
      "             include_dirs=['/home/christian/local/include'] +\n",
      "             cythrust.get_includes(),\n",
      "             define_macros=define_macros)"
     ],
     "language": "python",
     "metadata": {},
     "outputs": [
      {
       "metadata": {},
       "output_type": "pyout",
       "prompt_number": 4,
       "text": [
        "(16, 285)"
       ]
      }
     ],
     "prompt_number": 4
    }
   ],
   "metadata": {}
  }
 ]
}