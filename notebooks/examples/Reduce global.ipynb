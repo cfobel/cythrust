{
 "metadata": {
  "name": "",
  "signature": "sha256:627e9aaf944a3dac28ef87161cb763569ad71540a263c7d7078339603d734048"
 },
 "nbformat": 3,
 "nbformat_minor": 0,
 "worksheets": [
  {
   "cells": [
    {
     "cell_type": "markdown",
     "metadata": {},
     "source": [
      "--------------------------------------------------"
     ]
    },
    {
     "cell_type": "heading",
     "level": 1,
     "metadata": {},
     "source": [
      "Demonstrate global reduce calculations using Cythrust"
     ]
    },
    {
     "cell_type": "code",
     "collapsed": false,
     "input": [
      "%matplotlib inline\n",
      "from IPython.display import display\n",
      "\n",
      "from collections import OrderedDict\n",
      "from datetime import datetime\n",
      "\n",
      "import jinja2\n",
      "import pandas as pd\n",
      "import numpy as np\n",
      "from si_prefix import si_format\n",
      "import theano.tensor as T\n",
      "import cythrust as cy\n",
      "from cythrust.template import REDUCE_SETUP_TEMPLATE, REDUCE_TEMPLATE\n",
      "from theano_helpers import extract_op, ThrustCode, TypeNames, DataFlowGraph, theano, extract_node\n",
      "import nested_structures"
     ],
     "language": "python",
     "metadata": {},
     "outputs": [],
     "prompt_number": 1
    },
    {
     "cell_type": "code",
     "collapsed": false,
     "input": [
      "context = cy.Context()"
     ],
     "language": "python",
     "metadata": {},
     "outputs": [],
     "prompt_number": 2
    },
    {
     "cell_type": "code",
     "collapsed": false,
     "input": [
      "np.random.seed(0)\n",
      "block_count = 1e1\n",
      "\n",
      "# Create a host `pandas.DataFrame` with source data.\n",
      "block_data = pd.DataFrame(OrderedDict([('x', np.random.randint(10, size=block_count)),\n",
      "                                       ('y', np.random.randint(10, size=block_count))])).astype('uint32')\n",
      "\n",
      "# Use previously created Cythrust context to create a `DeviceDataFrame`\n",
      "# and initialize with contents from host `df`.\n",
      "ddf_block = cy.DeviceDataFrame(block_data, context=context)\n",
      "\n",
      "x, y = ddf_block.tensor(list('xy'))\n",
      "operations = [x.take(T.arange(0)), x.take(T.arange(0)), x.take(T.arange(0)),\n",
      "              T.switch(x > 3, x, T.constant(0)), x * T.constant(0) + 1]"
     ],
     "language": "python",
     "metadata": {},
     "outputs": [],
     "prompt_number": 3
    },
    {
     "cell_type": "code",
     "collapsed": false,
     "input": [
      "transforms = []"
     ],
     "language": "python",
     "metadata": {},
     "outputs": [],
     "prompt_number": 4
    },
    {
     "cell_type": "code",
     "collapsed": false,
     "input": [
      "display(ddf_block.product(transforms=transforms))\n",
      "display(ddf_block.df.product())\n",
      "display(ddf_block.max(transforms=transforms))\n",
      "display(ddf_block.df.max())"
     ],
     "language": "python",
     "metadata": {},
     "outputs": [
      {
       "output_type": "stream",
       "stream": "stdout",
       "text": [
        "\"/tmp/cythrust__ccMM9a.pxd\" is not a file.\n"
       ]
      },
      {
       "metadata": {},
       "output_type": "display_data",
       "text": [
        "x          0\n",
        "y    6322176\n",
        "dtype: int64"
       ]
      },
      {
       "metadata": {},
       "output_type": "display_data",
       "text": [
        "x          0\n",
        "y    6322176\n",
        "dtype: uint64"
       ]
      },
      {
       "output_type": "stream",
       "stream": "stdout",
       "text": [
        "\"/tmp/cythrust__PXEJp6.pxd\" is not a file.\n"
       ]
      },
      {
       "metadata": {},
       "output_type": "display_data",
       "text": [
        "x    9\n",
        "y    8\n",
        "dtype: int64"
       ]
      },
      {
       "metadata": {},
       "output_type": "display_data",
       "text": [
        "x    9\n",
        "y    8\n",
        "dtype: uint32"
       ]
      }
     ],
     "prompt_number": 5
    },
    {
     "cell_type": "code",
     "collapsed": false,
     "input": [
      "%timeit ddf_block.min(transforms=transforms)\n",
      "df = ddf_block.df\n",
      "%timeit df.min()\n",
      "%timeit ddf_block.max(transforms=transforms)\n",
      "%timeit df.max()"
     ],
     "language": "python",
     "metadata": {},
     "outputs": [
      {
       "output_type": "stream",
       "stream": "stdout",
       "text": [
        "\"/tmp/cythrust__IHlohi.pxd\" is not a file.\n",
        "1 loops, best of 3: 41.4 ms per loop"
       ]
      },
      {
       "output_type": "stream",
       "stream": "stdout",
       "text": [
        "\n",
        "10000 loops, best of 3: 125 \u00b5s per loop"
       ]
      },
      {
       "output_type": "stream",
       "stream": "stdout",
       "text": [
        "\n",
        "10 loops, best of 3: 41.3 ms per loop"
       ]
      },
      {
       "output_type": "stream",
       "stream": "stdout",
       "text": [
        "\n",
        "10000 loops, best of 3: 119 \u00b5s per loop"
       ]
      },
      {
       "output_type": "stream",
       "stream": "stdout",
       "text": [
        "\n"
       ]
      }
     ],
     "prompt_number": 6
    },
    {
     "cell_type": "markdown",
     "metadata": {},
     "source": [
      "--------------------------------------------------"
     ]
    }
   ],
   "metadata": {}
  }
 ]
}