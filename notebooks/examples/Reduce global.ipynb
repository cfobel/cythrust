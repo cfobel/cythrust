{
 "metadata": {
  "name": "",
  "signature": "sha256:58e15eb7d8d0143faa0db3966c2e23b613a5a1db259937ac22cc328ce5f50c47"
 },
 "nbformat": 3,
 "nbformat_minor": 0,
 "worksheets": [
  {
   "cells": [
    {
     "cell_type": "markdown",
     "metadata": {},
     "source": [
      "--------------------------------------------------"
     ]
    },
    {
     "cell_type": "heading",
     "level": 1,
     "metadata": {},
     "source": [
      "Demonstrate global reduce calculations using Cythrust"
     ]
    },
    {
     "cell_type": "code",
     "collapsed": false,
     "input": [
      "%matplotlib inline\n",
      "from IPython.display import display\n",
      "\n",
      "from collections import OrderedDict\n",
      "from datetime import datetime\n",
      "\n",
      "import jinja2\n",
      "import pandas as pd\n",
      "import numpy as np\n",
      "from si_prefix import si_format\n",
      "import theano.tensor as T\n",
      "import cythrust as cy\n",
      "from cythrust.template import REDUCE_SETUP_TEMPLATE, REDUCE_TEMPLATE\n",
      "from theano_helpers import extract_op, ThrustCode, TypeNames, DataFlowGraph, theano, extract_node\n",
      "import nested_structures"
     ],
     "language": "python",
     "metadata": {},
     "outputs": [],
     "prompt_number": 47
    },
    {
     "cell_type": "code",
     "collapsed": false,
     "input": [
      "# context = cy.Context(device_system='THRUST_DEVICE_SYSTEM_OMP')\n",
      "context = cy.Context(device_system='THRUST_DEVICE_SYSTEM_CPP')\n",
      "# context = cy.Context(device_system='THRUST_DEVICE_SYSTEM_TBB')\n",
      "# context = cy.Context()"
     ],
     "language": "python",
     "metadata": {},
     "outputs": [],
     "prompt_number": 82
    },
    {
     "cell_type": "code",
     "collapsed": false,
     "input": [
      "np.random.seed(0)\n",
      "block_count = 1e7\n",
      "\n",
      "# Create a host `pandas.DataFrame` with source data.\n",
      "block_data = pd.DataFrame(OrderedDict([('x', np.random.randint(10, size=block_count)),\n",
      "                                       ('y', np.random.randint(10, size=block_count))])).astype('float32')\n",
      "\n",
      "# Use previously created Cythrust context to create a `DeviceDataFrame`\n",
      "# and initialize with contents from host `df`.\n",
      "ddf_block = cy.DeviceDataFrame(block_data, context=context)"
     ],
     "language": "python",
     "metadata": {},
     "outputs": [],
     "prompt_number": 83
    },
    {
     "cell_type": "code",
     "collapsed": true,
     "input": [
      "transforms = OrderedDict()\n",
      "\n",
      "for op in ['sum', 'product', 'describe']:\n",
      "    # Create empty transforms list.  This list is populated by the reduction\n",
      "    # operation and can be reused on subsequent calls to avoid recompilation.\n",
      "    transforms[op] = []\n",
      "    \n",
      "    display(getattr(ddf_block, op)(transforms=transforms[op]))"
     ],
     "language": "python",
     "metadata": {},
     "outputs": [
      {
       "output_type": "stream",
       "stream": "stdout",
       "text": [
        "\"/tmp/cythrust__9xOc_H.pxd\" is not a file.\n"
       ]
      },
      {
       "metadata": {},
       "output_type": "display_data",
       "text": [
        "x    45015532\n",
        "y    45004504\n",
        "dtype: float64"
       ]
      },
      {
       "output_type": "stream",
       "stream": "stdout",
       "text": [
        "\"/tmp/cythrust__wJC5aH.pxd\" is not a file.\n"
       ]
      },
      {
       "metadata": {},
       "output_type": "display_data",
       "text": [
        "x    0\n",
        "y    0\n",
        "dtype: float64"
       ]
      },
      {
       "output_type": "stream",
       "stream": "stdout",
       "text": [
        "\"/tmp/cythrust__0AFatL.pxd\" is not a file.\n"
       ]
      },
      {
       "metadata": {},
       "output_type": "display_data",
       "text": [
        "x  sum        4.501553e+07\n",
        "   sqr_sum    2.811752e+08\n",
        "   min        0.000000e+00\n",
        "   max        9.000000e+00\n",
        "   mean       4.501553e+00\n",
        "   std        2.802416e+00\n",
        "   count      1.000000e+07\n",
        "y  sum        4.500450e+07\n",
        "   sqr_sum    2.810448e+08\n",
        "   min        0.000000e+00\n",
        "   max        9.000000e+00\n",
        "   mean       4.500450e+00\n",
        "   std        2.801861e+00\n",
        "   count      1.000000e+07\n",
        "dtype: float64"
       ]
      }
     ],
     "prompt_number": 84
    },
    {
     "cell_type": "code",
     "collapsed": false,
     "input": [
      "print '%s (n=%s)' % (ddf_block._context.device_system,\n",
      "                     si_format(ddf_block.size, 0))\n",
      "\n",
      "for op in ['sum', 'product', 'describe']:\n",
      "    %timeit getattr(ddf_block, op)(transforms=transforms[op])"
     ],
     "language": "python",
     "metadata": {},
     "outputs": [
      {
       "output_type": "stream",
       "stream": "stdout",
       "text": [
        "THRUST_DEVICE_SYSTEM_CPP (n=10M)\n",
        "100 loops, best of 3: 12.1 ms per loop"
       ]
      },
      {
       "output_type": "stream",
       "stream": "stdout",
       "text": [
        "\n",
        "100 loops, best of 3: 18.4 ms per loop"
       ]
      },
      {
       "output_type": "stream",
       "stream": "stdout",
       "text": [
        "\n",
        "10 loops, best of 3: 32.9 ms per loop"
       ]
      },
      {
       "output_type": "stream",
       "stream": "stdout",
       "text": [
        "\n"
       ]
      }
     ],
     "prompt_number": 69
    },
    {
     "cell_type": "code",
     "collapsed": false,
     "input": [
      "print '%s (n=%s)' % (ddf_block._context.device_system,\n",
      "                     si_format(ddf_block.size, 0))\n",
      "\n",
      "for op in ['sum', 'product', 'describe']:\n",
      "    %timeit getattr(ddf_block, op)(transforms=transforms[op])"
     ],
     "language": "python",
     "metadata": {},
     "outputs": [
      {
       "output_type": "stream",
       "stream": "stdout",
       "text": [
        "THRUST_DEVICE_SYSTEM_OMP (n=10M)\n",
        "100 loops, best of 3: 6.65 ms per loop"
       ]
      },
      {
       "output_type": "stream",
       "stream": "stdout",
       "text": [
        "\n",
        "100 loops, best of 3: 6.39 ms per loop"
       ]
      },
      {
       "output_type": "stream",
       "stream": "stdout",
       "text": [
        "\n",
        "10 loops, best of 3: 20.7 ms per loop"
       ]
      },
      {
       "output_type": "stream",
       "stream": "stdout",
       "text": [
        "\n"
       ]
      }
     ],
     "prompt_number": 65
    },
    {
     "cell_type": "code",
     "collapsed": false,
     "input": [
      "print '%s (n=%s)' % (ddf_block._context.device_system,\n",
      "                     si_format(ddf_block.size, 0))\n",
      "\n",
      "for op in ['sum', 'product', 'describe']:\n",
      "    %timeit getattr(ddf_block, op)(transforms=transforms[op])"
     ],
     "language": "python",
     "metadata": {},
     "outputs": [
      {
       "output_type": "stream",
       "stream": "stdout",
       "text": [
        "THRUST_DEVICE_SYSTEM_TBB (n=10M)\n",
        "100 loops, best of 3: 6.58 ms per loop"
       ]
      },
      {
       "output_type": "stream",
       "stream": "stdout",
       "text": [
        "\n",
        "100 loops, best of 3: 6.64 ms per loop"
       ]
      },
      {
       "output_type": "stream",
       "stream": "stdout",
       "text": [
        "\n",
        "10 loops, best of 3: 20.1 ms per loop"
       ]
      },
      {
       "output_type": "stream",
       "stream": "stdout",
       "text": [
        "\n"
       ]
      }
     ],
     "prompt_number": 73
    },
    {
     "cell_type": "markdown",
     "metadata": {},
     "source": [
      "--------------------------------------------------"
     ]
    }
   ],
   "metadata": {}
  }
 ]
}