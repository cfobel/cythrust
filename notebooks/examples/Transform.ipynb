{
 "metadata": {
  "name": "",
  "signature": "sha256:1dcd1176086764b72398177a633c484b0766e29729c2ab43bdeaf70c57c84213"
 },
 "nbformat": 3,
 "nbformat_minor": 0,
 "worksheets": [
  {
   "cells": [
    {
     "cell_type": "markdown",
     "metadata": {},
     "source": [
      "--------------------------------------------------"
     ]
    },
    {
     "cell_type": "heading",
     "level": 1,
     "metadata": {},
     "source": [
      "Demonstrate groupby sum by key on small arrays"
     ]
    },
    {
     "cell_type": "heading",
     "level": 2,
     "metadata": {},
     "source": [
      "API"
     ]
    },
    {
     "cell_type": "markdown",
     "metadata": {},
     "source": [
      " - `ddf.transform('square')`\n",
      "   * Apply unary function to each column.\n",
      "   * Result columns named `<input column>_<op name>`, e.g., `a_square`.\n",
      " - `ddf.transform(['square', 'sqrt'])`: \n",
      "   * Apply unary functions to every column.\n",
      "   * Result columns named `<input column>_<op name>`.\n",
      "   * e.g., `a_square`, `b_square`. `a_sqrt`, `b_sqrt`.\n",
      " - `ddf.transform({'<column name>': '<op name>'})`\n",
      "   * For each column key, apply corresponding unary function.\n",
      "   * Result columns named `<input column>_<op name>`, e.g., `a_square`.\n",
      " - `ddf.transform({'<column name>': ['<op1 name>', '<op2 name>']})`\n",
      "   * For each column key, apply corresponding unary function.\n",
      "   * Result columns named `<input column>_<op name>`, e.g., `a_square`.\n",
      "   * e.g., `ddf.transform({'a': ['square', 'sqrt']}, {'b': 'ln'})`\n",
      "     - `a_square`, `a_sqrt`. `b_ln`\n",
      " - `ddf.transform({'<result column name>': <Transform>})`\n",
      "   * For result column name (which does not conflict with existing column names),\n",
      "     apply corresponding `Transform` function.\n",
      "   * Allow arbitrarily complex transform expressions using `theano.tensor`\n",
      "     representations of input columns.\n",
      "   * Example uses:\n",
      "     - Permuted array access using `take`\n",
      "     - N-to-1 mapping functions using input from zero or more columns.\n",
      "     - Fill based on constant iterator, or counting iterator.\n",
      "     \n",
      "### Most general form ###\n",
      "\n",
      "\n",
      " - `ddf.transform({'<result column name>': <Transform>})`\n",
      "   * Any of the rest of the usage cases can be implemented on top of this most\n",
      "     general API function."
     ]
    },
    {
     "cell_type": "code",
     "collapsed": false,
     "input": [
      "%matplotlib inline\n",
      "from IPython.display import display\n",
      "\n",
      "from collections import OrderedDict\n",
      "from datetime import datetime\n",
      "\n",
      "import pandas as pd\n",
      "import numpy as np\n",
      "from si_prefix import si_format\n",
      "import theano.tensor as T\n",
      "import cythrust as cy"
     ],
     "language": "python",
     "metadata": {},
     "outputs": [],
     "prompt_number": 1
    },
    {
     "cell_type": "heading",
     "level": 2,
     "metadata": {},
     "source": [
      "Create new Cythrust context"
     ]
    },
    {
     "cell_type": "markdown",
     "metadata": {},
     "source": [
      "Dynamically compiled data types are dependent on the context\n",
      "instance they are created with.  By explicitly creating a\n",
      "context, it may be shared among multiple data structures.  Otherwise,\n",
      "a new context will be created implicitly for each `DeviceDataFrame`."
     ]
    },
    {
     "cell_type": "code",
     "collapsed": false,
     "input": [
      "context = cy.Context()"
     ],
     "language": "python",
     "metadata": {},
     "outputs": [],
     "prompt_number": 2
    },
    {
     "cell_type": "code",
     "collapsed": false,
     "input": [
      "np.random.seed(0)\n",
      "N = 1e1\n",
      "\n",
      "# Create a host `pandas.DataFrame` with source data.\n",
      "df = pd.DataFrame(OrderedDict([('net_key', np.random.randint(10, size=N)),\n",
      "                               ('block_key', np.random.randint(10, size=N)),\n",
      "                               ('x', np.random.randint(10, size=N)),\n",
      "                               ('y', np.random.randint(10, size=N))]))\n",
      "\n",
      "# Use previously created Cythrust context to create a `DeviceDataFrame`\n",
      "# and initialize with contents from host `df`.\n",
      "ddf = cy.DeviceDataFrame(df, context=context)"
     ],
     "language": "python",
     "metadata": {},
     "outputs": [],
     "prompt_number": 3
    },
    {
     "cell_type": "code",
     "collapsed": false,
     "input": [
      "# Generate Theano tensor objects that correspond to the vector types for the\n",
      "# specified columns.  In this case, columns `x` and `y`.\n",
      "x, y = ddf.tensor(['x', 'y'])\n",
      "\n",
      "# Create two transformations using the tensor symbols from above.\n",
      "# __NB__ This step only *defines* the transform operations.  No \n",
      "# calculations are done at this point.\n",
      "transform_dict = OrderedDict([\n",
      "    ('x_square', T.cast(T.square(x), 'float32')),\n",
      "    ('y_square', T.cast(T.square(y), 'float32'))])"
     ],
     "language": "python",
     "metadata": {},
     "outputs": [],
     "prompt_number": 4
    },
    {
     "cell_type": "code",
     "collapsed": false,
     "input": [
      "# Dynamically compile a Cython function for computing the transformations\n",
      "# in `transform_dict`.  Execute compiled function to return new\n",
      "# `DeviceDataFrame` where column names match transform keys from\n",
      "# `transform_dict`.\n",
      "ddf_out = ddf.transform(transform_dict)"
     ],
     "language": "python",
     "metadata": {},
     "outputs": [
      {
       "output_type": "stream",
       "stream": "stdout",
       "text": [
        "\"/tmp/cythrust__ffEjaz.pxd\" is not a file.\n"
       ]
      }
     ],
     "prompt_number": 5
    },
    {
     "cell_type": "code",
     "collapsed": false,
     "input": [
      "# Run transform operations again, but reuse the output data frame rather\n",
      "# than creating a new one.\n",
      "ddf_out = ddf.transform(transform_dict, out=ddf_out)"
     ],
     "language": "python",
     "metadata": {},
     "outputs": [],
     "prompt_number": 6
    },
    {
     "cell_type": "code",
     "collapsed": false,
     "input": [
      "%timeit ddf.transform(transform_dict, out=ddf_out)"
     ],
     "language": "python",
     "metadata": {},
     "outputs": [
      {
       "output_type": "stream",
       "stream": "stdout",
       "text": [
        "10000 loops, best of 3: 27.1 \u00b5s per loop\n"
       ]
      }
     ],
     "prompt_number": 7
    },
    {
     "cell_type": "markdown",
     "metadata": {},
     "source": [
      "--------------------------------------------------"
     ]
    }
   ],
   "metadata": {}
  }
 ]
}