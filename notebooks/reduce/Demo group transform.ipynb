{
 "metadata": {
  "name": "",
  "signature": "sha256:6ce5f55ff763d650f010d68c03416542ebfb0594126ed3d75c423474062148a0"
 },
 "nbformat": 3,
 "nbformat_minor": 0,
 "worksheets": [
  {
   "cells": [
    {
     "cell_type": "heading",
     "level": 2,
     "metadata": {},
     "source": [
      "Create device vector collection"
     ]
    },
    {
     "cell_type": "code",
     "collapsed": false,
     "input": [
      "from collections import OrderedDict\n",
      "from cythrust import DeviceVectorCollection, DeviceViewGroup\n",
      "import numpy as np\n",
      "import pandas as pd\n",
      "import theano\n",
      "import theano.tensor as T\n",
      "\n",
      "\n",
      "data = OrderedDict([('value', np.arange(10, 0, -1)),\n",
      "                    ('map', np.random.randint(10, size=15))])\n",
      "vectors = DeviceVectorCollection(data)\n",
      "vectors.add('result', np.empty(15, dtype='int'), dtype='int')\n",
      "vectors.as_arrays()"
     ],
     "language": "python",
     "metadata": {},
     "outputs": [
      {
       "metadata": {},
       "output_type": "pyout",
       "prompt_number": 42,
       "text": [
        "OrderedDict([('value', array([10,  9,  8,  7,  6,  5,  4,  3,  2,  1])), ('map', array([2, 4, 8, 4, 2, 6, 8, 9, 9, 5, 6, 6, 7, 0, 9])), ('result', array([1, 1, 9, 6, 1, 3, 9, 7, 6, 6, 6, 3, 5, 7, 8]))])"
       ]
      }
     ],
     "prompt_number": 42
    },
    {
     "cell_type": "heading",
     "level": 2,
     "metadata": {},
     "source": [
      "Create view group from vectors"
     ]
    },
    {
     "cell_type": "code",
     "collapsed": false,
     "input": [
      "# group = DeviceViewGroup.from_device_vectors(vectors)\n",
      "group = vectors[vectors.columns]\n",
      "group.as_arrays().items()"
     ],
     "language": "python",
     "metadata": {},
     "outputs": [
      {
       "metadata": {},
       "output_type": "pyout",
       "prompt_number": 46,
       "text": [
        "[('value', array([10,  9,  8,  7,  6,  5,  4,  3,  2,  1])),\n",
        " ('map', array([2, 4, 8, 4, 2, 6, 8, 9, 9, 5, 6, 6, 7, 0, 9])),\n",
        " ('result', array([1, 1, 9, 6, 1, 3, 9, 7, 6, 6, 6, 3, 5, 7, 8]))]"
       ]
      }
     ],
     "prompt_number": 46
    },
    {
     "cell_type": "code",
     "collapsed": false,
     "input": [
      "subgroup = group['value', 'map', 'result']\n",
      "subgroup._view_dict.items()"
     ],
     "language": "python",
     "metadata": {},
     "outputs": [
      {
       "metadata": {},
       "output_type": "pyout",
       "prompt_number": 47,
       "text": [
        "[('value', array([10,  9,  8,  7,  6,  5,  4,  3,  2,  1])),\n",
        " ('map', array([2, 4, 8, 4, 2, 6, 8, 9, 9, 5, 6, 6, 7, 0, 9])),\n",
        " ('result', array([1, 1, 9, 6, 1, 3, 9, 7, 6, 6, 6, 3, 5, 7, 8]))]"
       ]
      }
     ],
     "prompt_number": 47
    },
    {
     "cell_type": "markdown",
     "metadata": {},
     "source": [
      "--------------------------------------------------"
     ]
    },
    {
     "cell_type": "heading",
     "level": 2,
     "metadata": {},
     "source": [
      "Create a transform to perform `value[map]` (i.e., take `map` from `value`)"
     ]
    },
    {
     "cell_type": "code",
     "collapsed": false,
     "input": [
      "# Create Theano tensor objects corresponding to the `map` anad `value` vectors.\n",
      "# These tensors capture the type information necessary to generate code using\n",
      "# the `build_transform` method.\n",
      "map_, value = subgroup.tensor(['map', 'value'])\n",
      "\n",
      "# Create operation graph representing the `take` (i.e., permutation) operation.\n",
      "operation_graph = value.take(map_)\n",
      "print theano.pp(operation_graph)\n",
      "\n",
      "# Generate C++ header file and corresponding Cython header containing transform\n",
      "# functor.\n",
      "foo_transform = group._context.build_transform(operation_graph,\n",
      "                                               'TakeDemo%s' %\n",
      "                                               hash(operation_graph))"
     ],
     "language": "python",
     "metadata": {},
     "outputs": [
      {
       "output_type": "stream",
       "stream": "stdout",
       "text": [
        "AdvancedSubtensor1(Flatten{1}(value), map)\n"
       ]
      }
     ],
     "prompt_number": 71
    },
    {
     "cell_type": "heading",
     "level": 3,
     "metadata": {},
     "source": [
      "Show generated C++ header"
     ]
    },
    {
     "cell_type": "code",
     "collapsed": false,
     "input": [
      "print foo_transform.thrust_code.header_code('take_demo')"
     ],
     "language": "python",
     "metadata": {},
     "outputs": [
      {
       "output_type": "stream",
       "stream": "stdout",
       "text": [
        "\n",
        "#ifndef ___TAKE_DEMO__HPP___\n",
        "#define ___TAKE_DEMO__HPP___\n",
        "\n",
        "#include <stdint.h>\n",
        "#include <thrust/iterator/transform_iterator.h>\n",
        "#include <thrust/iterator/constant_iterator.h>\n",
        "#include <thrust/device_vector.h>\n",
        "#include <thrust/copy.h>\n",
        "#include <thrust/transform.h>\n",
        "#include <thrust/functional.h>\n",
        "#include <thrust/tuple.h>\n",
        "#include \"src/functional.hpp\"\n",
        "#include \"src/unpack_args.hpp\"\n",
        "\n",
        "#ifndef float32_t\n",
        "typedef float float32_t;\n",
        "#endif\n",
        "#ifndef float64_t\n",
        "typedef double float64_t;\n",
        "#endif\n",
        "\n",
        "\n",
        "struct take_demo {\n",
        "  /****************************************************************************\n",
        "   * Equivalent code: `AdvancedSubtensor1(Flatten{1}(value), map)`\n",
        "   ***************************************************************************/\n",
        "\n",
        "  typedef thrust::transform_iterator<thrust::identity<int64_t>, typename thrust::device_vector<int64_t>::iterator > iterator_1_t;\n",
        "  typedef thrust::permutation_iterator<iterator_1_t, typename thrust::device_vector<int64_t>::iterator > iterator_0_t;\n",
        "  \n",
        "  iterator_1_t iterator_1;\n",
        "  iterator_0_t iterator_0;\n",
        "  \n",
        "  take_demo(typename thrust::device_vector<int64_t>::iterator value, \n",
        "           typename thrust::device_vector<int64_t>::iterator map\n",
        "           )\n",
        "    : iterator_1(value, thrust::identity<int64_t>()), \n",
        "      iterator_0(iterator_1, map)\n",
        "      \n",
        "  {}\n",
        "\n",
        "  \n",
        "  \n",
        "  typedef iterator_0_t iterator;\n",
        "  typedef typename thrust::device_vector<int64_t>::iterator value_t;\n",
        "  typedef typename thrust::device_vector<int64_t>::iterator map_t;\n",
        "  \n",
        "\n",
        "  iterator begin() { return iterator_0; }\n",
        "};\n",
        "\n",
        "#endif  // #ifndef ___TAKE_DEMO__HPP___\n"
       ]
      }
     ],
     "prompt_number": 72
    },
    {
     "cell_type": "heading",
     "level": 3,
     "metadata": {},
     "source": [
      "Show generated Cython header to interface with C++ functor"
     ]
    },
    {
     "cell_type": "code",
     "collapsed": false,
     "input": [
      "print foo_transform.thrust_code.cython_header_code('take_demo', '\"take_demo.hpp\"')"
     ],
     "language": "python",
     "metadata": {},
     "outputs": [
      {
       "output_type": "stream",
       "stream": "stdout",
       "text": [
        "\n",
        "#cython: embedsignature=True\n",
        "cimport numpy as np\n",
        "import numpy as np\n",
        "from cythrust.thrust.copy cimport copy_n\n",
        "from cythrust.thrust.iterator.zip_iterator cimport make_zip_iterator\n",
        "from cythrust.thrust.tuple cimport make_tuple2\n",
        "\n",
        "cdef extern from \"take_demo.hpp\" nogil:\n",
        "    cdef cppclass take_demo:\n",
        "        cppclass iterator:\n",
        "            pass\n",
        "        cppclass value_t:\n",
        "            pass\n",
        "        cppclass map_t:\n",
        "            pass\n",
        "        \n",
        "        iterator begin()\n",
        "        take_demo(\n",
        "            value_t, map_t)\n"
       ]
      }
     ],
     "prompt_number": 73
    },
    {
     "cell_type": "markdown",
     "metadata": {},
     "source": [
      "--------------------------------------------------"
     ]
    },
    {
     "cell_type": "heading",
     "level": 2,
     "metadata": {},
     "source": [
      "Compile an inline function to apply transform to `map` and `value` views"
     ]
    },
    {
     "cell_type": "code",
     "collapsed": false,
     "input": [
      "foo = group.inline_func(['value', 'map', 'result'],\n",
      "    setup='''\n",
      "from %s.%s cimport %s\n",
      "from cythrust.thrust.copy cimport copy_n\n",
      "''' % tuple([foo_transform.functor_name] * 3),\n",
      "    include_dirs=foo_transform.get_includes(),\n",
      "    code = '''\n",
      "    cdef %s *op\n",
      "    op = new %s(<%s.value_t>value._begin, <%s.map_t>map._begin)\n",
      "    cdef size_t N = map._end - map._begin\n",
      "    copy_n(op.begin(), N, result._begin)\n",
      "    return N\n",
      "''' % tuple([foo_transform.functor_name] * 4))"
     ],
     "language": "python",
     "metadata": {},
     "outputs": [
      {
       "output_type": "stream",
       "stream": "stdout",
       "text": [
        "\"/tmp/cythrust__xr1wXZ.pxd\" is not a file.\n"
       ]
      }
     ],
     "prompt_number": 74
    },
    {
     "cell_type": "heading",
     "level": 2,
     "metadata": {},
     "source": [
      "Call dynamically generated function to apply `take` transform into `result`"
     ]
    },
    {
     "cell_type": "code",
     "collapsed": false,
     "input": [
      "from numpy.testing import assert_equal\n",
      "\n",
      "# After calling `foo`, `result` view should contain `view[map]`.\n",
      "foo(group.v['value'], group.v['map'], group.v['result'])\n",
      "assert_equal(group.v['result'][:], group.v['value'][:][group.v['map'][:]])\n",
      "\n",
      "# Display results\n",
      "group.as_arrays().items()"
     ],
     "language": "python",
     "metadata": {},
     "outputs": [
      {
       "metadata": {},
       "output_type": "pyout",
       "prompt_number": 86,
       "text": [
        "[('value', array([10,  9,  8,  7,  6,  5,  4,  3,  2,  1])),\n",
        " ('map', array([2, 4, 8, 4, 2, 6, 8, 9, 9, 5, 6, 6, 7, 0, 9])),\n",
        " ('result',\n",
        "  array([ 8,  6,  2,  6,  8,  4,  2,  1,  1,  5,  4,  4,  3, 10,  1]))]"
       ]
      }
     ],
     "prompt_number": 86
    }
   ],
   "metadata": {}
  }
 ]
}