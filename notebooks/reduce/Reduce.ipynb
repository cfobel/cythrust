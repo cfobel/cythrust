{
 "metadata": {
  "name": "",
  "signature": "sha256:3b9ef6cc39b1921706b9c48b02217538ec1d317025d481a0b563ad0d197c72d8"
 },
 "nbformat": 3,
 "nbformat_minor": 0,
 "worksheets": [
  {
   "cells": [
    {
     "cell_type": "code",
     "collapsed": false,
     "input": [
      "from cythrust import Context\n",
      "from path_helpers import path\n",
      "\n",
      "ctx = Context()\n",
      "\n",
      "root, name = ctx.inline_pyx_module('''\n",
      "from cython.operator cimport dereference as deref, preincrement as inc\n",
      "from libc.stdint cimport uint32_t\n",
      "from cythrust.thrust.reduce cimport reduce, accumulate\n",
      "from cythrust.thrust.tuple cimport make_tuple2, tuple2\n",
      "from cythrust.thrust.iterator.zip_iterator cimport make_zip_iterator\n",
      "from cythrust.thrust.functional cimport minimum, maximum, minmax_tuple, first, second\n",
      "\n",
      "cdef uint32_t test = 42\n",
      "\n",
      "def test_sum(uint32_t[:] a):\n",
      "    return <uint32_t>accumulate(&a[0], &a[-1] + 1)\n",
      "    \n",
      "    \n",
      "def test_min(uint32_t[:] a):\n",
      "    cdef minimum[uint32_t] op\n",
      "    return <uint32_t>reduce(&a[0], &a[-1] + 1, <uint32_t>(1L << 32 - 1), op)\n",
      "    \n",
      "    \n",
      "def test_max(uint32_t[:] a):\n",
      "    cdef maximum[uint32_t] op\n",
      "    return <uint32_t>reduce(&a[0], &a[-1] + 1, 0, op)\n",
      "    \n",
      "    \n",
      "def test_minmax(uint32_t[:, :] a):\n",
      "    cdef minmax_tuple[uint32_t] op\n",
      "    cdef first[uint32_t] *extract1st = new first[uint32_t]() \n",
      "    cdef second[uint32_t] *extract2nd = new second[uint32_t]() \n",
      "    \n",
      "    cdef size_t N = a.shape[1]\n",
      "    cdef uint32_t *a_x = &a[0, 0]\n",
      "    cdef uint32_t *a_y = &a[1, 0]\n",
      "    cdef tuple2[uint32_t, uint32_t] result\n",
      "    \n",
      "    result = reduce(\n",
      "        make_zip_iterator(make_tuple2(a_x, a_y)),\n",
      "        make_zip_iterator(make_tuple2(a_x + N, a_y + N)),\n",
      "        make_tuple2(<uint32_t>(1L << 32 - 1), <uint32_t>0), op)\n",
      "        \n",
      "    return deref(extract1st)(result), deref(extract2nd)(result)\n",
      "''')\n",
      "exec('from %s import test_sum, test_min, test_max, test_minmax' % name)"
     ],
     "language": "python",
     "metadata": {},
     "outputs": [],
     "prompt_number": 1
    },
    {
     "cell_type": "code",
     "collapsed": false,
     "input": [
      "import numpy as np"
     ],
     "language": "python",
     "metadata": {},
     "outputs": [],
     "prompt_number": 4
    },
    {
     "cell_type": "code",
     "collapsed": false,
     "input": [
      "data = np.arange(10, dtype='uint32')\n",
      "test_sum(data), data.sum()"
     ],
     "language": "python",
     "metadata": {},
     "outputs": [
      {
       "metadata": {},
       "output_type": "pyout",
       "prompt_number": 5,
       "text": [
        "(45, 45)"
       ]
      }
     ],
     "prompt_number": 5
    },
    {
     "cell_type": "code",
     "collapsed": false,
     "input": [
      "data = np.arange(3, 10, dtype='uint32')\n",
      "test_min(data), data.min()"
     ],
     "language": "python",
     "metadata": {},
     "outputs": [
      {
       "metadata": {},
       "output_type": "pyout",
       "prompt_number": 6,
       "text": [
        "(3, 3)"
       ]
      }
     ],
     "prompt_number": 6
    },
    {
     "cell_type": "code",
     "collapsed": false,
     "input": [
      "data = np.arange(3, 10, dtype='uint32')\n",
      "test_max(data), data.max()"
     ],
     "language": "python",
     "metadata": {},
     "outputs": [
      {
       "metadata": {},
       "output_type": "pyout",
       "prompt_number": 7,
       "text": [
        "(9, 9)"
       ]
      }
     ],
     "prompt_number": 7
    },
    {
     "cell_type": "code",
     "collapsed": false,
     "input": [
      "data = np.arange(3, 10, dtype='uint32')\n",
      "test_minmax(np.array([data, data]))"
     ],
     "language": "python",
     "metadata": {},
     "outputs": [
      {
       "metadata": {},
       "output_type": "pyout",
       "prompt_number": 8,
       "text": [
        "(3, 9)"
       ]
      }
     ],
     "prompt_number": 8
    }
   ],
   "metadata": {}
  }
 ]
}