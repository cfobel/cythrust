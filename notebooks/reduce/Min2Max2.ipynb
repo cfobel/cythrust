{
 "metadata": {
  "name": "",
  "signature": "sha256:94d796c3ce49eae05f654375d270406ec2e3b66eaef7d6cd728c623e50c73472"
 },
 "nbformat": 3,
 "nbformat_minor": 0,
 "worksheets": [
  {
   "cells": [
    {
     "cell_type": "markdown",
     "metadata": {},
     "source": [
      "# Motivation #\n",
      "\n",
      "The `min2` and `max2` functions are useful, for example, when computing\n",
      "bounding range (i.e., bounding box in two dimensions) values that may be\n",
      "updated based on a single element changing position.\n",
      "\n",
      "For example, consider the following points:\n",
      "\n",
      "    index 0 1 2 3 4 5 6 7 8 9 0 1 2 3 4 5 6 7 8 9 0 1 2\n",
      "\n",
      "          1     2               3         4           5\n",
      "         \u2514\u2500\u2500\u2500\u2500\u2500\u2500\u2500\u2500\u2500\u2500\u2500\u2500\u2500\u2500\u2500\u2500\u2500\u2500\u2500\u2500\u2500\u2500\u2500\u2500\u2500\u2500\u2500\u2500\u2500\u2500\u2500\u2500\u2500\u2500\u2500\u2500\u2500\u2500\u2500\u2500\u2500\u2500\u2500\u2500\u2500\u2518\n",
      "                        bounding range\n",
      "\n",
      "The bounding range of items 1-5 above is $[0, 22]$.\n",
      "\n",
      "Now consider a scenario where item 3 is moved as shown below:\n",
      "\n",
      "    index 0 1 2 3 4 5 6 7 8 9 0 1 2 3 4 5 6 7 8 9 0 1 2\n",
      "                                \u250c\u254c\u254c\u254c\u254c\u254c\u254c\u254c\u254c\u254c\u254c\u254c\u2510\n",
      "                                3           \u250a\n",
      "          1     2                         4 3         5\n",
      "         \u2514\u2500\u2500\u2500\u2500\u2500\u2500\u2500\u2500\u2500\u2500\u2500\u2500\u2500\u2500\u2500\u2500\u2500\u2500\u2500\u2500\u2500\u2500\u2500\u2500\u2500\u2500\u2500\u2500\u2500\u2500\u2500\u2500\u2500\u2500\u2500\u2500\u2500\u2500\u2500\u2500\u2500\u2500\u2500\u2500\u2500\u2518\n",
      "                        bounding range\n",
      "\n",
      "Note that in this case the bounding range does not change.\n",
      "\n",
      "Next, consider a scenario where item 1 is moved as shown below:\n",
      "\n",
      "    index 0 1 2 3 4 5 6 7 8 9 0 1 2 3 4 5 6 7 8 9 0 1 2\n",
      "          \u250c\u254c\u254c\u254c\u254c\u254c\u254c\u254c\u254c\u254c\u254c\u254c\u254c\u254c\u2510\n",
      "          1             \u250a\n",
      "                2       1       3         4           5\n",
      "          \u2508\u2508\u2508\u2508\u2508\u2514\u2500\u2500\u2500\u2500\u2500\u2500\u2500\u2500\u2500\u2500\u2500\u2500\u2500\u2500\u2500\u2500\u2500\u2500\u2500\u2500\u2500\u2500\u2500\u2500\u2500\u2500\u2500\u2500\u2500\u2500\u2500\u2500\u2500\u2500\u2500\u2500\u2500\u2500\u2518\n",
      "                        bounding range\n",
      "\n",
      "The new bounding range of items 1-5 above is $[3, 22]$. This can be computed\n",
      "efficiently, assuming we had known the minimum two indexes, i.e., 0 and 3.\n",
      "\n",
      "In general, given the two minimum indexes, let's call them $a$ and $b$, when\n",
      "moving an item, we can compare the original index $i$ and the proposed index\n",
      "$j$ of the item being moved to $a$ and $b$. There are four possible scenarios:\n",
      "\n",
      " 1. If $i = a$, the new minimum values would be $b, j$.\n",
      " 2. If $j < a < b$, the new minimum values would be $j, a$.\n",
      " 3. If $a < j < b$, the new minimum values would be $a, j$.\n",
      " 4. If $a < b < j$, the minimum values would remain unchanged $a, b$.\n",
      "\n",
      "In the example above, the original minimum values are $a = 0, b = 3$ and the\n",
      "original and proposed indexes of item 1 are $i = 0$ and $j = 7$.  In this\n",
      "scenario, we have case 1, where $i = a$, so the new minimum values are\n",
      "$a = 3, b = 7$.\n",
      "\n",
      "By applying similar logic, the maximum two index values of the range may be\n",
      "tracked as well.  Combining the two maximum index values with the two minimum\n",
      "provide a bounding range that can be updated in constant time due to moving a\n",
      "single item.  Extending this approach to two dimensions results in a *bounding\n",
      "box*.\n"
     ]
    },
    {
     "cell_type": "code",
     "collapsed": false,
     "input": [
      "import sys\n",
      "\n",
      "import numpy as np"
     ],
     "language": "python",
     "metadata": {},
     "outputs": [],
     "prompt_number": 2
    },
    {
     "cell_type": "code",
     "collapsed": false,
     "input": [
      "data = np.arange(3, 19, dtype='uint32')\n",
      "np.random.seed(0)\n",
      "np.random.shuffle(data)\n",
      "# data = np.tile(data, 2)"
     ],
     "language": "python",
     "metadata": {},
     "outputs": [],
     "prompt_number": 3
    },
    {
     "cell_type": "code",
     "collapsed": false,
     "input": [
      "from IPython.display import display"
     ],
     "language": "python",
     "metadata": {},
     "outputs": [],
     "prompt_number": 4
    },
    {
     "cell_type": "code",
     "collapsed": false,
     "input": [
      "from cythrust import Context\n",
      "from path_helpers import path\n",
      "\n",
      "ctx = Context()\n",
      "\n",
      "root, name = ctx.inline_pyx_module('''\n",
      "from cython.operator cimport dereference as deref, preincrement as inc\n",
      "from libc.stdint cimport uint32_t\n",
      "from cythrust.thrust.copy cimport copy_n\n",
      "from cythrust.thrust.fill cimport fill_n\n",
      "from cythrust.thrust.reduce cimport reduce, accumulate, reduce_by_key\n",
      "from cythrust.thrust.tuple cimport make_tuple2, make_tuple4, tuple2, tuple4\n",
      "from cythrust.thrust.iterator.constant_iterator cimport make_constant_iterator\n",
      "from cythrust.thrust.iterator.zip_iterator cimport make_zip_iterator\n",
      "from cythrust.thrust.functional cimport (minimum, maximum, minmax_tuple,\n",
      "                                         first, second, third, fourth,\n",
      "                                         min2_tuple, max2_tuple, min2max2_tuple,\n",
      "                                         equal_to)\n",
      "\n",
      "cdef uint32_t MAX = <uint32_t>((1L << 32) - 1)\n",
      "cdef uint32_t MIN = 0\n",
      "\n",
      "\n",
      "\n",
      "def test_min2max2(uint32_t[:, :] a):\n",
      "    cdef min2max2_tuple[uint32_t] *op = new min2max2_tuple[uint32_t]()\n",
      "    cdef first[uint32_t] *extract1st = new first[uint32_t]() \n",
      "    cdef second[uint32_t] *extract2nd = new second[uint32_t]() \n",
      "    cdef third[uint32_t] *extract3rd = new third[uint32_t]() \n",
      "    cdef fourth[uint32_t] *extract4th = new fourth[uint32_t]() \n",
      "    \n",
      "    cdef size_t N = a.shape[1]\n",
      "    cdef uint32_t *a_min0 = &a[0, 0]\n",
      "    cdef uint32_t *a_max1 = &a[1, 0]\n",
      "    cdef tuple4[uint32_t, uint32_t, uint32_t, uint32_t] result\n",
      "    \n",
      "    copy_n(a_min0, N, a_max1)\n",
      "    result = reduce(\n",
      "        make_zip_iterator(make_tuple4(a_min0,\n",
      "                                      make_constant_iterator(MAX),\n",
      "                                      make_constant_iterator(MIN),\n",
      "                                      a_max1)),\n",
      "        make_zip_iterator(make_tuple4(a_min0 + N,\n",
      "                                      make_constant_iterator(MAX),\n",
      "                                      make_constant_iterator(MIN),\n",
      "                                      a_max1 + N)),\n",
      "        make_tuple4(MAX, MAX, MIN, MIN), deref(op))\n",
      "        \n",
      "    return (deref(extract1st)(result), deref(extract2nd)(result),\n",
      "            deref(extract3rd)(result), deref(extract4th)(result))\n",
      "            \n",
      "            \n",
      "def test_min2max2_by_key(uint32_t[:] keys, uint32_t[:] data,\n",
      "                         uint32_t[:] keys_out, uint32_t[:, :] out):\n",
      "    \"\"\"\n",
      "    Result:\n",
      "    \n",
      "     - Returns number of packed keys, i.e., output count.\n",
      "     - `keys_out`: Packed `keys` array.\n",
      "     - `out`: Array, first output count columns contain the\n",
      "       following four values for each corresponding key:\n",
      "      * Minimum\n",
      "      * Second lowest (i.e., lowest value other than minimum)\n",
      "      * Second highest (i.e., highest value other than maximum)\n",
      "      * Maximum\n",
      "    \"\"\"\n",
      "    cdef min2max2_tuple[uint32_t] *op = new min2max2_tuple[uint32_t]()\n",
      "    \n",
      "    cdef equal_to[uint32_t] *key_op = new equal_to[uint32_t]()\n",
      "    cdef size_t N = data.shape[0]\n",
      "    \n",
      "    cdef uint32_t *out_min0 = &out[0, 0]\n",
      "    cdef uint32_t *out_min1 = &out[1, 0]\n",
      "    cdef uint32_t *out_max0 = &out[2, 0]\n",
      "    cdef uint32_t *out_max1 = &out[3, 0]\n",
      "    \n",
      "    cdef size_t result = <size_t>(<uint32_t *>reduce_by_key(\n",
      "        &keys[0], &keys[0] + N,\n",
      "        make_zip_iterator(make_tuple4(&data[0],\n",
      "                                      make_constant_iterator(MAX),\n",
      "                                      make_constant_iterator(MIN),\n",
      "                                      &data[0])),\n",
      "        &keys_out[0],\n",
      "        make_zip_iterator(make_tuple4(&out[0, 0],\n",
      "                                      &out[1, 0],\n",
      "                                      &out[2, 0],\n",
      "                                      &out[3, 0])),\n",
      "        deref(key_op), deref(op)).first - &keys_out[0])\n",
      "    return result\n",
      "''')\n",
      "exec('from %s import test_min2max2, test_min2max2_by_key' % name)"
     ],
     "language": "python",
     "metadata": {},
     "outputs": [
      {
       "output_type": "stream",
       "stream": "stdout",
       "text": [
        "\"/tmp/cythrust__b6hLLJ.pxd\" is not a file.\n"
       ]
      }
     ],
     "prompt_number": 5
    },
    {
     "cell_type": "code",
     "collapsed": false,
     "input": [
      "seed = 278818731\n",
      "seed = np.random.randint((1 << 32) - 1)\n",
      "print seed\n",
      "np.random.seed(seed)\n",
      "N = 10e6\n",
      "keys = np.random.choice(np.arange(1000, dtype='uint32'),\n",
      "                        size=N)\n",
      "keys.sort()\n",
      "data = np.random.choice(np.arange(100000, dtype='uint32'),\n",
      "                        size=N)\n",
      "keys_out = np.empty_like(keys)\n",
      "output = np.empty((4, data.shape[0]), dtype='uint32')\n",
      "\n",
      "result = test_min2max2_by_key(keys, data, keys_out, output)\n",
      "\n",
      "# display(np.array([keys, data]))\n",
      "np.array([keys_out[:result]] + output[:, :result].tolist())"
     ],
     "language": "python",
     "metadata": {},
     "outputs": [
      {
       "output_type": "stream",
       "stream": "stdout",
       "text": [
        "2051556033\n"
       ]
      },
      {
       "metadata": {},
       "output_type": "pyout",
       "prompt_number": 6,
       "text": [
        "array([[    0,     1,     2, ...,   997,   998,   999],\n",
        "       [    6,    11,     0, ...,    18,     7,     5],\n",
        "       [    9,    21,     1, ...,    47,    40,     8],\n",
        "       [99987, 99972, 99983, ..., 99970, 99991, 99991],\n",
        "       [99992, 99988, 99989, ..., 99991, 99993, 99995]])"
       ]
      }
     ],
     "prompt_number": 6
    },
    {
     "cell_type": "code",
     "collapsed": false,
     "input": [
      "%timeit test_min2max2_by_key(keys, data, keys_out, output)"
     ],
     "language": "python",
     "metadata": {},
     "outputs": [
      {
       "output_type": "stream",
       "stream": "stdout",
       "text": [
        "100 loops, best of 3: 18 ms per loop\n"
       ]
      }
     ],
     "prompt_number": 7
    }
   ],
   "metadata": {}
  }
 ]
}