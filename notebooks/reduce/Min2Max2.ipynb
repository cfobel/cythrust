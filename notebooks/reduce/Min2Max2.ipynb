{
 "metadata": {
  "name": "",
  "signature": "sha256:8e772f9d8ebdf1b5e9c5e97cb20eed11e092c664480164f94182ad40fcc0aaea"
 },
 "nbformat": 3,
 "nbformat_minor": 0,
 "worksheets": [
  {
   "cells": [
    {
     "cell_type": "markdown",
     "metadata": {},
     "source": [
      "# Motivation #\n",
      "\n",
      "The `min2` and `max2` functions are useful, for example, when computing\n",
      "bounding range (i.e., bounding box in two dimensions) values that may be\n",
      "updated based on a single element changing position.\n",
      "\n",
      "For example, consider the following points:\n",
      "\n",
      "    index 0 1 2 3 4 5 6 7 8 9 0 1 2 3 4 5 6 7 8 9 0 1 2\n",
      "\n",
      "          1     2               3         4           5\n",
      "         \u2514\u2500\u2500\u2500\u2500\u2500\u2500\u2500\u2500\u2500\u2500\u2500\u2500\u2500\u2500\u2500\u2500\u2500\u2500\u2500\u2500\u2500\u2500\u2500\u2500\u2500\u2500\u2500\u2500\u2500\u2500\u2500\u2500\u2500\u2500\u2500\u2500\u2500\u2500\u2500\u2500\u2500\u2500\u2500\u2500\u2500\u2518\n",
      "                        bounding range\n",
      "\n",
      "The bounding range of items 1-5 above is $[0, 22]$.\n",
      "\n",
      "Now consider a scenario where item 3 is moved as shown below:\n",
      "\n",
      "    index 0 1 2 3 4 5 6 7 8 9 0 1 2 3 4 5 6 7 8 9 0 1 2\n",
      "                                \u250c\u254c\u254c\u254c\u254c\u254c\u254c\u254c\u254c\u254c\u254c\u254c\u2510\n",
      "                                3           \u250a\n",
      "          1     2                         4 3         5\n",
      "         \u2514\u2500\u2500\u2500\u2500\u2500\u2500\u2500\u2500\u2500\u2500\u2500\u2500\u2500\u2500\u2500\u2500\u2500\u2500\u2500\u2500\u2500\u2500\u2500\u2500\u2500\u2500\u2500\u2500\u2500\u2500\u2500\u2500\u2500\u2500\u2500\u2500\u2500\u2500\u2500\u2500\u2500\u2500\u2500\u2500\u2500\u2518\n",
      "                        bounding range\n",
      "\n",
      "Note that in this case the bounding range does not change.\n",
      "\n",
      "Next, consider a scenario where item 1 is moved as shown below:\n",
      "\n",
      "    index 0 1 2 3 4 5 6 7 8 9 0 1 2 3 4 5 6 7 8 9 0 1 2\n",
      "          \u250c\u254c\u254c\u254c\u254c\u254c\u254c\u254c\u254c\u254c\u254c\u254c\u254c\u254c\u2510\n",
      "          1             \u250a\n",
      "                2       1       3         4           5\n",
      "          \u2508\u2508\u2508\u2508\u2508\u2514\u2500\u2500\u2500\u2500\u2500\u2500\u2500\u2500\u2500\u2500\u2500\u2500\u2500\u2500\u2500\u2500\u2500\u2500\u2500\u2500\u2500\u2500\u2500\u2500\u2500\u2500\u2500\u2500\u2500\u2500\u2500\u2500\u2500\u2500\u2500\u2500\u2500\u2500\u2518\n",
      "                        bounding range\n",
      "\n",
      "The new bounding range of items 1-5 above is $[3, 22]$. This can be computed\n",
      "efficiently, assuming we had known the minimum two indexes, i.e., 0 and 3.\n",
      "\n",
      "In general, given the two minimum indexes, let's call them $a$ and $b$, when\n",
      "moving an item, we can compare the original index $i$ and the proposed index\n",
      "$j$ of the item being moved to $a$ and $b$. There are four possible scenarios:\n",
      "\n",
      " 1. If $i = a$, the new minimum values would be $b, j$.\n",
      " 2. If $j < a < b$, the new minimum values would be $j, a$.\n",
      " 3. If $a < j < b$, the new minimum values would be $a, j$.\n",
      " 4. If $a < b < j$, the minimum values would remain unchanged $a, b$.\n",
      "\n",
      "In the example above, the original minimum values are $a = 0, b = 3$ and the\n",
      "original and proposed indexes of item 1 are $i = 0$ and $j = 7$.  In this\n",
      "scenario, we have case 1, where $i = a$, so the new minimum values are\n",
      "$a = 3, b = 7$.\n",
      "\n",
      "By applying similar logic, the maximum two index values of the range may be\n",
      "tracked as well.  Combining the two maximum index values with the two minimum\n",
      "provide a bounding range that can be updated in constant time due to moving a\n",
      "single item.  Extending this approach to two dimensions results in a *bounding\n",
      "box*.\n"
     ]
    },
    {
     "cell_type": "code",
     "collapsed": false,
     "input": [
      "import sys\n",
      "\n",
      "import numpy as np"
     ],
     "language": "python",
     "metadata": {},
     "outputs": [],
     "prompt_number": 1
    },
    {
     "cell_type": "code",
     "collapsed": false,
     "input": [
      "data = np.arange(3, 19, dtype='uint32')\n",
      "np.random.seed(0)\n",
      "np.random.shuffle(data)\n",
      "# data = np.tile(data, 2)"
     ],
     "language": "python",
     "metadata": {},
     "outputs": [],
     "prompt_number": 21
    },
    {
     "cell_type": "code",
     "collapsed": false,
     "input": [
      "def min2(a, b):\n",
      "    a0, a1 = a\n",
      "    b0, b1 = b\n",
      "    \n",
      "    #     [     a0         a1           b0                  b1       ]\n",
      "    if a1 < b0:\n",
      "        print '[     a0         a1           b0                  b1       ]'\n",
      "        return a0, a1\n",
      "    #     [     b0         b1           a0                  a1       ]\n",
      "    elif b1 < a0:\n",
      "        print '[     b0         b1           a0                  a1       ]'\n",
      "        return b0, b1\n",
      "    #     [     a0         b0           a1                  b1       ]\n",
      "    #     [     a0         b0           b1                  a1       ]\n",
      "    elif (a0 < b0):  # and ((a1 < b1) or (b1 < a1)):\n",
      "        print '[     a0         b0           a1                  b1       ]'\n",
      "        print '[     a0         b0           b1                  a1       ]'\n",
      "        return a0, b0\n",
      "    #     [     b0         a0           a1                  b1       ]\n",
      "    #     [     b0         a0           b1                  a1       ]\n",
      "    else:\n",
      "        print '[     b0         a0           a1                  b1       ]'\n",
      "        print '[     b0         a0           b1                  a1       ]'\n",
      "        return b0, a0"
     ],
     "language": "python",
     "metadata": {},
     "outputs": [],
     "prompt_number": 17
    },
    {
     "cell_type": "code",
     "collapsed": false,
     "input": [
      "def max2(a, b):\n",
      "    a0, a1 = a\n",
      "    b0, b1 = b\n",
      "    \n",
      "    #     [     a0         a1           b0                  b1       ]\n",
      "    if a1 < b0:\n",
      "        print '[     a0         a1           b0                  b1       ]'\n",
      "        return b0, b1\n",
      "    #     [     b0         b1           a0                  a1       ]\n",
      "    elif b1 < a0:\n",
      "        print '[     b0         b1           a0                  a1       ]'\n",
      "        return a0, a1\n",
      "    #     [     a0         b0           a1                  b1       ]\n",
      "    #     [     b0         a0           a1                  b1       ]\n",
      "    elif (a1 < b1):  # and ((a1 < b1) or (b1 < a1)):\n",
      "        print '[     a0         b0           a1                  b1       ]'\n",
      "        print '[     a0         b0           b1                  a1       ]'\n",
      "        return a1, b1\n",
      "    #     [     a0         b0           b1                  a1       ]\n",
      "    #     [     b0         a0           b1                  a1       ]\n",
      "    else:\n",
      "        print '[     b0         a0           a1                  b1       ]'\n",
      "        print '[     b0         a0           b1                  a1       ]'\n",
      "        return b1, a1"
     ],
     "language": "python",
     "metadata": {},
     "outputs": [],
     "prompt_number": 18
    },
    {
     "cell_type": "code",
     "collapsed": false,
     "input": [
      "d_array = np.array([data, np.ones_like(data) * sys.maxint])\n",
      "reduce(lambda a, b: min2(a, b), d_array.T)"
     ],
     "language": "python",
     "metadata": {},
     "outputs": [
      {
       "output_type": "stream",
       "stream": "stdout",
       "text": [
        "[     a0         b0           a1                  b1       ]\n",
        "[     a0         b0           b1                  a1       ]\n",
        "[     a0         a1           b0                  b1       ]\n",
        "[     a0         a1           b0                  b1       ]\n",
        "[     a0         a1           b0                  b1       ]\n",
        "[     a0         b0           a1                  b1       ]\n",
        "[     a0         b0           b1                  a1       ]\n",
        "[     a0         b0           a1                  b1       ]\n",
        "[     a0         b0           b1                  a1       ]\n",
        "[     a0         a1           b0                  b1       ]\n",
        "[     a0         a1           b0                  b1       ]\n",
        "[     a0         a1           b0                  b1       ]\n",
        "[     a0         a1           b0                  b1       ]\n",
        "[     a0         a1           b0                  b1       ]\n",
        "[     a0         a1           b0                  b1       ]\n",
        "[     b0         a0           a1                  b1       ]\n",
        "[     b0         a0           b1                  a1       ]\n",
        "[     a0         a1           b0                  b1       ]\n",
        "[     a0         a1           b0                  b1       ]\n"
       ]
      },
      {
       "metadata": {},
       "output_type": "pyout",
       "prompt_number": 22,
       "text": [
        "(3, 4)"
       ]
      }
     ],
     "prompt_number": 22
    },
    {
     "cell_type": "code",
     "collapsed": false,
     "input": [
      "d_array = np.array([np.zeros_like(data), data])\n",
      "reduce(lambda a, b: max2(a, b), d_array.T)"
     ],
     "language": "python",
     "metadata": {},
     "outputs": [
      {
       "output_type": "stream",
       "stream": "stdout",
       "text": [
        "[     a0         b0           a1                  b1       ]\n",
        "[     a0         b0           b1                  a1       ]\n",
        "[     a0         b0           a1                  b1       ]\n",
        "[     a0         b0           b1                  a1       ]\n",
        "[     a0         b0           a1                  b1       ]\n",
        "[     a0         b0           b1                  a1       ]\n",
        "[     a0         b0           a1                  b1       ]\n",
        "[     a0         b0           b1                  a1       ]\n",
        "[     b0         b1           a0                  a1       ]\n",
        "[     b0         b1           a0                  a1       ]\n",
        "[     a0         b0           a1                  b1       ]\n",
        "[     a0         b0           b1                  a1       ]\n",
        "[     b0         b1           a0                  a1       ]\n",
        "[     b0         b1           a0                  a1       ]\n",
        "[     a0         b0           a1                  b1       ]\n",
        "[     a0         b0           b1                  a1       ]\n",
        "[     b0         b1           a0                  a1       ]\n",
        "[     b0         b1           a0                  a1       ]\n",
        "[     b0         b1           a0                  a1       ]\n",
        "[     b0         b1           a0                  a1       ]\n",
        "[     b0         b1           a0                  a1       ]\n"
       ]
      },
      {
       "metadata": {},
       "output_type": "pyout",
       "prompt_number": 23,
       "text": [
        "(17, 18)"
       ]
      }
     ],
     "prompt_number": 23
    },
    {
     "cell_type": "code",
     "collapsed": false,
     "input": [
      "a = 3, 4; b = 5, 6; out = list(min2(a, b)); out2 = sorted(a + b)[:2]; print a, b, out, out2\n",
      "a = 3, 5; b = 4, 6; out = list(min2(a, b)); out2 = sorted(a + b)[:2]; print a, b, out, out2\n",
      "a = 3, 6; b = 4, 5; out = list(min2(a, b)); out2 = sorted(a + b)[:2]; print a, b, out, out2\n",
      "a = 4, 5; b = 3, 6; out = list(min2(a, b)); out2 = sorted(a + b)[:2]; print a, b, out, out2\n",
      "a = 4, 6; b = 3, 5; out = list(min2(a, b)); out2 = sorted(a + b)[:2]; print a, b, out, out2\n",
      "a = 5, 6; b = 3, 4; out = list(min2(a, b)); out2 = sorted(a + b)[:2]; print a, b, out, out2"
     ],
     "language": "python",
     "metadata": {},
     "outputs": [
      {
       "output_type": "stream",
       "stream": "stdout",
       "text": [
        "[     a0         a1           b0                  b1       ]\n",
        "(3, 4) (5, 6) [3, 4] [3, 4]\n",
        "[     a0         b0           a1                  b1       ]\n",
        "[     a0         b0           b1                  a1       ]\n",
        "(3, 5) (4, 6) [3, 4] [3, 4]\n",
        "[     a0         b0           a1                  b1       ]\n",
        "[     a0         b0           b1                  a1       ]\n",
        "(3, 6) (4, 5) [3, 4] [3, 4]\n",
        "[     b0         a0           a1                  b1       ]\n",
        "[     b0         a0           b1                  a1       ]\n",
        "(4, 5) (3, 6) [3, 4] [3, 4]\n",
        "[     b0         a0           a1                  b1       ]\n",
        "[     b0         a0           b1                  a1       ]\n",
        "(4, 6) (3, 5) [3, 4] [3, 4]\n",
        "[     b0         b1           a0                  a1       ]\n",
        "(5, 6) (3, 4) [3, 4] [3, 4]\n"
       ]
      }
     ],
     "prompt_number": 7
    },
    {
     "cell_type": "code",
     "collapsed": false,
     "input": [
      "a = 3, 4; b = 5, 6; out = list(max2(a, b)); out2 = sorted(a + b)[2:]; print a, b, out, out2\n",
      "a = 3, 5; b = 4, 6; out = list(max2(a, b)); out2 = sorted(a + b)[2:]; print a, b, out, out2\n",
      "a = 3, 6; b = 4, 5; out = list(max2(a, b)); out2 = sorted(a + b)[2:]; print a, b, out, out2\n",
      "a = 4, 5; b = 3, 6; out = list(max2(a, b)); out2 = sorted(a + b)[2:]; print a, b, out, out2\n",
      "a = 4, 6; b = 3, 5; out = list(max2(a, b)); out2 = sorted(a + b)[2:]; print a, b, out, out2\n",
      "a = 5, 6; b = 3, 4; out = list(max2(a, b)); out2 = sorted(a + b)[2:]; print a, b, out, out2"
     ],
     "language": "python",
     "metadata": {},
     "outputs": [
      {
       "output_type": "stream",
       "stream": "stdout",
       "text": [
        "[     a0         a1           b0                  b1       ]\n",
        "(3, 4) (5, 6) [5, 6] [5, 6]\n",
        "[     a0         b0           a1                  b1       ]\n",
        "[     a0         b0           b1                  a1       ]\n",
        "(3, 5) (4, 6) [5, 6] [5, 6]\n",
        "[     b0         a0           a1                  b1       ]\n",
        "[     b0         a0           b1                  a1       ]\n",
        "(3, 6) (4, 5) [5, 6] [5, 6]\n",
        "[     a0         b0           a1                  b1       ]\n",
        "[     a0         b0           b1                  a1       ]\n",
        "(4, 5) (3, 6) [5, 6] [5, 6]\n",
        "[     b0         a0           a1                  b1       ]\n",
        "[     b0         a0           b1                  a1       ]\n",
        "(4, 6) (3, 5) [5, 6] [5, 6]\n",
        "[     b0         b1           a0                  a1       ]\n",
        "(5, 6) (3, 4) [5, 6] [5, 6]\n"
       ]
      }
     ],
     "prompt_number": 8
    },
    {
     "cell_type": "code",
     "collapsed": false,
     "input": [
      "from cythrust import Context\n",
      "from path_helpers import path\n",
      "\n",
      "ctx = Context()\n",
      "\n",
      "root, name = ctx.inline_pyx_module('''\n",
      "from cython.operator cimport dereference as deref, preincrement as inc\n",
      "from libc.stdint cimport uint32_t\n",
      "from cythrust.thrust.copy cimport copy_n\n",
      "from cythrust.thrust.fill cimport fill_n\n",
      "from cythrust.thrust.reduce cimport reduce, accumulate\n",
      "from cythrust.thrust.tuple cimport make_tuple2, make_tuple4, tuple2, tuple4\n",
      "from cythrust.thrust.iterator.constant_iterator cimport make_constant_iterator\n",
      "from cythrust.thrust.iterator.zip_iterator cimport make_zip_iterator\n",
      "from cythrust.thrust.functional cimport (minimum, maximum, minmax_tuple,\n",
      "                                         first, second, third, fourth,\n",
      "                                         min2_tuple, max2_tuple, min2max2_tuple)\n",
      "\n",
      "cdef uint32_t MAX = <uint32_t>(1L << 32 - 1)\n",
      "cdef uint32_t MIN = 0\n",
      "\n",
      "\n",
      "def test_min2(uint32_t[:, :] a):\n",
      "    cdef min2_tuple[uint32_t] op\n",
      "    cdef first[uint32_t] *extract1st = new first[uint32_t]() \n",
      "    cdef second[uint32_t] *extract2nd = new second[uint32_t]() \n",
      "    \n",
      "    cdef size_t N = a.shape[1]\n",
      "    cdef uint32_t *a_x = &a[0, 0]\n",
      "    cdef uint32_t *a_y = &a[1, 0]\n",
      "    cdef tuple2[uint32_t, uint32_t] result\n",
      "    \n",
      "    fill_n(a_y, N, MAX)\n",
      "    \n",
      "    result = reduce(\n",
      "        make_zip_iterator(make_tuple2(a_x, a_y)),\n",
      "        make_zip_iterator(make_tuple2(a_x + N, a_y + N)),\n",
      "        make_tuple2(MAX, MAX), op)\n",
      "        \n",
      "    return deref(extract1st)(result), deref(extract2nd)(result)\n",
      "    \n",
      "    \n",
      "def test_max2(uint32_t[:, :] a):\n",
      "    cdef max2_tuple[uint32_t] op\n",
      "    cdef first[uint32_t] *extract1st = new first[uint32_t]() \n",
      "    cdef second[uint32_t] *extract2nd = new second[uint32_t]() \n",
      "    \n",
      "    cdef size_t N = a.shape[1]\n",
      "    cdef uint32_t *a_x = &a[0, 0]\n",
      "    cdef uint32_t *a_y = &a[1, 0]\n",
      "    cdef tuple2[uint32_t, uint32_t] result\n",
      "    \n",
      "    fill_n(a_x, N, MIN)\n",
      "    \n",
      "    result = reduce(\n",
      "        make_zip_iterator(make_tuple2(a_x, a_y)),\n",
      "        make_zip_iterator(make_tuple2(a_x + N, a_y + N)),\n",
      "        make_tuple2(MIN, MIN), op)\n",
      "        \n",
      "    return deref(extract1st)(result), deref(extract2nd)(result)\n",
      "    \n",
      "    \n",
      "def test_min2max2(uint32_t[:, :] a):\n",
      "    cdef min2max2_tuple[uint32_t] *op = new min2max2_tuple[uint32_t]()\n",
      "    cdef first[uint32_t] *extract1st = new first[uint32_t]() \n",
      "    cdef second[uint32_t] *extract2nd = new second[uint32_t]() \n",
      "    cdef third[uint32_t] *extract3rd = new third[uint32_t]() \n",
      "    cdef fourth[uint32_t] *extract4th = new fourth[uint32_t]() \n",
      "    \n",
      "    cdef size_t N = a.shape[1]\n",
      "    cdef uint32_t *a_min0 = &a[0, 0]\n",
      "    cdef uint32_t *a_max1 = &a[1, 0]\n",
      "    cdef tuple4[uint32_t, uint32_t, uint32_t, uint32_t] result\n",
      "    \n",
      "    copy_n(a_min0, N, a_max1)\n",
      "    result = reduce(\n",
      "        make_zip_iterator(make_tuple4(a_min0,\n",
      "                                      make_constant_iterator(MAX),\n",
      "                                      make_constant_iterator(MIN),\n",
      "                                      a_max1)),\n",
      "        make_zip_iterator(make_tuple4(a_min0 + N,\n",
      "                                      make_constant_iterator(MAX),\n",
      "                                      make_constant_iterator(MIN),\n",
      "                                      a_max1 + N)),\n",
      "        make_tuple4(MAX, MAX, MIN, MIN), deref(op))\n",
      "        \n",
      "    return (deref(extract1st)(result), deref(extract2nd)(result),\n",
      "            deref(extract3rd)(result), deref(extract4th)(result))\n",
      "''')\n",
      "exec('from %s import test_min2, test_max2, test_min2max2' % name)"
     ],
     "language": "python",
     "metadata": {},
     "outputs": [
      {
       "output_type": "stream",
       "stream": "stdout",
       "text": [
        "\"/tmp/cythrust__JE95ma.pxd\" is not a file.\n"
       ]
      }
     ],
     "prompt_number": 235
    },
    {
     "cell_type": "code",
     "collapsed": false,
     "input": [
      "# np.random.seed(0)\n",
      "data = np.random.choice(np.arange(20, dtype='uint32'),\n",
      "                        size=15)\n",
      "data"
     ],
     "language": "python",
     "metadata": {},
     "outputs": [
      {
       "metadata": {},
       "output_type": "pyout",
       "prompt_number": 256,
       "text": [
        "array([ 0, 19,  8,  7, 13, 17,  0, 11,  4,  0, 10, 14, 18,  4,  3], dtype=uint32)"
       ]
      }
     ],
     "prompt_number": 256
    },
    {
     "cell_type": "code",
     "collapsed": false,
     "input": [
      "d_array = np.array([data, np.empty_like(data)], dtype='uint32')\n",
      "result = test_min2max2(d_array)\n",
      "result"
     ],
     "language": "python",
     "metadata": {},
     "outputs": [
      {
       "metadata": {},
       "output_type": "pyout",
       "prompt_number": 257,
       "text": [
        "(0, 0, 18, 19)"
       ]
      }
     ],
     "prompt_number": 257
    },
    {
     "cell_type": "code",
     "collapsed": false,
     "input": [
      "d_array = np.array([data, np.empty_like(data)], dtype='uint32')\n",
      "test_min2(d_array)"
     ],
     "language": "python",
     "metadata": {},
     "outputs": [
      {
       "metadata": {},
       "output_type": "pyout",
       "prompt_number": 109,
       "text": [
        "(0, 0)"
       ]
      }
     ],
     "prompt_number": 109
    },
    {
     "cell_type": "code",
     "collapsed": false,
     "input": [
      "d_array = np.array([np.empty_like(data), data], dtype='uint32')\n",
      "test_max2(d_array)"
     ],
     "language": "python",
     "metadata": {},
     "outputs": [
      {
       "metadata": {},
       "output_type": "pyout",
       "prompt_number": 253,
       "text": [
        "(18, 19)"
       ]
      }
     ],
     "prompt_number": 253
    }
   ],
   "metadata": {}
  }
 ]
}