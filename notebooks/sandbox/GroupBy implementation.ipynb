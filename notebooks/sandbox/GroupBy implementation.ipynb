{
 "metadata": {
  "name": "",
  "signature": "sha256:e72556094e6e83787a7eb292521524f38b4f49cafb3759336bc92676e741f675"
 },
 "nbformat": 3,
 "nbformat_minor": 0,
 "worksheets": [
  {
   "cells": [
    {
     "cell_type": "code",
     "collapsed": false,
     "input": [
      "import pandas as pd\n",
      "import numpy as np\n",
      "\n",
      "from cythrust import DeviceViewGroup, DeviceVectorCollection, DeviceDataFrame, Context, get_sort_func, get_reduce_func"
     ],
     "language": "python",
     "metadata": {},
     "outputs": [],
     "prompt_number": 2
    },
    {
     "cell_type": "code",
     "collapsed": false,
     "input": [
      "class GroupBy(object):\n",
      "    def __init__(self, views, key_columns, sort=True, stable=False):\n",
      "        self.views = views\n",
      "        self.key_views = views[key_columns]\n",
      "        self.value_views = views[[c for c in self.views.columns\n",
      "                                  if c not in key_columns]]\n",
      "        key_columns = self.key_views.columns\n",
      "        value_columns = self.value_views.columns\n",
      "        key_modules = tuple(self.key_views.get_vector_module(key_columns))\n",
      "        key_dtypes = tuple(self.key_views.get_dtype(key_columns))\n",
      "        value_modules = tuple(self.value_views.get_vector_module(value_columns))\n",
      "        value_dtypes = tuple(self.value_views.get_dtype(value_columns))\n",
      "\n",
      "        self.sort_func = get_sort_func(views._context, key_modules, key_dtypes,\n",
      "                                       value_modules, value_dtypes, stable=stable)\n",
      "        \n",
      "        if sort:\n",
      "            self.sort()\n",
      "    \n",
      "    def sort(self):\n",
      "        self.sort_func(*(self.key_views.v.values() + self.value_views.v.values()))\n",
      "        \n",
      "    def get_reduce_func(self):\n",
      "        key_columns = self.key_views.columns\n",
      "        value_columns = self.value_views.columns\n",
      "        key_modules = tuple(self.key_views.get_vector_module(key_columns))\n",
      "        key_dtypes = tuple(self.key_views.get_dtype(key_columns))\n",
      "        key_ctypes = tuple(self.key_views.get_ctype(key_columns))\n",
      "        value_modules = tuple(self.value_views.get_vector_module(value_columns))\n",
      "        value_dtypes = tuple(self.value_views.get_dtype(value_columns))\n",
      "        value_ctypes = tuple(self.value_views.get_ctype(value_columns))\n",
      "\n",
      "        return get_reduce_func(self.views._context, key_modules * 2, key_dtypes * 2,\n",
      "                               value_modules * 2, value_dtypes * 2,\n",
      "                               key_ctypes * 2, value_ctypes * 2)"
     ],
     "language": "python",
     "metadata": {},
     "outputs": [],
     "prompt_number": 3
    },
    {
     "cell_type": "code",
     "collapsed": false,
     "input": [
      "context = Context()"
     ],
     "language": "python",
     "metadata": {},
     "outputs": [],
     "prompt_number": 4
    },
    {
     "cell_type": "code",
     "collapsed": false,
     "input": [
      "np.random.seed(0)\n",
      "\n",
      "df = pd.DataFrame([np.random.randint(10, size=10),\n",
      "                   np.random.randint(10, size=10)],\n",
      "                  index=['keys', 'values']).T\n",
      "ddf = DeviceDataFrame(df, context=context)\n",
      "\n",
      "ddf.df.T"
     ],
     "language": "python",
     "metadata": {},
     "outputs": [
      {
       "html": [
        "<div style=\"max-height:1000px;max-width:1500px;overflow:auto;\">\n",
        "<table border=\"1\" class=\"dataframe\">\n",
        "  <thead>\n",
        "    <tr style=\"text-align: right;\">\n",
        "      <th></th>\n",
        "      <th>0</th>\n",
        "      <th>1</th>\n",
        "      <th>2</th>\n",
        "      <th>3</th>\n",
        "      <th>4</th>\n",
        "      <th>5</th>\n",
        "      <th>6</th>\n",
        "      <th>7</th>\n",
        "      <th>8</th>\n",
        "      <th>9</th>\n",
        "    </tr>\n",
        "  </thead>\n",
        "  <tbody>\n",
        "    <tr>\n",
        "      <th>keys</th>\n",
        "      <td>5</td>\n",
        "      <td>0</td>\n",
        "      <td>3</td>\n",
        "      <td>3</td>\n",
        "      <td>7</td>\n",
        "      <td>9</td>\n",
        "      <td>3</td>\n",
        "      <td>5</td>\n",
        "      <td>2</td>\n",
        "      <td>4</td>\n",
        "    </tr>\n",
        "    <tr>\n",
        "      <th>values</th>\n",
        "      <td>7</td>\n",
        "      <td>6</td>\n",
        "      <td>8</td>\n",
        "      <td>8</td>\n",
        "      <td>1</td>\n",
        "      <td>6</td>\n",
        "      <td>7</td>\n",
        "      <td>7</td>\n",
        "      <td>8</td>\n",
        "      <td>1</td>\n",
        "    </tr>\n",
        "  </tbody>\n",
        "</table>\n",
        "</div>"
       ],
       "metadata": {},
       "output_type": "pyout",
       "prompt_number": 5,
       "text": [
        "        0  1  2  3  4  5  6  7  8  9\n",
        "keys    5  0  3  3  7  9  3  5  2  4\n",
        "values  7  6  8  8  1  6  7  7  8  1"
       ]
      }
     ],
     "prompt_number": 5
    },
    {
     "cell_type": "code",
     "collapsed": false,
     "input": [
      "g = GroupBy(ddf[ddf.columns], ['keys'], sort=False)"
     ],
     "language": "python",
     "metadata": {},
     "outputs": [
      {
       "output_type": "stream",
       "stream": "stdout",
       "text": [
        "\"/tmp/cythrust__md9DEq.pxd\" is not a file.\n"
       ]
      }
     ],
     "prompt_number": 6
    },
    {
     "cell_type": "code",
     "collapsed": false,
     "input": [
      "g.sort()"
     ],
     "language": "python",
     "metadata": {},
     "outputs": [],
     "prompt_number": 7
    },
    {
     "cell_type": "code",
     "collapsed": false,
     "input": [
      "%timeit g.get_reduce_func()"
     ],
     "language": "python",
     "metadata": {},
     "outputs": [
      {
       "output_type": "stream",
       "stream": "stdout",
       "text": [
        "10000 loops, best of 3: 31.8 \u00b5s per loop\n"
       ]
      }
     ],
     "prompt_number": 12
    },
    {
     "cell_type": "code",
     "collapsed": false,
     "input": [
      "from IPython.display import display\n",
      "from pandas.util.testing import assert_frame_equal\n",
      "\n",
      "\n",
      "N = 1e3\n",
      "np.random.seed(4)\n",
      "# Generate random input data: two key vectors, two value vectors.\n",
      "df_in = pd.DataFrame(np.random.randint(5, size=(4, N)).T,\n",
      "                     columns=['keys1', 'keys2',\n",
      "                              'values1', 'values2'],\n",
      "                     dtype='int64')\n",
      "# Limit keys to within the range $[0, 2]$ to guarantee key pair\n",
      "# duplicates within the input data (length 10).\n",
      "df_in[['keys1', 'keys2']] %= 3\n",
      "# Sort by keys.\n",
      "df_in.sort(['keys1', 'keys2'], inplace=True)\n",
      "# Initialize output data frame as 0.\n",
      "df_out = df_in.copy()\n",
      "df_out[:] = 0\n",
      "\n",
      "# Construct `DeviceDataFrame` for input frame and output frame.\n",
      "# Initialize data from corresponding host `pandas.DataFrame` instances.\n",
      "# __NB__ The `DeviceDataFrame` creates one `thrust::device_vector` for\n",
      "# each column in the frame.\n",
      "ddf_in = DeviceDataFrame(df_in)\n",
      "ddf_out = DeviceDataFrame(df_out)\n",
      "\n",
      "# Display input frame contents.\n",
      "if ddf_in.df.shape[0] < 20:\n",
      "    print 'Input'\n",
      "    display(ddf_in.df.T)\n",
      "\n",
      "# Compute sum by key using `cythrust` function.\n",
      "# __NB__ The `cythrust` function must be dynamically compiled based\n",
      "# on the types of keys, values, etc.  However, the `cythrust` function\n",
      "# may be compiled to target the GPU backend for significant speedups\n",
      "# where the input size reaches into the millions, with max performance\n",
      "# likely saturating in the tens of millions.\n",
      "func = g.get_reduce_func()\n",
      "key_count = func(\n",
      "    ddf_in.v['keys1'], ddf_in.v['keys2'],\n",
      "    ddf_in.v['values1'], ddf_in.v['values2'],\n",
      "    ddf_out.v['keys1'], ddf_out.v['keys2'],\n",
      "    ddf_out.v['values1'], ddf_out.v['values2'])\n",
      "\n",
      "# Compute sum by key using `pandas`.\n",
      "# __NB__ The `groupby` method of the `pandas.DataFrame` is generic\n",
      "# and works for all combinations of numeric types for keys and values.\n",
      "ref_out = df_in.groupby(['keys1', 'keys2']).sum().reset_index()\n",
      "\n",
      "# Display contents of output frames.\n",
      "if ddf_in.df.shape[0] < 20:\n",
      "    print '`pandas` output'\n",
      "    display(ref_out.T)\n",
      "    print '`cythrust` output'\n",
      "    display(ddf_out.df[:key_count].T)\n",
      "\n",
      "# Verify `cythrust` results against `pandas`.\n",
      "assert_frame_equal(ref_out, ddf_out.df[:key_count])"
     ],
     "language": "python",
     "metadata": {},
     "outputs": [],
     "prompt_number": 19
    },
    {
     "cell_type": "code",
     "collapsed": false,
     "input": [
      "%timeit accumulate_by_key_func(ddf_in.v['keys1'], ddf_in.v['keys2'], ddf_in.v['values1'], ddf_in.v['values2'], ddf_out.v['keys1'], ddf_out.v['keys2'], ddf_out.v['values1'], ddf_out.v['values2'])"
     ],
     "language": "python",
     "metadata": {},
     "outputs": [
      {
       "output_type": "stream",
       "stream": "stdout",
       "text": [
        "100 loops, best of 3: 2.22 ms per loop\n"
       ]
      }
     ],
     "prompt_number": 95
    },
    {
     "cell_type": "code",
     "collapsed": false,
     "input": [
      "%timeit df_in.groupby(['keys1', 'keys2']).sum()"
     ],
     "language": "python",
     "metadata": {},
     "outputs": [
      {
       "output_type": "stream",
       "stream": "stdout",
       "text": [
        "10 loops, best of 3: 51.3 ms per loop\n"
       ]
      }
     ],
     "prompt_number": 96
    }
   ],
   "metadata": {}
  }
 ]
}