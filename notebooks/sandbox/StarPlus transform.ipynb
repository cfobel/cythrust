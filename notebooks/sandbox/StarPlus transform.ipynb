{
 "metadata": {
  "name": "",
  "signature": "sha256:99d15301fb2bf2af1e9dd6a2bc8fa2d661f3cc3842c562b26264d53a30241095"
 },
 "nbformat": 3,
 "nbformat_minor": 0,
 "worksheets": [
  {
   "cells": [
    {
     "cell_type": "markdown",
     "metadata": {},
     "source": [
      "--------------------------------------------------"
     ]
    },
    {
     "cell_type": "heading",
     "level": 1,
     "metadata": {},
     "source": [
      "Demonstrate Star+ calculations using Cythrust"
     ]
    },
    {
     "cell_type": "code",
     "collapsed": false,
     "input": [
      "%matplotlib inline\n",
      "from IPython.display import display\n",
      "\n",
      "from collections import OrderedDict\n",
      "from datetime import datetime\n",
      "\n",
      "import pandas as pd\n",
      "import numpy as np\n",
      "from si_prefix import si_format\n",
      "import theano.tensor as T\n",
      "import cythrust as cy\n",
      "from theano_helpers import extract_op, ThrustCode, TypeNames, DataFlowGraph, theano, extract_node\n",
      "import nested_structures"
     ],
     "language": "python",
     "metadata": {},
     "outputs": [],
     "prompt_number": 1
    },
    {
     "cell_type": "heading",
     "level": 2,
     "metadata": {},
     "source": [
      "Create new Cythrust context"
     ]
    },
    {
     "cell_type": "markdown",
     "metadata": {},
     "source": [
      "Dynamically compiled data types are dependent on the context\n",
      "instance they are created with.  By explicitly creating a\n",
      "context, it may be shared among multiple data structures.  Otherwise,\n",
      "a new context will be created implicitly for each `DeviceDataFrame`."
     ]
    },
    {
     "cell_type": "code",
     "collapsed": false,
     "input": [
      "context = cy.Context()"
     ],
     "language": "python",
     "metadata": {},
     "outputs": [],
     "prompt_number": 2
    },
    {
     "cell_type": "code",
     "collapsed": false,
     "input": [
      "np.random.seed(0)\n",
      "block_count = 1e6\n",
      "edge_count = block_count * 2\n",
      "\n",
      "# Create a host `pandas.DataFrame` with source data.\n",
      "block_data = pd.DataFrame(OrderedDict([('x', np.random.randint(10, size=block_count)),\n",
      "                                       ('y', np.random.randint(10, size=block_count))])).astype('uint32')\n",
      "\n",
      "edge_data = pd.DataFrame(OrderedDict([('net_key', np.random.randint(10, size=edge_count)),\n",
      "                                      ('block_key', np.random.randint(block_count, size=edge_count))]))\n",
      "\n",
      "# Reassign nets keys in same order, but contiguous starting at zero.\n",
      "edge_data.sort('net_key', inplace=True)\n",
      "edge_data.loc[:, 'net_key'] = (edge_data['net_key'].diff() > 0).cumsum()\n",
      "net_count = edge_data.net_key.max() + 1\n",
      "\n",
      "# Use previously created Cythrust context to create a `DeviceDataFrame`\n",
      "# and initialize with contents from host `df`.\n",
      "ddf_block = cy.DeviceDataFrame(block_data, context=context)\n",
      "\n",
      "# Create data frame to store net edge data.\n",
      "ddf_edge = cy.DeviceDataFrame(edge_data, context=context)\n",
      "# Sort by net key then block key.\n",
      "ddf_edge.groupby(['net_key', 'block_key'])\n",
      "ddf_edge.add('block_x', dtype='uint32')\n",
      "ddf_edge.add('block_y', dtype='uint32')\n",
      "ddf_edge.add('block_x2', dtype='uint32')\n",
      "ddf_edge.add('block_y2', dtype='uint32')\n",
      "\n",
      "# Create data frame to store net edge:\n",
      "#\n",
      "#  - x/y reduction results.\n",
      "#  - counts (i.e., net cardinalities).\n",
      "ddf_sum = cy.DeviceDataFrame({'net_key': np.empty_like(edge_data.net_key)},\n",
      "                             context=context)\n",
      "ddf_sum.add('block_x_sum', dtype='uint32')\n",
      "ddf_sum.add('block_y_sum', dtype='uint32')\n",
      "ddf_sum.add('block_x2_sum', dtype='uint32')\n",
      "ddf_sum.add('block_y2_sum', dtype='uint32')\n",
      "ddf_sum.add('count', dtype='uint32')"
     ],
     "language": "python",
     "metadata": {},
     "outputs": [],
     "prompt_number": 70
    },
    {
     "cell_type": "code",
     "collapsed": false,
     "input": [
      "# Create data frame to store block edge data.\n",
      "ddf_block_edge = cy.DeviceDataFrame(ddf_edge[['block_key',\n",
      "                                               'net_key']].as_arrays(),\n",
      "                                     context=context)\n",
      "ddf_block_edge.add('edge_starplus', dtype='float32')\n",
      "# Sort by `block_key`, then `net_key`.\n",
      "ddf_block_edge.groupby(['block_key', 'net_key'])\n",
      "# Create `GroupBy` instance to reduce by `block_key`.\n",
      "block_groupby = ddf_block_edge.groupby('block_key', sort=False)"
     ],
     "language": "python",
     "metadata": {},
     "outputs": [],
     "prompt_number": 71
    },
    {
     "cell_type": "code",
     "collapsed": false,
     "input": [
      "# Create `GroupBy` instance to reduce by `net_key`.\n",
      "starplus_groupby = (ddf_edge[['net_key', 'block_x', 'block_y',\n",
      "                              'block_x2', 'block_y2']]\n",
      "                    .groupby('net_key', sort=False))"
     ],
     "language": "python",
     "metadata": {},
     "outputs": [],
     "prompt_number": 72
    },
    {
     "cell_type": "code",
     "collapsed": false,
     "input": [
      "# Create data frame to store:\n",
      "#\n",
      "#  - Reciprocal of cardinality of each net.\n",
      "#  - Star+ cost of each net.\n",
      "ddf_net = starplus_groupby.count()\n",
      "ddf_net.add('r_inv', dtype='float32')\n",
      "ddf_net.add('starplus', dtype='float32')"
     ],
     "language": "python",
     "metadata": {},
     "outputs": [],
     "prompt_number": 73
    },
    {
     "cell_type": "code",
     "collapsed": false,
     "input": [
      "# Compute net cardinality reciprocals.\n",
      "# **NB** Don't save intermediate transforms since the cardinalities are only computed\n",
      "# *once* at the start of placement.\n",
      "net_edge_count, r_inv = ddf_net.tensor(['count', 'r_inv'])\n",
      "ddf_net.transform({'r_inv': T.inv(T.cast(net_edge_count, 'float32'))}, out=ddf_net)"
     ],
     "language": "python",
     "metadata": {},
     "outputs": [
      {
       "output_type": "stream",
       "stream": "stdout",
       "text": [
        "\"/tmp/cythrust__zn13II.pxd\" is not a file.\n"
       ]
      },
      {
       "metadata": {},
       "output_type": "pyout",
       "prompt_number": 74,
       "text": [
        "<cythrust.DeviceDataFrame at 0x7ffa8e8a4f90>"
       ]
      }
     ],
     "prompt_number": 74
    },
    {
     "cell_type": "code",
     "collapsed": false,
     "input": [
      "# Create group combining block columns with edge columns.  This makes it possible\n",
      "# to perform cross-frame lookups using `take` transforms.\n",
      "dvg_combined = cy.join(ddf_block, ddf_edge)\n",
      "\n",
      "# Generate Theano tensor objects that correspond to the vector types for the\n",
      "# specified columns.  In this case, columns `x` and `y`.\n",
      "x, y, block_key, block_x, block_y = dvg_combined.tensor(['x', 'y', 'block_key',\n",
      "                                                         'block_x', 'block_y'])\n",
      "\n",
      "# Create two transformations using the tensor symbols from above.\n",
      "# __NB__ This step only *defines* the transform operations.  No \n",
      "# calculations are done at this point.\n",
      "transform_xy_lookup = OrderedDict([\n",
      "    ('block_x', x.take(block_key)),\n",
      "    ('block_y', y.take(block_key))])\n",
      "transform_x2y2 = OrderedDict([\n",
      "    ('block_x2', T.square(block_x)),\n",
      "    ('block_y2', T.square(block_y))])\n",
      "\n",
      "\n",
      "dvg_sum = ddf_sum[ddf_sum.columns[:-1]]\n",
      "# Create group combining intermediate net sum columns with net columns.\n",
      "# This makes it possible to use columns from both frames to compute Star+.\n",
      "dvg_starplus = cy.join(ddf_sum, ddf_net)\n",
      "\n",
      "# Generate Theano tensor objects that correspond to the vector types for the\n",
      "# specified columns.\n",
      "x_sum, y_sum, x2_sum, y2_sum = ddf_sum.tensor(['block_x_sum', 'block_y_sum',\n",
      "                                               'block_x2_sum', 'block_y2_sum'])\n",
      "# Create Star+ transformations using the tensor symbols from above and the\n",
      "# previously defined `r_inv` symbol.\n",
      "# __NB__ This step only *defines* the transform operation.  No calculations \n",
      "# are done at this point.\n",
      "transform_starplus = OrderedDict([\n",
      "    ('starplus',\n",
      "     1.59 * (T.sqrt(x2_sum - T.sqr(x_sum) * r_inv + 1) +\n",
      "             T.sqrt(y2_sum - T.sqr(y_sum) * r_inv + 1)))])"
     ],
     "language": "python",
     "metadata": {},
     "outputs": [],
     "prompt_number": 75
    },
    {
     "cell_type": "code",
     "collapsed": false,
     "input": [
      "dvg_net_block = cy.join(ddf_net['starplus'], ddf_block_edge)\n",
      "starplus, net_key, block_starplus = dvg_net_block.tensor(['starplus', 'net_key',\n",
      "                                                          'edge_starplus'])\n",
      "lookup_block_edge_starplus = OrderedDict([\n",
      "    ('take', starplus.take(net_key)),\n",
      "    ('put', block_starplus.take(T.arange(0)))\n",
      "])"
     ],
     "language": "python",
     "metadata": {},
     "outputs": [],
     "prompt_number": 76
    },
    {
     "cell_type": "code",
     "collapsed": false,
     "input": [
      "block_edge_groupby = ddf_block_edge[['block_key', 'edge_starplus']].groupby('block_key',\n",
      "                                                                            sort=False)\n",
      "ddf_block_costs = block_edge_groupby.agg('sum')"
     ],
     "language": "python",
     "metadata": {},
     "outputs": [],
     "prompt_number": 77
    },
    {
     "cell_type": "code",
     "collapsed": false,
     "input": [
      "def iteration():\n",
      "    # Look up `x` and `y` position for block connected to each edge.\n",
      "    dvg_combined.transform(transform_xy_lookup, out=dvg_combined)\n",
      "    # Compute `x^2` and `y^2` for each edge.\n",
      "    dvg_combined.transform(transform_x2y2, out=dvg_combined)\n",
      "    # Compute sum of `x`, `y`, `x^2`, and `y^2`, by net key.\n",
      "    starplus_groupby.agg('sum', out=dvg_sum, bounds_check=False)\n",
      "    # Compute Star+ cost for each net.\n",
      "    dvg_starplus.transform(transform_starplus, out=ddf_net)\n",
      "    dvg_net_block.scatter(ddf_block_edge.size,\n",
      "                          *lookup_block_edge_starplus.values())\n",
      "    block_edge_groupby.agg('sum', out=ddf_block_costs, bounds_check=False)\n",
      "    # display(ddf_block.df.T)\n",
      "    # display(ddf_edge.df.T)\n",
      "    # display(dvg_sum.df.T)\n",
      "    # display(ddf_net.df.T)\n",
      "\n",
      "#     return ddf_net.v['starplus'][:].sum()"
     ],
     "language": "python",
     "metadata": {},
     "outputs": [],
     "prompt_number": 78
    },
    {
     "cell_type": "code",
     "collapsed": false,
     "input": [
      "# %timeit iteration()\n",
      "%timeit iteration()\n",
      "# display(ddf_block.df.T)\n",
      "# display(ddf_edge.df.T)\n",
      "# display(dvg_sum.df.T)\n",
      "# display(ddf_net.df.T)\n",
      "# display(ddf_block_edge.df.T)"
     ],
     "language": "python",
     "metadata": {},
     "outputs": [
      {
       "output_type": "stream",
       "stream": "stdout",
       "text": [
        "10 loops, best of 3: 94.6 ms per loop\n"
       ]
      }
     ],
     "prompt_number": 81
    },
    {
     "cell_type": "code",
     "collapsed": false,
     "input": [
      "display(ddf_block_edge.df.T)\n",
      "display(ddf_block_starplus.df.T)"
     ],
     "language": "python",
     "metadata": {},
     "outputs": [
      {
       "html": [
        "<div style=\"max-height:1000px;max-width:1500px;overflow:auto;\">\n",
        "<table border=\"1\" class=\"dataframe\">\n",
        "  <thead>\n",
        "    <tr style=\"text-align: right;\">\n",
        "      <th></th>\n",
        "      <th>0</th>\n",
        "      <th>1</th>\n",
        "      <th>2</th>\n",
        "      <th>3</th>\n",
        "      <th>4</th>\n",
        "      <th>5</th>\n",
        "      <th>6</th>\n",
        "      <th>7</th>\n",
        "      <th>8</th>\n",
        "      <th>9</th>\n",
        "      <th>10</th>\n",
        "      <th>11</th>\n",
        "      <th>12</th>\n",
        "      <th>13</th>\n",
        "      <th>14</th>\n",
        "      <th>15</th>\n",
        "      <th>16</th>\n",
        "      <th>17</th>\n",
        "      <th>18</th>\n",
        "      <th>19</th>\n",
        "    </tr>\n",
        "  </thead>\n",
        "  <tbody>\n",
        "    <tr>\n",
        "      <th>block_key</th>\n",
        "      <td>0.000000</td>\n",
        "      <td>0.00</td>\n",
        "      <td>0.000000</td>\n",
        "      <td>1.00</td>\n",
        "      <td>2.000000</td>\n",
        "      <td>2.000000</td>\n",
        "      <td>3.000000</td>\n",
        "      <td>4.000000</td>\n",
        "      <td>4.000000</td>\n",
        "      <td>4.000000</td>\n",
        "      <td>4.000000</td>\n",
        "      <td>5.000000</td>\n",
        "      <td>5.000000</td>\n",
        "      <td>6.000000</td>\n",
        "      <td>7.000000</td>\n",
        "      <td>7.00</td>\n",
        "      <td>8.000000</td>\n",
        "      <td>9.000000</td>\n",
        "      <td>9.000000</td>\n",
        "      <td>9.000000</td>\n",
        "    </tr>\n",
        "    <tr>\n",
        "      <th>net_key</th>\n",
        "      <td>0.000000</td>\n",
        "      <td>2.00</td>\n",
        "      <td>7.000000</td>\n",
        "      <td>6.00</td>\n",
        "      <td>0.000000</td>\n",
        "      <td>5.000000</td>\n",
        "      <td>3.000000</td>\n",
        "      <td>0.000000</td>\n",
        "      <td>3.000000</td>\n",
        "      <td>3.000000</td>\n",
        "      <td>8.000000</td>\n",
        "      <td>1.000000</td>\n",
        "      <td>7.000000</td>\n",
        "      <td>3.000000</td>\n",
        "      <td>3.000000</td>\n",
        "      <td>4.00</td>\n",
        "      <td>3.000000</td>\n",
        "      <td>1.000000</td>\n",
        "      <td>5.000000</td>\n",
        "      <td>8.000000</td>\n",
        "    </tr>\n",
        "    <tr>\n",
        "      <th>edge_starplus</th>\n",
        "      <td>13.430271</td>\n",
        "      <td>3.18</td>\n",
        "      <td>6.717344</td>\n",
        "      <td>3.18</td>\n",
        "      <td>13.430271</td>\n",
        "      <td>9.976451</td>\n",
        "      <td>20.013924</td>\n",
        "      <td>13.430271</td>\n",
        "      <td>20.013924</td>\n",
        "      <td>20.013924</td>\n",
        "      <td>5.318881</td>\n",
        "      <td>11.684066</td>\n",
        "      <td>6.717344</td>\n",
        "      <td>20.013924</td>\n",
        "      <td>20.013924</td>\n",
        "      <td>3.18</td>\n",
        "      <td>20.013924</td>\n",
        "      <td>11.684066</td>\n",
        "      <td>9.976451</td>\n",
        "      <td>5.318881</td>\n",
        "    </tr>\n",
        "  </tbody>\n",
        "</table>\n",
        "</div>"
       ],
       "metadata": {},
       "output_type": "display_data",
       "text": [
        "                      0     1         2     3          4         5   \\\n",
        "block_key       0.000000  0.00  0.000000  1.00   2.000000  2.000000   \n",
        "net_key         0.000000  2.00  7.000000  6.00   0.000000  5.000000   \n",
        "edge_starplus  13.430271  3.18  6.717344  3.18  13.430271  9.976451   \n",
        "\n",
        "                      6          7          8          9         10  \\\n",
        "block_key       3.000000   4.000000   4.000000   4.000000  4.000000   \n",
        "net_key         3.000000   0.000000   3.000000   3.000000  8.000000   \n",
        "edge_starplus  20.013924  13.430271  20.013924  20.013924  5.318881   \n",
        "\n",
        "                      11        12         13         14    15         16  \\\n",
        "block_key       5.000000  5.000000   6.000000   7.000000  7.00   8.000000   \n",
        "net_key         1.000000  7.000000   3.000000   3.000000  4.00   3.000000   \n",
        "edge_starplus  11.684066  6.717344  20.013924  20.013924  3.18  20.013924   \n",
        "\n",
        "                      17        18        19  \n",
        "block_key       9.000000  9.000000  9.000000  \n",
        "net_key         1.000000  5.000000  8.000000  \n",
        "edge_starplus  11.684066  9.976451  5.318881  "
       ]
      },
      {
       "html": [
        "<div style=\"max-height:1000px;max-width:1500px;overflow:auto;\">\n",
        "<table border=\"1\" class=\"dataframe\">\n",
        "  <thead>\n",
        "    <tr style=\"text-align: right;\">\n",
        "      <th></th>\n",
        "      <th>0</th>\n",
        "      <th>1</th>\n",
        "      <th>2</th>\n",
        "      <th>3</th>\n",
        "      <th>4</th>\n",
        "      <th>5</th>\n",
        "      <th>6</th>\n",
        "      <th>7</th>\n",
        "      <th>8</th>\n",
        "      <th>9</th>\n",
        "    </tr>\n",
        "  </thead>\n",
        "  <tbody>\n",
        "    <tr>\n",
        "      <th>block_key</th>\n",
        "      <td>0.000000</td>\n",
        "      <td>1.00</td>\n",
        "      <td>2.000000</td>\n",
        "      <td>3.000000</td>\n",
        "      <td>4.000</td>\n",
        "      <td>5.000000</td>\n",
        "      <td>6.000000</td>\n",
        "      <td>7.000000</td>\n",
        "      <td>8.000000</td>\n",
        "      <td>9.000000</td>\n",
        "    </tr>\n",
        "    <tr>\n",
        "      <th>edge_starplus_sum</th>\n",
        "      <td>23.327616</td>\n",
        "      <td>3.18</td>\n",
        "      <td>23.406723</td>\n",
        "      <td>20.013924</td>\n",
        "      <td>58.777</td>\n",
        "      <td>18.401409</td>\n",
        "      <td>20.013924</td>\n",
        "      <td>23.193924</td>\n",
        "      <td>20.013924</td>\n",
        "      <td>26.979397</td>\n",
        "    </tr>\n",
        "  </tbody>\n",
        "</table>\n",
        "</div>"
       ],
       "metadata": {},
       "output_type": "display_data",
       "text": [
        "                           0     1          2          3       4          5  \\\n",
        "block_key           0.000000  1.00   2.000000   3.000000   4.000   5.000000   \n",
        "edge_starplus_sum  23.327616  3.18  23.406723  20.013924  58.777  18.401409   \n",
        "\n",
        "                           6          7          8          9  \n",
        "block_key           6.000000   7.000000   8.000000   9.000000  \n",
        "edge_starplus_sum  20.013924  23.193924  20.013924  26.979397  "
       ]
      }
     ],
     "prompt_number": 15
    },
    {
     "cell_type": "heading",
     "level": 3,
     "metadata": {},
     "source": [
      "Shuffle block positions"
     ]
    },
    {
     "cell_type": "code",
     "collapsed": false,
     "input": [
      "test = ddf_block.df\n",
      "display(test.T)\n",
      "np.random.shuffle(test.values)\n",
      "ddf_block.v['x'][:] = test.x.values\n",
      "ddf_block.v['y'][:] = test.y.values\n",
      "display(ddf_block.df.T)"
     ],
     "language": "python",
     "metadata": {},
     "outputs": [
      {
       "html": [
        "<div style=\"max-height:1000px;max-width:1500px;overflow:auto;\">\n",
        "<table border=\"1\" class=\"dataframe\">\n",
        "  <thead>\n",
        "    <tr style=\"text-align: right;\">\n",
        "      <th></th>\n",
        "      <th>0</th>\n",
        "      <th>1</th>\n",
        "      <th>2</th>\n",
        "      <th>3</th>\n",
        "      <th>4</th>\n",
        "      <th>5</th>\n",
        "      <th>6</th>\n",
        "      <th>7</th>\n",
        "      <th>8</th>\n",
        "      <th>9</th>\n",
        "    </tr>\n",
        "  </thead>\n",
        "  <tbody>\n",
        "    <tr>\n",
        "      <th>x</th>\n",
        "      <td>5</td>\n",
        "      <td>0</td>\n",
        "      <td>3</td>\n",
        "      <td>3</td>\n",
        "      <td>7</td>\n",
        "      <td>9</td>\n",
        "      <td>3</td>\n",
        "      <td>5</td>\n",
        "      <td>2</td>\n",
        "      <td>4</td>\n",
        "    </tr>\n",
        "    <tr>\n",
        "      <th>y</th>\n",
        "      <td>7</td>\n",
        "      <td>6</td>\n",
        "      <td>8</td>\n",
        "      <td>8</td>\n",
        "      <td>1</td>\n",
        "      <td>6</td>\n",
        "      <td>7</td>\n",
        "      <td>7</td>\n",
        "      <td>8</td>\n",
        "      <td>1</td>\n",
        "    </tr>\n",
        "  </tbody>\n",
        "</table>\n",
        "</div>"
       ],
       "metadata": {},
       "output_type": "display_data",
       "text": [
        "   0  1  2  3  4  5  6  7  8  9\n",
        "x  5  0  3  3  7  9  3  5  2  4\n",
        "y  7  6  8  8  1  6  7  7  8  1"
       ]
      },
      {
       "html": [
        "<div style=\"max-height:1000px;max-width:1500px;overflow:auto;\">\n",
        "<table border=\"1\" class=\"dataframe\">\n",
        "  <thead>\n",
        "    <tr style=\"text-align: right;\">\n",
        "      <th></th>\n",
        "      <th>0</th>\n",
        "      <th>1</th>\n",
        "      <th>2</th>\n",
        "      <th>3</th>\n",
        "      <th>4</th>\n",
        "      <th>5</th>\n",
        "      <th>6</th>\n",
        "      <th>7</th>\n",
        "      <th>8</th>\n",
        "      <th>9</th>\n",
        "    </tr>\n",
        "  </thead>\n",
        "  <tbody>\n",
        "    <tr>\n",
        "      <th>x</th>\n",
        "      <td>9</td>\n",
        "      <td>5</td>\n",
        "      <td>7</td>\n",
        "      <td>3</td>\n",
        "      <td>3</td>\n",
        "      <td>3</td>\n",
        "      <td>5</td>\n",
        "      <td>4</td>\n",
        "      <td>0</td>\n",
        "      <td>2</td>\n",
        "    </tr>\n",
        "    <tr>\n",
        "      <th>y</th>\n",
        "      <td>6</td>\n",
        "      <td>7</td>\n",
        "      <td>1</td>\n",
        "      <td>8</td>\n",
        "      <td>8</td>\n",
        "      <td>7</td>\n",
        "      <td>7</td>\n",
        "      <td>1</td>\n",
        "      <td>6</td>\n",
        "      <td>8</td>\n",
        "    </tr>\n",
        "  </tbody>\n",
        "</table>\n",
        "</div>"
       ],
       "metadata": {},
       "output_type": "display_data",
       "text": [
        "   0  1  2  3  4  5  6  7  8  9\n",
        "x  9  5  7  3  3  3  5  4  0  2\n",
        "y  6  7  1  8  8  7  7  1  6  8"
       ]
      }
     ],
     "prompt_number": 11
    },
    {
     "cell_type": "markdown",
     "metadata": {},
     "source": [
      "--------------------------------------------------"
     ]
    },
    {
     "cell_type": "markdown",
     "metadata": {},
     "source": [
      "## Scatter example ##\n",
      "\n",
      " - input: `starplus`\n",
      " - output: `net_starplus.take(net_key)`"
     ]
    },
    {
     "cell_type": "code",
     "collapsed": false,
     "input": [
      "np.random.seed(3)\n",
      "\n",
      "df_a = np.arange(5, dtype='uint32')\n",
      "df_b = np.arange(5, 10, dtype='uint32')\n",
      "df_c = np.random.randint(10, size=10).astype('uint32')\n",
      "df_d = np.random.randint(10, size=10).astype('uint32')\n",
      "\n",
      "ddf_a = cy.DeviceDataFrame({'a': df_a}, context=context)\n",
      "ddf_b = cy.DeviceDataFrame({'b': df_b}, context=context)\n",
      "ddf_c = cy.DeviceDataFrame({'c': df_c}, context=context)\n",
      "ddf_d = cy.DeviceDataFrame({'d': df_d}, context=context)\n",
      "abcd = cy.join(cy.join(cy.join(ddf_a, ddf_b), ddf_c), ddf_d)\n",
      "\n",
      "display(ddf_a.df.T)\n",
      "display(ddf_b.df.T)\n",
      "display(ddf_c.df.T)\n",
      "display(ddf_d.df.T)"
     ],
     "language": "python",
     "metadata": {},
     "outputs": [
      {
       "html": [
        "<div style=\"max-height:1000px;max-width:1500px;overflow:auto;\">\n",
        "<table border=\"1\" class=\"dataframe\">\n",
        "  <thead>\n",
        "    <tr style=\"text-align: right;\">\n",
        "      <th></th>\n",
        "      <th>0</th>\n",
        "      <th>1</th>\n",
        "      <th>2</th>\n",
        "      <th>3</th>\n",
        "      <th>4</th>\n",
        "    </tr>\n",
        "  </thead>\n",
        "  <tbody>\n",
        "    <tr>\n",
        "      <th>a</th>\n",
        "      <td>0</td>\n",
        "      <td>1</td>\n",
        "      <td>2</td>\n",
        "      <td>3</td>\n",
        "      <td>4</td>\n",
        "    </tr>\n",
        "  </tbody>\n",
        "</table>\n",
        "</div>"
       ],
       "metadata": {},
       "output_type": "display_data",
       "text": [
        "   0  1  2  3  4\n",
        "a  0  1  2  3  4"
       ]
      },
      {
       "html": [
        "<div style=\"max-height:1000px;max-width:1500px;overflow:auto;\">\n",
        "<table border=\"1\" class=\"dataframe\">\n",
        "  <thead>\n",
        "    <tr style=\"text-align: right;\">\n",
        "      <th></th>\n",
        "      <th>0</th>\n",
        "      <th>1</th>\n",
        "      <th>2</th>\n",
        "      <th>3</th>\n",
        "      <th>4</th>\n",
        "    </tr>\n",
        "  </thead>\n",
        "  <tbody>\n",
        "    <tr>\n",
        "      <th>b</th>\n",
        "      <td>5</td>\n",
        "      <td>6</td>\n",
        "      <td>7</td>\n",
        "      <td>8</td>\n",
        "      <td>9</td>\n",
        "    </tr>\n",
        "  </tbody>\n",
        "</table>\n",
        "</div>"
       ],
       "metadata": {},
       "output_type": "display_data",
       "text": [
        "   0  1  2  3  4\n",
        "b  5  6  7  8  9"
       ]
      },
      {
       "html": [
        "<div style=\"max-height:1000px;max-width:1500px;overflow:auto;\">\n",
        "<table border=\"1\" class=\"dataframe\">\n",
        "  <thead>\n",
        "    <tr style=\"text-align: right;\">\n",
        "      <th></th>\n",
        "      <th>0</th>\n",
        "      <th>1</th>\n",
        "      <th>2</th>\n",
        "      <th>3</th>\n",
        "      <th>4</th>\n",
        "      <th>5</th>\n",
        "      <th>6</th>\n",
        "      <th>7</th>\n",
        "      <th>8</th>\n",
        "      <th>9</th>\n",
        "    </tr>\n",
        "  </thead>\n",
        "  <tbody>\n",
        "    <tr>\n",
        "      <th>c</th>\n",
        "      <td>8</td>\n",
        "      <td>9</td>\n",
        "      <td>3</td>\n",
        "      <td>8</td>\n",
        "      <td>8</td>\n",
        "      <td>0</td>\n",
        "      <td>5</td>\n",
        "      <td>3</td>\n",
        "      <td>9</td>\n",
        "      <td>9</td>\n",
        "    </tr>\n",
        "  </tbody>\n",
        "</table>\n",
        "</div>"
       ],
       "metadata": {},
       "output_type": "display_data",
       "text": [
        "   0  1  2  3  4  5  6  7  8  9\n",
        "c  8  9  3  8  8  0  5  3  9  9"
       ]
      },
      {
       "html": [
        "<div style=\"max-height:1000px;max-width:1500px;overflow:auto;\">\n",
        "<table border=\"1\" class=\"dataframe\">\n",
        "  <thead>\n",
        "    <tr style=\"text-align: right;\">\n",
        "      <th></th>\n",
        "      <th>0</th>\n",
        "      <th>1</th>\n",
        "      <th>2</th>\n",
        "      <th>3</th>\n",
        "      <th>4</th>\n",
        "      <th>5</th>\n",
        "      <th>6</th>\n",
        "      <th>7</th>\n",
        "      <th>8</th>\n",
        "      <th>9</th>\n",
        "    </tr>\n",
        "  </thead>\n",
        "  <tbody>\n",
        "    <tr>\n",
        "      <th>d</th>\n",
        "      <td>5</td>\n",
        "      <td>7</td>\n",
        "      <td>6</td>\n",
        "      <td>0</td>\n",
        "      <td>4</td>\n",
        "      <td>7</td>\n",
        "      <td>8</td>\n",
        "      <td>1</td>\n",
        "      <td>6</td>\n",
        "      <td>2</td>\n",
        "    </tr>\n",
        "  </tbody>\n",
        "</table>\n",
        "</div>"
       ],
       "metadata": {},
       "output_type": "display_data",
       "text": [
        "   0  1  2  3  4  5  6  7  8  9\n",
        "d  5  7  6  0  4  7  8  1  6  2"
       ]
      }
     ],
     "prompt_number": 3
    },
    {
     "cell_type": "code",
     "collapsed": false,
     "input": [
      "a, b, c, d = abcd.tensor(list('abcd'))"
     ],
     "language": "python",
     "metadata": {},
     "outputs": [],
     "prompt_number": 26
    },
    {
     "cell_type": "code",
     "collapsed": false,
     "input": [
      "# ## Working ##\n",
      "abcd.scatter(ddf_d.size, T.arange(11, ddf_d.size + 11),\n",
      "             d.take(T.arange(0)))  # d[:] = np.arange(11, d.size + 11)\n",
      "# abcd.scatter(ddf_d.size, ddf_d.size - 1 - T.arange(ddf_d.size), d.take(T.arange(0)))  # d[:] = np.arange(ddf_d.size - 1, 0, -1)\n",
      "# abcd.scatter(ddf_d.size, c - c + 4.3, d.take(T.arange(0)))  # d[:] = 4.3\n",
      "# abcd.scatter(ddf_d.size, c.take(T.arange(0)), d.take(T.arange(0)))  # d[:] = c[:]\n",
      "\n",
      "# ## Compile error ##\n",
      "# abcd.scatter(ddf_d.size, c, d)  # d[:] = c[:]\n",
      "# abcd.scatter(ddf_d.size, 11, d)  # d[:] = 11\n",
      "# abcd.scatter(ddf_d.size, T.constant(11), d)  # d[:] = 11"
     ],
     "language": "python",
     "metadata": {},
     "outputs": [
      {
       "output_type": "stream",
       "stream": "stdout",
       "text": [
        "\"/tmp/cythrust__R8VjPn.pxd\" is not a file.\n"
       ]
      },
      {
       "metadata": {},
       "output_type": "pyout",
       "prompt_number": 27,
       "text": [
        "<cythrust.DeviceViewGroup at 0x7f22dc28e210>"
       ]
      }
     ],
     "prompt_number": 27
    },
    {
     "cell_type": "code",
     "collapsed": false,
     "input": [
      "display(ddf_a.df.T)\n",
      "display(ddf_b.df.T)\n",
      "display(ddf_c.df.T)\n",
      "display(ddf_d.df.T)"
     ],
     "language": "python",
     "metadata": {},
     "outputs": [
      {
       "html": [
        "<div style=\"max-height:1000px;max-width:1500px;overflow:auto;\">\n",
        "<table border=\"1\" class=\"dataframe\">\n",
        "  <thead>\n",
        "    <tr style=\"text-align: right;\">\n",
        "      <th></th>\n",
        "      <th>0</th>\n",
        "      <th>1</th>\n",
        "      <th>2</th>\n",
        "      <th>3</th>\n",
        "      <th>4</th>\n",
        "    </tr>\n",
        "  </thead>\n",
        "  <tbody>\n",
        "    <tr>\n",
        "      <th>a</th>\n",
        "      <td>0</td>\n",
        "      <td>1</td>\n",
        "      <td>2</td>\n",
        "      <td>3</td>\n",
        "      <td>4</td>\n",
        "    </tr>\n",
        "  </tbody>\n",
        "</table>\n",
        "</div>"
       ],
       "metadata": {},
       "output_type": "display_data",
       "text": [
        "   0  1  2  3  4\n",
        "a  0  1  2  3  4"
       ]
      },
      {
       "html": [
        "<div style=\"max-height:1000px;max-width:1500px;overflow:auto;\">\n",
        "<table border=\"1\" class=\"dataframe\">\n",
        "  <thead>\n",
        "    <tr style=\"text-align: right;\">\n",
        "      <th></th>\n",
        "      <th>0</th>\n",
        "      <th>1</th>\n",
        "      <th>2</th>\n",
        "      <th>3</th>\n",
        "      <th>4</th>\n",
        "    </tr>\n",
        "  </thead>\n",
        "  <tbody>\n",
        "    <tr>\n",
        "      <th>b</th>\n",
        "      <td>5</td>\n",
        "      <td>6</td>\n",
        "      <td>7</td>\n",
        "      <td>8</td>\n",
        "      <td>9</td>\n",
        "    </tr>\n",
        "  </tbody>\n",
        "</table>\n",
        "</div>"
       ],
       "metadata": {},
       "output_type": "display_data",
       "text": [
        "   0  1  2  3  4\n",
        "b  5  6  7  8  9"
       ]
      },
      {
       "html": [
        "<div style=\"max-height:1000px;max-width:1500px;overflow:auto;\">\n",
        "<table border=\"1\" class=\"dataframe\">\n",
        "  <thead>\n",
        "    <tr style=\"text-align: right;\">\n",
        "      <th></th>\n",
        "      <th>0</th>\n",
        "      <th>1</th>\n",
        "      <th>2</th>\n",
        "      <th>3</th>\n",
        "      <th>4</th>\n",
        "      <th>5</th>\n",
        "      <th>6</th>\n",
        "      <th>7</th>\n",
        "      <th>8</th>\n",
        "      <th>9</th>\n",
        "    </tr>\n",
        "  </thead>\n",
        "  <tbody>\n",
        "    <tr>\n",
        "      <th>c</th>\n",
        "      <td>8</td>\n",
        "      <td>9</td>\n",
        "      <td>3</td>\n",
        "      <td>8</td>\n",
        "      <td>8</td>\n",
        "      <td>0</td>\n",
        "      <td>5</td>\n",
        "      <td>3</td>\n",
        "      <td>9</td>\n",
        "      <td>9</td>\n",
        "    </tr>\n",
        "  </tbody>\n",
        "</table>\n",
        "</div>"
       ],
       "metadata": {},
       "output_type": "display_data",
       "text": [
        "   0  1  2  3  4  5  6  7  8  9\n",
        "c  8  9  3  8  8  0  5  3  9  9"
       ]
      },
      {
       "html": [
        "<div style=\"max-height:1000px;max-width:1500px;overflow:auto;\">\n",
        "<table border=\"1\" class=\"dataframe\">\n",
        "  <thead>\n",
        "    <tr style=\"text-align: right;\">\n",
        "      <th></th>\n",
        "      <th>0</th>\n",
        "      <th>1</th>\n",
        "      <th>2</th>\n",
        "      <th>3</th>\n",
        "      <th>4</th>\n",
        "      <th>5</th>\n",
        "      <th>6</th>\n",
        "      <th>7</th>\n",
        "      <th>8</th>\n",
        "      <th>9</th>\n",
        "    </tr>\n",
        "  </thead>\n",
        "  <tbody>\n",
        "    <tr>\n",
        "      <th>d</th>\n",
        "      <td>11</td>\n",
        "      <td>12</td>\n",
        "      <td>13</td>\n",
        "      <td>14</td>\n",
        "      <td>15</td>\n",
        "      <td>16</td>\n",
        "      <td>17</td>\n",
        "      <td>18</td>\n",
        "      <td>19</td>\n",
        "      <td>20</td>\n",
        "    </tr>\n",
        "  </tbody>\n",
        "</table>\n",
        "</div>"
       ],
       "metadata": {},
       "output_type": "display_data",
       "text": [
        "    0   1   2   3   4   5   6   7   8   9\n",
        "d  11  12  13  14  15  16  17  18  19  20"
       ]
      }
     ],
     "prompt_number": 28
    },
    {
     "cell_type": "markdown",
     "metadata": {},
     "source": [
      "--------------------------------------------------"
     ]
    },
    {
     "cell_type": "heading",
     "level": 1,
     "metadata": {},
     "source": [
      "TODO"
     ]
    },
    {
     "cell_type": "markdown",
     "metadata": {},
     "source": [
      " - Write `scatter` method for `DeviceViewGroup` based on scatter example.\n",
      "   * API - scatter one (or more) theano expression(s) to another set of expressions of the\n",
      "     same length.\n",
      "   \n",
      "         view_group.scatter([b.take(a), c.take(a)], [d.take(a), e.take(a)])\n",
      "\n",
      "   * Can we infer the size of the output?\n",
      " - Write `reduce` method to apply one or more reductions (i.e., `sum`, `min`, `max`, etc.).\n",
      " - Write `scan` method (inclusive and exclusive)."
     ]
    }
   ],
   "metadata": {}
  }
 ]
}