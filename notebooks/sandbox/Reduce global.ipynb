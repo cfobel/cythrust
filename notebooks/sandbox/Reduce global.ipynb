{
 "metadata": {
  "name": "",
  "signature": "sha256:e532f5e78c62377c536ab9af6796650f709867b712658d1c6bb066f95020cad0"
 },
 "nbformat": 3,
 "nbformat_minor": 0,
 "worksheets": [
  {
   "cells": [
    {
     "cell_type": "markdown",
     "metadata": {},
     "source": [
      "--------------------------------------------------"
     ]
    },
    {
     "cell_type": "heading",
     "level": 1,
     "metadata": {},
     "source": [
      "Demonstrate Star+ calculations using Cythrust"
     ]
    },
    {
     "cell_type": "code",
     "collapsed": false,
     "input": [
      "%matplotlib inline\n",
      "from IPython.display import display\n",
      "\n",
      "from collections import OrderedDict\n",
      "from datetime import datetime\n",
      "\n",
      "import jinja2\n",
      "import pandas as pd\n",
      "import numpy as np\n",
      "from si_prefix import si_format\n",
      "import theano.tensor as T\n",
      "import cythrust as cy\n",
      "from theano_helpers import extract_op, ThrustCode, TypeNames, DataFlowGraph, theano, extract_node\n",
      "import nested_structures"
     ],
     "language": "python",
     "metadata": {},
     "outputs": [],
     "prompt_number": 1
    },
    {
     "cell_type": "code",
     "collapsed": false,
     "input": [
      "context = cy.Context()"
     ],
     "language": "python",
     "metadata": {},
     "outputs": [],
     "prompt_number": 2
    },
    {
     "cell_type": "code",
     "collapsed": false,
     "input": [
      "np.random.seed(0)\n",
      "block_count = 1e1\n",
      "\n",
      "# Create a host `pandas.DataFrame` with source data.\n",
      "block_data = pd.DataFrame(OrderedDict([('x', np.random.randint(10, size=block_count)),\n",
      "                                       ('y', np.random.randint(10, size=block_count))])).astype('uint32')\n",
      "\n",
      "# Use previously created Cythrust context to create a `DeviceDataFrame`\n",
      "# and initialize with contents from host `df`.\n",
      "ddf_block = cy.DeviceDataFrame(block_data, context=context)\n",
      "\n",
      "x, y = ddf_block.tensor(list('xy'))\n",
      "operations = [x.take(T.arange(0))]  #, y.take(T.arange(0))]\n",
      "\n",
      "transforms = [ddf_block._context.build_transform(t, 'reduce%s' %\n",
      "                                                 hash(t))\n",
      "              for t in operations]"
     ],
     "language": "python",
     "metadata": {},
     "outputs": [],
     "prompt_number": 3
    },
    {
     "cell_type": "code",
     "collapsed": false,
     "input": [
      "REDUCE_SETUP_TEMPLATE = '''\n",
      "from cython.operator cimport dereference as deref, preincrement as inc\n",
      "from cythrust.thrust.iterator.zip_iterator cimport make_zip_iterator, zip_iterator\n",
      "from cythrust.thrust.tuple cimport (make_tuple2, make_tuple3, make_tuple4,\n",
      "                                    make_tuple5, make_tuple6, make_tuple7,\n",
      "                                    tuple2, tuple3, tuple4,\n",
      "                                    tuple5, tuple6, tuple7)\n",
      "from cythrust.thrust.reduce cimport reduce_n\n",
      "from cythrust.thrust.copy cimport copy_n\n",
      "\n",
      "{% for t in transforms %}\n",
      "from {{ t.functor_name }}.{{ t.functor_name }} cimport {{ t.functor_name }}\n",
      "{% endfor %}\n",
      "ctypedef {% if transforms|length > 1 %}tuple{{ transforms|length }}[{% endif %}\n",
      "{%- for t in transforms -%}\n",
      "{{ t.functor_name }}.iterator\n",
      "{%- if not loop.last %}, {% endif -%}\n",
      "{% endfor -%}\n",
      "{% if transforms|length > 1 %}]{% endif %} input_tuple\n",
      "ctypedef zip_iterator[input_tuple] input_iterator\n",
      "\n",
      "# Functors\n",
      "from cythrust.thrust.functional cimport {% for op in reduce_ops -%}\n",
      "{{ op }}\n",
      "{%- if not loop.last %}, {% endif -%}\n",
      "{% endfor -%}\n",
      "{%- if transforms|length > 1 %}, reduce{{ transforms|length }}{% endif %}\n",
      "'''\n",
      "\n",
      "REDUCE_TEMPLATE = '''\n",
      "{% for t in transforms %}\n",
      "    cdef {{ t.functor_name }} *op_{{ loop.index }} = new {{ t.functor_name }}(\n",
      "    {%- for column in t.thrust_code.graph_inputs -%}\n",
      "    <{{ t.functor_name }}.{{ column }}_t>{{ column }}._begin\n",
      "    {%- if not loop.last %}, {% endif -%}\n",
      "    {% endfor %})\n",
      "{% endfor %}\n",
      "\n",
      "    cdef \n",
      "{%- if transforms|length > 1 %} reduce{{ transforms|length }}[{% endif %}\n",
      "{%- for t in transforms %} {{ reduce_ops[loop.index0] }}[{{ t.dfg.operation_graph.owner.out.dtype }}_t] \n",
      "    {%- if not loop.last %}, {% endif -%}\n",
      "{% endfor %}\n",
      "{%- if transforms|length > 1 %}]{% endif %} *reduce_op = new \n",
      "{%- if transforms|length > 1 %} reduce{{ transforms|length }}[{% endif %}\n",
      "{%- for t in transforms %} {{ reduce_ops[loop.index0] }}[{{ t.dfg.operation_graph.owner.out.dtype }}_t] \n",
      "    {%- if not loop.last %}, {% endif -%}\n",
      "{% endfor %}\n",
      "{%- if transforms|length > 1 %}]{% endif %}()\n",
      "\n",
      "    cdef {{ transforms[0].dfg.operation_graph.owner.out.dtype }}_t result = reduce_n(op_1.begin(), N, 0, deref(reduce_op))\n",
      "\n",
      "    del op_1\n",
      "    del reduce_op\n",
      "    return result\n",
      "'''"
     ],
     "language": "python",
     "metadata": {},
     "outputs": [],
     "prompt_number": 4
    },
    {
     "cell_type": "code",
     "collapsed": false,
     "input": [
      "self = ddf_block\n",
      "\n",
      "reduce_ops = ['multiplies'] * len(transforms)\n",
      "# init_values = [(1 << 32) - 1] * len(transforms)\n",
      "init_values = [1] * len(transforms)\n",
      "\n",
      "setup = (jinja2.Template(REDUCE_SETUP_TEMPLATE)\n",
      "         .render(transforms=transforms,\n",
      "                 reduce_ops=reduce_ops))\n",
      "                 \n",
      "code = (jinja2.Template(REDUCE_TEMPLATE)\n",
      "        .render(transforms=transforms,\n",
      "                reduce_ops=reduce_ops))\n",
      "\n",
      "include_dirs = np.concatenate([t.get_includes()\n",
      "                               for t in transforms]).tolist()\n",
      "\n",
      "reduce_func = self.inline_func(self.columns, include_dirs=include_dirs,\n",
      "                               setup=setup, code=code,   # verbose=True,\n",
      "                               context=dict(preargs='size_t N, '))\n",
      "display(reduce_func(self.size, *self.v.values()))\n",
      "display(self.df['x'].describe())"
     ],
     "language": "python",
     "metadata": {},
     "outputs": [
      {
       "output_type": "stream",
       "stream": "stdout",
       "text": [
        "\"/tmp/cythrust__ks22YD.pxd\" is not a file.\n"
       ]
      },
      {
       "metadata": {},
       "output_type": "display_data",
       "text": [
        "0"
       ]
      },
      {
       "metadata": {},
       "output_type": "display_data",
       "text": [
        "count    10.000000\n",
        "mean      4.100000\n",
        "std       2.558211\n",
        "min       0.000000\n",
        "25%       3.000000\n",
        "50%       3.500000\n",
        "75%       5.000000\n",
        "max       9.000000\n",
        "Name: x, dtype: float64"
       ]
      }
     ],
     "prompt_number": 5
    },
    {
     "cell_type": "markdown",
     "metadata": {},
     "source": [
      "--------------------------------------------------"
     ]
    }
   ],
   "metadata": {}
  }
 ]
}